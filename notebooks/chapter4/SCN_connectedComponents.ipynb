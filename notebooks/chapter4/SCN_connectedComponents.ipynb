{
 "cells": [
  {
   "cell_type": "markdown",
   "metadata": {},
   "source": [
    "## Building Network Models\n",
    "# UB Species-collectors Network\n",
    "### Connected Components"
   ]
  },
  {
   "cell_type": "markdown",
   "metadata": {},
   "source": [
    "---"
   ]
  },
  {
   "cell_type": "code",
   "execution_count": 1,
   "metadata": {
    "collapsed": true
   },
   "outputs": [],
   "source": [
    "# Setting paths\n",
    "import sys,os\n",
    "import pathlib\n",
    "sys.path.insert(0,os.path.expanduser('~/caryocar'))\n",
    "sys.path.insert(0,os.path.abspath('..'))"
   ]
  },
  {
   "cell_type": "code",
   "execution_count": 2,
   "metadata": {
    "collapsed": true
   },
   "outputs": [],
   "source": [
    "# Building the networks from data\n",
    "from setupmodels import scn\n",
    "from setupmodels import occs\n",
    "from setupmodels import ni"
   ]
  },
  {
   "cell_type": "code",
   "execution_count": 3,
   "metadata": {
    "collapsed": true
   },
   "outputs": [],
   "source": [
    "# Importing libraries for analysis\n",
    "import numpy as np\n",
    "import networkx as nx\n",
    "import pandas as pd\n",
    "import matplotlib.pyplot as plt\n",
    "\n",
    "%matplotlib inline"
   ]
  },
  {
   "cell_type": "markdown",
   "metadata": {},
   "source": [
    "---"
   ]
  },
  {
   "cell_type": "markdown",
   "metadata": {},
   "source": [
    "First, let's get the connected components, ordered by number of nodes. There are a total of $351$ connected components."
   ]
  },
  {
   "cell_type": "code",
   "execution_count": 4,
   "metadata": {
    "collapsed": true
   },
   "outputs": [],
   "source": [
    "# Connected components ordered by number of nodes\n",
    "connected_components = [ cc for cc in sorted(scn.connectedComponentsSubgraphs(), key=lambda x: x.number_of_nodes(), reverse=True) ]"
   ]
  },
  {
   "cell_type": "code",
   "execution_count": 5,
   "metadata": {},
   "outputs": [
    {
     "name": "stdout",
     "output_type": "stream",
     "text": [
      "Component 1: 146807 records, 21091 nodes (6334 collectors + 14757 species)\n",
      "Component 2: 5013 records, 144 nodes (3 collectors + 141 species)\n",
      "Component 3: 5 records, 11 nodes (6 collectors + 5 species)\n",
      "Component 4: 7 records, 9 nodes (2 collectors + 7 species)\n",
      "Component 5: 5 records, 8 nodes (3 collectors + 5 species)\n",
      "Component 6: 8 records, 8 nodes (1 collectors + 7 species)\n",
      "Component 7: 6 records, 8 nodes (3 collectors + 5 species)\n",
      "Component 8: 8 records, 8 nodes (4 collectors + 4 species)\n",
      "Component 9: 7 records, 8 nodes (1 collectors + 7 species)\n",
      "Component 10: 5 records, 7 nodes (3 collectors + 4 species)\n",
      "Component 11: 13 records, 7 nodes (2 collectors + 5 species)\n",
      "Component 12: 5 records, 6 nodes (1 collectors + 5 species)\n",
      "Component 13: 5 records, 6 nodes (1 collectors + 5 species)\n",
      "Component 14: 5 records, 6 nodes (3 collectors + 3 species)\n",
      "Component 15: 4 records, 6 nodes (4 collectors + 2 species)\n",
      "Component 16: 5 records, 6 nodes (1 collectors + 5 species)\n",
      "Component 17: 4 records, 5 nodes (1 collectors + 4 species)\n",
      "Component 18: 4 records, 5 nodes (1 collectors + 4 species)\n",
      "Component 19: 3 records, 5 nodes (3 collectors + 2 species)\n",
      "Component 20: 2 records, 5 nodes (3 collectors + 2 species)\n",
      "Component 21: 4 records, 5 nodes (2 collectors + 3 species)\n",
      "Component 22: 9 records, 5 nodes (2 collectors + 3 species)\n",
      "Component 23: 4 records, 5 nodes (1 collectors + 4 species)\n",
      "Component 24: 3 records, 5 nodes (2 collectors + 3 species)\n",
      "Component 25: 1 records, 5 nodes (4 collectors + 1 species)\n",
      "Component 26: 3 records, 4 nodes (1 collectors + 3 species)\n",
      "Component 27: 1 records, 4 nodes (3 collectors + 1 species)\n",
      "Component 28: 3 records, 4 nodes (2 collectors + 2 species)\n",
      "Component 29: 3 records, 4 nodes (2 collectors + 2 species)\n",
      "Component 30: 2 records, 4 nodes (3 collectors + 1 species)\n",
      "Component 31: 2 records, 4 nodes (2 collectors + 2 species)\n",
      "Component 32: 1 records, 4 nodes (3 collectors + 1 species)\n",
      "Component 33: 3 records, 4 nodes (1 collectors + 3 species)\n",
      "Component 34: 1 records, 4 nodes (3 collectors + 1 species)\n",
      "Component 35: 3 records, 4 nodes (1 collectors + 3 species)\n",
      "Component 36: 2 records, 4 nodes (2 collectors + 2 species)\n",
      "Component 37: 2 records, 4 nodes (2 collectors + 2 species)\n",
      "Component 38: 1 records, 4 nodes (3 collectors + 1 species)\n",
      "Component 39: 2 records, 4 nodes (2 collectors + 2 species)\n",
      "Component 40: 1 records, 3 nodes (2 collectors + 1 species)\n",
      "Component 41: 2 records, 3 nodes (1 collectors + 2 species)\n",
      "Component 42: 1 records, 3 nodes (2 collectors + 1 species)\n",
      "Component 43: 2 records, 3 nodes (2 collectors + 1 species)\n",
      "Component 44: 1 records, 3 nodes (2 collectors + 1 species)\n",
      "Component 45: 2 records, 3 nodes (1 collectors + 2 species)\n",
      "Component 46: 2 records, 3 nodes (2 collectors + 1 species)\n",
      "Component 47: 1 records, 3 nodes (2 collectors + 1 species)\n",
      "Component 48: 2 records, 3 nodes (1 collectors + 2 species)\n",
      "Component 49: 1 records, 3 nodes (2 collectors + 1 species)\n",
      "Component 50: 1 records, 3 nodes (2 collectors + 1 species)\n",
      "Component 51: 2 records, 3 nodes (2 collectors + 1 species)\n",
      "Component 52: 1 records, 3 nodes (2 collectors + 1 species)\n",
      "Component 53: 1 records, 3 nodes (2 collectors + 1 species)\n",
      "Component 54: 2 records, 3 nodes (1 collectors + 2 species)\n",
      "Component 55: 4 records, 3 nodes (1 collectors + 2 species)\n",
      "Component 56: 2 records, 3 nodes (2 collectors + 1 species)\n",
      "Component 57: 1 records, 3 nodes (2 collectors + 1 species)\n",
      "Component 58: 1 records, 3 nodes (2 collectors + 1 species)\n",
      "Component 59: 1 records, 3 nodes (2 collectors + 1 species)\n",
      "Component 60: 2 records, 3 nodes (2 collectors + 1 species)\n",
      "Component 61: 1 records, 3 nodes (2 collectors + 1 species)\n",
      "Component 62: 3 records, 3 nodes (1 collectors + 2 species)\n",
      "Component 63: 1 records, 3 nodes (2 collectors + 1 species)\n",
      "Component 64: 1 records, 3 nodes (2 collectors + 1 species)\n",
      "Component 65: 1 records, 3 nodes (2 collectors + 1 species)\n",
      "Component 66: 1 records, 3 nodes (2 collectors + 1 species)\n",
      "Component 67: 1 records, 3 nodes (2 collectors + 1 species)\n",
      "Component 68: 2 records, 3 nodes (1 collectors + 2 species)\n",
      "Component 69: 2 records, 3 nodes (1 collectors + 2 species)\n",
      "Component 70: 2 records, 3 nodes (1 collectors + 2 species)\n",
      "Component 71: 1 records, 3 nodes (2 collectors + 1 species)\n",
      "Component 72: 2 records, 3 nodes (1 collectors + 2 species)\n",
      "Component 73: 1 records, 3 nodes (2 collectors + 1 species)\n",
      "Component 74: 2 records, 3 nodes (1 collectors + 2 species)\n",
      "Component 75: 1 records, 3 nodes (2 collectors + 1 species)\n",
      "Component 76: 1 records, 3 nodes (2 collectors + 1 species)\n",
      "Component 77: 2 records, 3 nodes (2 collectors + 1 species)\n",
      "Component 78: 2 records, 3 nodes (2 collectors + 1 species)\n",
      "Component 79: 3 records, 3 nodes (2 collectors + 1 species)\n",
      "Component 80: 1 records, 3 nodes (2 collectors + 1 species)\n",
      "Component 81: 1 records, 3 nodes (2 collectors + 1 species)\n",
      "Component 82: 2 records, 3 nodes (1 collectors + 2 species)\n",
      "Component 83: 1 records, 3 nodes (2 collectors + 1 species)\n",
      "Component 84: 2 records, 3 nodes (1 collectors + 2 species)\n",
      "Component 85: 1 records, 3 nodes (2 collectors + 1 species)\n",
      "Component 86: 1 records, 3 nodes (2 collectors + 1 species)\n",
      "Component 87: 2 records, 3 nodes (2 collectors + 1 species)\n",
      "Component 88: 1 records, 2 nodes (1 collectors + 1 species)\n",
      "Component 89: 1 records, 2 nodes (1 collectors + 1 species)\n",
      "Component 90: 1 records, 2 nodes (1 collectors + 1 species)\n",
      "Component 91: 1 records, 2 nodes (1 collectors + 1 species)\n",
      "Component 92: 1 records, 2 nodes (1 collectors + 1 species)\n",
      "Component 93: 1 records, 2 nodes (1 collectors + 1 species)\n",
      "Component 94: 1 records, 2 nodes (1 collectors + 1 species)\n",
      "Component 95: 1 records, 2 nodes (1 collectors + 1 species)\n",
      "Component 96: 1 records, 2 nodes (1 collectors + 1 species)\n",
      "Component 97: 1 records, 2 nodes (1 collectors + 1 species)\n",
      "Component 98: 1 records, 2 nodes (1 collectors + 1 species)\n",
      "Component 99: 1 records, 2 nodes (1 collectors + 1 species)\n",
      "Component 100: 1 records, 2 nodes (1 collectors + 1 species)\n",
      "Component 101: 1 records, 2 nodes (1 collectors + 1 species)\n",
      "Component 102: 1 records, 2 nodes (1 collectors + 1 species)\n",
      "Component 103: 1 records, 2 nodes (1 collectors + 1 species)\n",
      "Component 104: 1 records, 2 nodes (1 collectors + 1 species)\n",
      "Component 105: 1 records, 2 nodes (1 collectors + 1 species)\n",
      "Component 106: 1 records, 2 nodes (1 collectors + 1 species)\n",
      "Component 107: 1 records, 2 nodes (1 collectors + 1 species)\n",
      "Component 108: 1 records, 2 nodes (1 collectors + 1 species)\n",
      "Component 109: 1 records, 2 nodes (1 collectors + 1 species)\n",
      "Component 110: 1 records, 2 nodes (1 collectors + 1 species)\n",
      "Component 111: 2 records, 2 nodes (1 collectors + 1 species)\n",
      "Component 112: 1 records, 2 nodes (1 collectors + 1 species)\n",
      "Component 113: 1 records, 2 nodes (1 collectors + 1 species)\n",
      "Component 114: 1 records, 2 nodes (1 collectors + 1 species)\n",
      "Component 115: 1 records, 2 nodes (1 collectors + 1 species)\n",
      "Component 116: 1 records, 2 nodes (1 collectors + 1 species)\n",
      "Component 117: 4 records, 2 nodes (1 collectors + 1 species)\n",
      "Component 118: 1 records, 2 nodes (1 collectors + 1 species)\n",
      "Component 119: 2 records, 2 nodes (1 collectors + 1 species)\n",
      "Component 120: 1 records, 2 nodes (1 collectors + 1 species)\n",
      "Component 121: 1 records, 2 nodes (1 collectors + 1 species)\n",
      "Component 122: 1 records, 2 nodes (1 collectors + 1 species)\n",
      "Component 123: 1 records, 2 nodes (1 collectors + 1 species)\n",
      "Component 124: 1 records, 2 nodes (1 collectors + 1 species)\n",
      "Component 125: 1 records, 2 nodes (1 collectors + 1 species)\n",
      "Component 126: 1 records, 2 nodes (1 collectors + 1 species)\n",
      "Component 127: 1 records, 2 nodes (1 collectors + 1 species)\n",
      "Component 128: 1 records, 2 nodes (1 collectors + 1 species)\n",
      "Component 129: 1 records, 2 nodes (1 collectors + 1 species)\n",
      "Component 130: 1 records, 2 nodes (1 collectors + 1 species)\n",
      "Component 131: 1 records, 2 nodes (1 collectors + 1 species)\n",
      "Component 132: 1 records, 2 nodes (1 collectors + 1 species)\n",
      "Component 133: 1 records, 2 nodes (1 collectors + 1 species)\n",
      "Component 134: 1 records, 2 nodes (1 collectors + 1 species)\n",
      "Component 135: 1 records, 2 nodes (1 collectors + 1 species)\n",
      "Component 136: 1 records, 2 nodes (1 collectors + 1 species)\n",
      "Component 137: 1 records, 2 nodes (1 collectors + 1 species)\n",
      "Component 138: 1 records, 2 nodes (1 collectors + 1 species)\n",
      "Component 139: 1 records, 2 nodes (1 collectors + 1 species)\n",
      "Component 140: 1 records, 2 nodes (1 collectors + 1 species)\n",
      "Component 141: 1 records, 2 nodes (1 collectors + 1 species)\n",
      "Component 142: 4 records, 2 nodes (1 collectors + 1 species)\n",
      "Component 143: 1 records, 2 nodes (1 collectors + 1 species)\n",
      "Component 144: 1 records, 2 nodes (1 collectors + 1 species)\n",
      "Component 145: 1 records, 2 nodes (1 collectors + 1 species)\n",
      "Component 146: 1 records, 2 nodes (1 collectors + 1 species)\n",
      "Component 147: 2 records, 2 nodes (1 collectors + 1 species)\n",
      "Component 148: 1 records, 2 nodes (1 collectors + 1 species)\n",
      "Component 149: 1 records, 2 nodes (1 collectors + 1 species)\n",
      "Component 150: 1 records, 2 nodes (1 collectors + 1 species)\n",
      "Component 151: 1 records, 2 nodes (1 collectors + 1 species)\n",
      "Component 152: 1 records, 2 nodes (1 collectors + 1 species)\n",
      "Component 153: 1 records, 2 nodes (1 collectors + 1 species)\n",
      "Component 154: 1 records, 2 nodes (1 collectors + 1 species)\n",
      "Component 155: 1 records, 2 nodes (1 collectors + 1 species)\n",
      "Component 156: 1 records, 2 nodes (1 collectors + 1 species)\n",
      "Component 157: 1 records, 2 nodes (1 collectors + 1 species)\n",
      "Component 158: 1 records, 2 nodes (1 collectors + 1 species)\n",
      "Component 159: 1 records, 2 nodes (1 collectors + 1 species)\n",
      "Component 160: 1 records, 2 nodes (1 collectors + 1 species)\n",
      "Component 161: 1 records, 2 nodes (1 collectors + 1 species)\n",
      "Component 162: 1 records, 2 nodes (1 collectors + 1 species)\n",
      "Component 163: 1 records, 2 nodes (1 collectors + 1 species)\n",
      "Component 164: 1 records, 2 nodes (1 collectors + 1 species)\n",
      "Component 165: 1 records, 2 nodes (1 collectors + 1 species)\n",
      "Component 166: 1 records, 2 nodes (1 collectors + 1 species)\n",
      "Component 167: 1 records, 2 nodes (1 collectors + 1 species)\n",
      "Component 168: 1 records, 2 nodes (1 collectors + 1 species)\n",
      "Component 169: 1 records, 2 nodes (1 collectors + 1 species)\n",
      "Component 170: 1 records, 2 nodes (1 collectors + 1 species)\n",
      "Component 171: 1 records, 2 nodes (1 collectors + 1 species)\n",
      "Component 172: 1 records, 2 nodes (1 collectors + 1 species)\n",
      "Component 173: 1 records, 2 nodes (1 collectors + 1 species)\n",
      "Component 174: 2 records, 2 nodes (1 collectors + 1 species)\n",
      "Component 175: 1 records, 2 nodes (1 collectors + 1 species)\n",
      "Component 176: 1 records, 2 nodes (1 collectors + 1 species)\n",
      "Component 177: 1 records, 2 nodes (1 collectors + 1 species)\n",
      "Component 178: 1 records, 2 nodes (1 collectors + 1 species)\n",
      "Component 179: 1 records, 2 nodes (1 collectors + 1 species)\n",
      "Component 180: 1 records, 2 nodes (1 collectors + 1 species)\n",
      "Component 181: 1 records, 2 nodes (1 collectors + 1 species)\n",
      "Component 182: 1 records, 2 nodes (1 collectors + 1 species)\n",
      "Component 183: 1 records, 2 nodes (1 collectors + 1 species)\n",
      "Component 184: 1 records, 2 nodes (1 collectors + 1 species)\n",
      "Component 185: 1 records, 2 nodes (1 collectors + 1 species)\n",
      "Component 186: 2 records, 2 nodes (1 collectors + 1 species)\n",
      "Component 187: 1 records, 2 nodes (1 collectors + 1 species)\n",
      "Component 188: 1 records, 2 nodes (1 collectors + 1 species)\n",
      "Component 189: 1 records, 2 nodes (1 collectors + 1 species)\n",
      "Component 190: 1 records, 2 nodes (1 collectors + 1 species)\n",
      "Component 191: 1 records, 2 nodes (1 collectors + 1 species)\n",
      "Component 192: 1 records, 2 nodes (1 collectors + 1 species)\n",
      "Component 193: 1 records, 2 nodes (1 collectors + 1 species)\n",
      "Component 194: 1 records, 2 nodes (1 collectors + 1 species)\n",
      "Component 195: 1 records, 2 nodes (1 collectors + 1 species)\n",
      "Component 196: 1 records, 2 nodes (1 collectors + 1 species)\n",
      "Component 197: 1 records, 2 nodes (1 collectors + 1 species)\n",
      "Component 198: 1 records, 2 nodes (1 collectors + 1 species)\n",
      "Component 199: 1 records, 2 nodes (1 collectors + 1 species)\n",
      "Component 200: 1 records, 2 nodes (1 collectors + 1 species)\n",
      "Component 201: 1 records, 2 nodes (1 collectors + 1 species)\n",
      "Component 202: 1 records, 2 nodes (1 collectors + 1 species)\n",
      "Component 203: 1 records, 2 nodes (1 collectors + 1 species)\n",
      "Component 204: 1 records, 2 nodes (1 collectors + 1 species)\n",
      "Component 205: 1 records, 2 nodes (1 collectors + 1 species)\n",
      "Component 206: 1 records, 2 nodes (1 collectors + 1 species)\n",
      "Component 207: 1 records, 2 nodes (1 collectors + 1 species)\n",
      "Component 208: 1 records, 2 nodes (1 collectors + 1 species)\n",
      "Component 209: 1 records, 2 nodes (1 collectors + 1 species)\n",
      "Component 210: 1 records, 2 nodes (1 collectors + 1 species)\n",
      "Component 211: 1 records, 2 nodes (1 collectors + 1 species)\n",
      "Component 212: 1 records, 2 nodes (1 collectors + 1 species)\n",
      "Component 213: 1 records, 2 nodes (1 collectors + 1 species)\n",
      "Component 214: 1 records, 2 nodes (1 collectors + 1 species)\n",
      "Component 215: 1 records, 2 nodes (1 collectors + 1 species)\n",
      "Component 216: 1 records, 2 nodes (1 collectors + 1 species)\n",
      "Component 217: 1 records, 2 nodes (1 collectors + 1 species)\n",
      "Component 218: 1 records, 2 nodes (1 collectors + 1 species)\n",
      "Component 219: 1 records, 2 nodes (1 collectors + 1 species)\n",
      "Component 220: 1 records, 2 nodes (1 collectors + 1 species)\n",
      "Component 221: 1 records, 2 nodes (1 collectors + 1 species)\n",
      "Component 222: 1 records, 2 nodes (1 collectors + 1 species)\n",
      "Component 223: 1 records, 2 nodes (1 collectors + 1 species)\n",
      "Component 224: 1 records, 2 nodes (1 collectors + 1 species)\n",
      "Component 225: 1 records, 2 nodes (1 collectors + 1 species)\n",
      "Component 226: 1 records, 2 nodes (1 collectors + 1 species)\n",
      "Component 227: 1 records, 2 nodes (1 collectors + 1 species)\n",
      "Component 228: 1 records, 2 nodes (1 collectors + 1 species)\n",
      "Component 229: 1 records, 2 nodes (1 collectors + 1 species)\n",
      "Component 230: 2 records, 2 nodes (1 collectors + 1 species)\n",
      "Component 231: 1 records, 2 nodes (1 collectors + 1 species)\n",
      "Component 232: 1 records, 2 nodes (1 collectors + 1 species)\n",
      "Component 233: 1 records, 2 nodes (1 collectors + 1 species)\n",
      "Component 234: 1 records, 2 nodes (1 collectors + 1 species)\n",
      "Component 235: 1 records, 2 nodes (1 collectors + 1 species)\n",
      "Component 236: 1 records, 2 nodes (1 collectors + 1 species)\n",
      "Component 237: 1 records, 2 nodes (1 collectors + 1 species)\n",
      "Component 238: 1 records, 2 nodes (1 collectors + 1 species)\n",
      "Component 239: 1 records, 2 nodes (1 collectors + 1 species)\n",
      "Component 240: 1 records, 2 nodes (1 collectors + 1 species)\n",
      "Component 241: 1 records, 2 nodes (1 collectors + 1 species)\n",
      "Component 242: 1 records, 2 nodes (1 collectors + 1 species)\n",
      "Component 243: 1 records, 2 nodes (1 collectors + 1 species)\n",
      "Component 244: 1 records, 2 nodes (1 collectors + 1 species)\n",
      "Component 245: 1 records, 2 nodes (1 collectors + 1 species)\n",
      "Component 246: 2 records, 2 nodes (1 collectors + 1 species)\n",
      "Component 247: 1 records, 2 nodes (1 collectors + 1 species)\n",
      "Component 248: 1 records, 2 nodes (1 collectors + 1 species)\n",
      "Component 249: 1 records, 2 nodes (1 collectors + 1 species)\n",
      "Component 250: 1 records, 2 nodes (1 collectors + 1 species)\n",
      "Component 251: 1 records, 2 nodes (1 collectors + 1 species)\n",
      "Component 252: 1 records, 2 nodes (1 collectors + 1 species)\n",
      "Component 253: 1 records, 2 nodes (1 collectors + 1 species)\n",
      "Component 254: 1 records, 2 nodes (1 collectors + 1 species)\n",
      "Component 255: 1 records, 2 nodes (1 collectors + 1 species)\n",
      "Component 256: 1 records, 2 nodes (1 collectors + 1 species)\n",
      "Component 257: 1 records, 2 nodes (1 collectors + 1 species)\n",
      "Component 258: 1 records, 2 nodes (1 collectors + 1 species)\n",
      "Component 259: 1 records, 2 nodes (1 collectors + 1 species)\n",
      "Component 260: 1 records, 2 nodes (1 collectors + 1 species)\n",
      "Component 261: 1 records, 2 nodes (1 collectors + 1 species)\n",
      "Component 262: 1 records, 2 nodes (1 collectors + 1 species)\n",
      "Component 263: 1 records, 2 nodes (1 collectors + 1 species)\n",
      "Component 264: 1 records, 2 nodes (1 collectors + 1 species)\n",
      "Component 265: 1 records, 2 nodes (1 collectors + 1 species)\n",
      "Component 266: 1 records, 2 nodes (1 collectors + 1 species)\n",
      "Component 267: 1 records, 2 nodes (1 collectors + 1 species)\n",
      "Component 268: 1 records, 2 nodes (1 collectors + 1 species)\n",
      "Component 269: 1 records, 2 nodes (1 collectors + 1 species)\n",
      "Component 270: 1 records, 2 nodes (1 collectors + 1 species)\n",
      "Component 271: 1 records, 2 nodes (1 collectors + 1 species)\n",
      "Component 272: 1 records, 2 nodes (1 collectors + 1 species)\n",
      "Component 273: 1 records, 2 nodes (1 collectors + 1 species)\n",
      "Component 274: 1 records, 2 nodes (1 collectors + 1 species)\n",
      "Component 275: 1 records, 2 nodes (1 collectors + 1 species)\n",
      "Component 276: 1 records, 2 nodes (1 collectors + 1 species)\n",
      "Component 277: 1 records, 2 nodes (1 collectors + 1 species)\n",
      "Component 278: 1 records, 2 nodes (1 collectors + 1 species)\n",
      "Component 279: 1 records, 2 nodes (1 collectors + 1 species)\n",
      "Component 280: 1 records, 2 nodes (1 collectors + 1 species)\n",
      "Component 281: 1 records, 2 nodes (1 collectors + 1 species)\n",
      "Component 282: 1 records, 2 nodes (1 collectors + 1 species)\n",
      "Component 283: 1 records, 2 nodes (1 collectors + 1 species)\n",
      "Component 284: 2 records, 2 nodes (1 collectors + 1 species)\n",
      "Component 285: 1 records, 2 nodes (1 collectors + 1 species)\n",
      "Component 286: 1 records, 2 nodes (1 collectors + 1 species)\n",
      "Component 287: 1 records, 2 nodes (1 collectors + 1 species)\n",
      "Component 288: 1 records, 2 nodes (1 collectors + 1 species)\n",
      "Component 289: 1 records, 2 nodes (1 collectors + 1 species)\n",
      "Component 290: 1 records, 2 nodes (1 collectors + 1 species)\n",
      "Component 291: 1 records, 2 nodes (1 collectors + 1 species)\n",
      "Component 292: 2 records, 2 nodes (1 collectors + 1 species)\n",
      "Component 293: 2 records, 2 nodes (1 collectors + 1 species)\n",
      "Component 294: 1 records, 2 nodes (1 collectors + 1 species)\n",
      "Component 295: 1 records, 2 nodes (1 collectors + 1 species)\n",
      "Component 296: 1 records, 2 nodes (1 collectors + 1 species)\n",
      "Component 297: 1 records, 2 nodes (1 collectors + 1 species)\n",
      "Component 298: 1 records, 2 nodes (1 collectors + 1 species)\n",
      "Component 299: 1 records, 2 nodes (1 collectors + 1 species)\n",
      "Component 300: 1 records, 2 nodes (1 collectors + 1 species)\n",
      "Component 301: 1 records, 2 nodes (1 collectors + 1 species)\n",
      "Component 302: 1 records, 2 nodes (1 collectors + 1 species)\n",
      "Component 303: 1 records, 2 nodes (1 collectors + 1 species)\n",
      "Component 304: 1 records, 2 nodes (1 collectors + 1 species)\n",
      "Component 305: 1 records, 2 nodes (1 collectors + 1 species)\n",
      "Component 306: 1 records, 2 nodes (1 collectors + 1 species)\n",
      "Component 307: 1 records, 2 nodes (1 collectors + 1 species)\n",
      "Component 308: 1 records, 2 nodes (1 collectors + 1 species)\n",
      "Component 309: 1 records, 2 nodes (1 collectors + 1 species)\n",
      "Component 310: 1 records, 2 nodes (1 collectors + 1 species)\n",
      "Component 311: 1 records, 2 nodes (1 collectors + 1 species)\n",
      "Component 312: 1 records, 2 nodes (1 collectors + 1 species)\n",
      "Component 313: 1 records, 2 nodes (1 collectors + 1 species)\n",
      "Component 314: 1 records, 2 nodes (1 collectors + 1 species)\n",
      "Component 315: 1 records, 2 nodes (1 collectors + 1 species)\n",
      "Component 316: 1 records, 2 nodes (1 collectors + 1 species)\n",
      "Component 317: 1 records, 2 nodes (1 collectors + 1 species)\n",
      "Component 318: 1 records, 2 nodes (1 collectors + 1 species)\n",
      "Component 319: 1 records, 2 nodes (1 collectors + 1 species)\n",
      "Component 320: 1 records, 2 nodes (1 collectors + 1 species)\n",
      "Component 321: 1 records, 2 nodes (1 collectors + 1 species)\n",
      "Component 322: 1 records, 2 nodes (1 collectors + 1 species)\n",
      "Component 323: 1 records, 2 nodes (1 collectors + 1 species)\n",
      "Component 324: 1 records, 2 nodes (1 collectors + 1 species)\n",
      "Component 325: 1 records, 2 nodes (1 collectors + 1 species)\n",
      "Component 326: 1 records, 2 nodes (1 collectors + 1 species)\n",
      "Component 327: 1 records, 2 nodes (1 collectors + 1 species)\n",
      "Component 328: 1 records, 2 nodes (1 collectors + 1 species)\n",
      "Component 329: 1 records, 2 nodes (1 collectors + 1 species)\n",
      "Component 330: 1 records, 2 nodes (1 collectors + 1 species)\n",
      "Component 331: 1 records, 2 nodes (1 collectors + 1 species)\n",
      "Component 332: 1 records, 2 nodes (1 collectors + 1 species)\n",
      "Component 333: 1 records, 2 nodes (1 collectors + 1 species)\n",
      "Component 334: 1 records, 2 nodes (1 collectors + 1 species)\n",
      "Component 335: 1 records, 2 nodes (1 collectors + 1 species)\n",
      "Component 336: 1 records, 2 nodes (1 collectors + 1 species)\n",
      "Component 337: 1 records, 2 nodes (1 collectors + 1 species)\n",
      "Component 338: 1 records, 2 nodes (1 collectors + 1 species)\n",
      "Component 339: 1 records, 2 nodes (1 collectors + 1 species)\n",
      "Component 340: 1 records, 2 nodes (1 collectors + 1 species)\n",
      "Component 341: 1 records, 2 nodes (1 collectors + 1 species)\n",
      "Component 342: 1 records, 2 nodes (1 collectors + 1 species)\n",
      "Component 343: 1 records, 2 nodes (1 collectors + 1 species)\n",
      "Component 344: 1 records, 2 nodes (1 collectors + 1 species)\n",
      "Component 345: 1 records, 2 nodes (1 collectors + 1 species)\n",
      "Component 346: 1 records, 2 nodes (1 collectors + 1 species)\n",
      "Component 347: 1 records, 2 nodes (1 collectors + 1 species)\n",
      "Component 348: 1 records, 2 nodes (1 collectors + 1 species)\n",
      "Component 349: 1 records, 2 nodes (1 collectors + 1 species)\n",
      "Component 350: 1 records, 2 nodes (1 collectors + 1 species)\n",
      "Component 351: 1 records, 2 nodes (1 collectors + 1 species)\n"
     ]
    }
   ],
   "source": [
    "num_nodes = lambda comp: comp.number_of_nodes()\n",
    "num_cols = lambda comp: len(comp.listCollectorsNodes())\n",
    "num_spp = lambda comp: len(comp.listSpeciesNodes())\n",
    "num_records = lambda comp: sum( count for sp,count in comp.listSpeciesNodes(data='count'))\n",
    "for l in [ (i+1, num_records(comp), num_nodes(comp), num_cols(comp), num_spp(comp)) for i, comp in enumerate(connected_components) ]:\n",
    "    print(\"Component {}: {} records, {} nodes ({} collectors + {} species)\".format(*l))"
   ]
  },
  {
   "cell_type": "markdown",
   "metadata": {},
   "source": [
    "### The Giant component ($c_1$)"
   ]
  },
  {
   "cell_type": "markdown",
   "metadata": {},
   "source": [
    "The giant component has $21091$ nodes, being $6334$ collectors and $14747$ species."
   ]
  },
  {
   "cell_type": "markdown",
   "metadata": {},
   "source": [
    "* Most records are from Brazil:"
   ]
  },
  {
   "cell_type": "code",
   "execution_count": 6,
   "metadata": {
    "collapsed": true
   },
   "outputs": [],
   "source": [
    "c1 = connected_components[0]"
   ]
  },
  {
   "cell_type": "code",
   "execution_count": 7,
   "metadata": {
    "collapsed": true
   },
   "outputs": [],
   "source": [
    "occs_c1 = occs.loc[ set( ix for col in c1.listCollectorsNodes() for ix in ni[col] ) ]"
   ]
  },
  {
   "cell_type": "code",
   "execution_count": 8,
   "metadata": {},
   "outputs": [
    {
     "data": {
      "text/plain": [
       "BR    0.951812\n",
       "US    0.007904\n",
       "AQ    0.007010\n",
       "ID    0.003495\n",
       "AU    0.002867\n",
       "ZA    0.002580\n",
       "MY    0.002505\n",
       "FI    0.002252\n",
       "PG    0.001966\n",
       "SE    0.001645\n",
       "Name: countryCode, dtype: float64"
      ]
     },
     "execution_count": 8,
     "metadata": {},
     "output_type": "execute_result"
    }
   ],
   "source": [
    "occs_c1['countryCode'].value_counts(normalize=True)[:10]"
   ]
  },
  {
   "cell_type": "markdown",
   "metadata": {},
   "source": [
    "* Within Brazil, $53\\%$ of records are from DF and GO:"
   ]
  },
  {
   "cell_type": "code",
   "execution_count": 9,
   "metadata": {},
   "outputs": [
    {
     "data": {
      "text/plain": [
       "<matplotlib.axes._subplots.AxesSubplot at 0x7fdd2818a630>"
      ]
     },
     "execution_count": 9,
     "metadata": {},
     "output_type": "execute_result"
    },
    {
     "data": {
      "image/png": "[encoded data removed]",
      "text/plain": [
       "<matplotlib.figure.Figure at 0x7fdd281a4ba8>"
      ]
     },
     "metadata": {},
     "output_type": "display_data"
    }
   ],
   "source": [
    "display=7\n",
    "top5=occs_c1[occs_c1['countryCode']=='BR']['stateProvince'].value_counts(normalize=True)[:display]\n",
    "others=pd.Series( occs_c1[occs_c1['countryCode']=='BR']['stateProvince'].value_counts(normalize=True)[display:].sum(), index=['Others'] )\n",
    "pd.concat([top5,others]).plot(kind='pie',figsize=(5,5),label='',autopct='%1.0f%%',pctdistance=0.7)"
   ]
  },
  {
   "cell_type": "markdown",
   "metadata": {},
   "source": [
    "* Almost $34\\%$ of species in $c_1$ (a total of $4983$) were recorded only once (singletons). Similarly, around $36\\%$ of collectors (a total of $2292$) have participated on a single record."
   ]
  },
  {
   "cell_type": "code",
   "execution_count": 10,
   "metadata": {},
   "outputs": [
    {
     "name": "stdout",
     "output_type": "stream",
     "text": [
      "Num: 4983\n",
      "Pct: 33.77%\n"
     ]
    }
   ],
   "source": [
    "# Singleton species\n",
    "num_singleton_spp_c1 = sum( 1 for sp, cnt in c1.listSpeciesNodes(data='count') if cnt==1 )\n",
    "num_spp_c1 = len(c1.listSpeciesNodes())\n",
    "print('Num:',num_singleton_spp_c1)\n",
    "print(\"Pct: {:.2%}\".format(num_singleton_spp_c1/num_spp_c1))"
   ]
  },
  {
   "cell_type": "code",
   "execution_count": 11,
   "metadata": {},
   "outputs": [
    {
     "name": "stdout",
     "output_type": "stream",
     "text": [
      "Num: 2292\n",
      "Pct: 36.19%\n"
     ]
    }
   ],
   "source": [
    "# Singleton collectors\n",
    "num_singleton_cols_c1 = sum( 1 for col, cnt in c1.listCollectorsNodes(data='count') if cnt==1 )\n",
    "num_cols_c1 = len(c1.listCollectorsNodes())\n",
    "print('Num:',num_singleton_cols_c1)\n",
    "print(\"Pct: {:.2%}\".format(num_singleton_cols_c1/num_cols_c1))"
   ]
  },
  {
   "cell_type": "markdown",
   "metadata": {},
   "source": [
    "* Taxonomic composition: $88\\%$ are tracheophytes; $73\\%$ are from class Magnoliopsida."
   ]
  },
  {
   "cell_type": "code",
   "execution_count": 12,
   "metadata": {},
   "outputs": [
    {
     "data": {
      "text/plain": [
       "Tracheophyta       0.880614\n",
       "Bryophyta          0.080462\n",
       "Ochrophyta         0.028131\n",
       "Marchantiophyta    0.008256\n",
       "Ascomycota         0.002395\n",
       "Name: phylum, dtype: float64"
      ]
     },
     "execution_count": 12,
     "metadata": {},
     "output_type": "execute_result"
    }
   ],
   "source": [
    "occs_c1['phylum'].value_counts(normalize=True)[:5]"
   ]
  },
  {
   "cell_type": "code",
   "execution_count": 13,
   "metadata": {},
   "outputs": [
    {
     "data": {
      "text/plain": [
       "Magnoliopsida        0.732394\n",
       "Liliopsida           0.122320\n",
       "Bryopsida            0.079289\n",
       "Bacillariophyceae    0.028131\n",
       "Polypodiopsida       0.023259\n",
       "Name: class, dtype: float64"
      ]
     },
     "execution_count": 13,
     "metadata": {},
     "output_type": "execute_result"
    }
   ],
   "source": [
    "occs_c1['class'].value_counts(normalize=True)[:5]"
   ]
  },
  {
   "cell_type": "markdown",
   "metadata": {},
   "source": [
    "### The second biggest component ($c_2$)"
   ]
  },
  {
   "cell_type": "markdown",
   "metadata": {},
   "source": [
    "This component has a total of $144$ nodes, being $3$ collectors and $141$ species."
   ]
  },
  {
   "cell_type": "code",
   "execution_count": 14,
   "metadata": {
    "collapsed": true
   },
   "outputs": [],
   "source": [
    "c2 = connected_components[1]"
   ]
  },
  {
   "cell_type": "code",
   "execution_count": 15,
   "metadata": {
    "collapsed": true
   },
   "outputs": [],
   "source": [
    "occs_c2 = occs.loc[ set( ix for col in c2.listCollectorsNodes() for ix in ni[col]) ]"
   ]
  },
  {
   "cell_type": "markdown",
   "metadata": {},
   "source": [
    "* Only $2$ of the $141$ species have been recorded once (singleton). None of the $3$ collectors have participated on a single record."
   ]
  },
  {
   "cell_type": "code",
   "execution_count": 16,
   "metadata": {},
   "outputs": [
    {
     "name": "stdout",
     "output_type": "stream",
     "text": [
      "Num: 2\n",
      "Pct: 1.42%\n"
     ]
    }
   ],
   "source": [
    "# Singleton species\n",
    "num_singleton_spp_c2 = sum( 1 for sp, cnt in c2.listSpeciesNodes(data='count') if cnt==1 )\n",
    "num_spp_c2 = len(c2.listSpeciesNodes())\n",
    "print('Num:',num_singleton_spp_c2)\n",
    "print(\"Pct: {:.2%}\".format(num_singleton_spp_c2/num_spp_c2))"
   ]
  },
  {
   "cell_type": "code",
   "execution_count": 17,
   "metadata": {},
   "outputs": [
    {
     "name": "stdout",
     "output_type": "stream",
     "text": [
      "Num: 0\n"
     ]
    }
   ],
   "source": [
    "# Singleton collectors\n",
    "num_singleton_cols_c2 = sum( 1 for col, cnt in c2.listCollectorsNodes(data='count') if cnt==1 )\n",
    "num_cols_c2 = len(c2.listCollectorsNodes())\n",
    "print('Num:',num_singleton_cols_c2)\n",
    "#print(\"Pct: {:.2%}\".format(num_singleton_cols_c1/num_cols_c2))"
   ]
  },
  {
   "cell_type": "markdown",
   "metadata": {},
   "source": [
    "* Taxonomic composition"
   ]
  },
  {
   "cell_type": "code",
   "execution_count": 18,
   "metadata": {},
   "outputs": [
    {
     "data": {
      "text/plain": [
       "Charophyta       0.690405\n",
       "Chlorophyta      0.226012\n",
       "Cyanobacteria    0.042689\n",
       "Euglenozoa       0.026731\n",
       "Myzozoa          0.014163\n",
       "Name: phylum, dtype: float64"
      ]
     },
     "execution_count": 18,
     "metadata": {},
     "output_type": "execute_result"
    }
   ],
   "source": [
    "occs_c2['phylum'].value_counts(normalize=True)"
   ]
  },
  {
   "cell_type": "code",
   "execution_count": 19,
   "metadata": {},
   "outputs": [
    {
     "data": {
      "text/plain": [
       "Zygnematophyceae    0.690405\n",
       "Chlorophyceae       0.158189\n",
       "Trebouxiophyceae    0.067824\n",
       "Cyanophyceae        0.042689\n",
       "Euglenoidea         0.026731\n",
       "Dinophyceae         0.014163\n",
       "Name: class, dtype: float64"
      ]
     },
     "execution_count": 19,
     "metadata": {},
     "output_type": "execute_result"
    }
   ],
   "source": [
    "occs_c2['class'].value_counts(normalize=True)"
   ]
  },
  {
   "cell_type": "markdown",
   "metadata": {},
   "source": [
    "* Ana Lúcia Tostes Leite (an important Federal District algae collector in UB) is in $c_2$, with a total of $2757$ records of $87$ distinct species. All are Charophyte green algae."
   ]
  },
  {
   "cell_type": "code",
   "execution_count": 20,
   "metadata": {},
   "outputs": [
    {
     "name": "stdout",
     "output_type": "stream",
     "text": [
      "castelobranco,cw: num_recs:2256; k:57\n",
      "grando,jv: num_recs:2256; k:57\n",
      "leite,alta: num_recs:2757; k:87\n",
      "\n"
     ]
    }
   ],
   "source": [
    "print(''.join([ \"{}: num_recs:{}; k:{}\\n\".format(col,cnt,nx.degree(c2,col)) for col,cnt in c2.listCollectorsNodes(data='count') ]))"
   ]
  },
  {
   "cell_type": "code",
   "execution_count": 42,
   "metadata": {},
   "outputs": [
    {
     "data": {
      "text/plain": [
       "Charophyta    2757\n",
       "Name: phylum, dtype: int64"
      ]
     },
     "execution_count": 42,
     "metadata": {},
     "output_type": "execute_result"
    }
   ],
   "source": [
    "occs_c2.loc[ni['leite,alta']]['phylum'].value_counts()"
   ]
  },
  {
   "cell_type": "code",
   "execution_count": 97,
   "metadata": {},
   "outputs": [
    {
     "data": {
      "text/plain": [
       "Desmidiaceae     2688\n",
       "Closteriaceae      69\n",
       "Name: family, dtype: int64"
      ]
     },
     "execution_count": 97,
     "metadata": {},
     "output_type": "execute_result"
    }
   ],
   "source": [
    "occs_c2.loc[ni['leite,alta']]['family'].value_counts()"
   ]
  },
  {
   "cell_type": "markdown",
   "metadata": {},
   "source": [
    "* All occurrences are from the Federal District:"
   ]
  },
  {
   "cell_type": "code",
   "execution_count": 21,
   "metadata": {},
   "outputs": [
    {
     "data": {
      "text/plain": [
       "Distrito Federal    5013\n",
       "Name: stateProvince, dtype: int64"
      ]
     },
     "execution_count": 21,
     "metadata": {},
     "output_type": "execute_result"
    }
   ],
   "source": [
    "occs_c2['stateProvince'].value_counts()"
   ]
  },
  {
   "cell_type": "markdown",
   "metadata": {},
   "source": [
    "* Aggregate by family"
   ]
  },
  {
   "cell_type": "code",
   "execution_count": 65,
   "metadata": {
    "collapsed": true
   },
   "outputs": [],
   "source": [
    "grp = dict( (family,set(spp)) for family, spp in occs_c2[['species','family']].groupby('family')['species'])"
   ]
  },
  {
   "cell_type": "code",
   "execution_count": 67,
   "metadata": {
    "collapsed": true
   },
   "outputs": [],
   "source": [
    "c2_agg_family = c2.taxonomicAggregation(grp)"
   ]
  },
  {
   "cell_type": "code",
   "execution_count": 93,
   "metadata": {
    "collapsed": true
   },
   "outputs": [],
   "source": [
    "nx.set_edge_attributes(c2_agg_family, dict([ ((u,v),int(ct)) for u,v,ct in c2_agg_family.edges(data='count') ]), name='count')"
   ]
  },
  {
   "cell_type": "code",
   "execution_count": 94,
   "metadata": {},
   "outputs": [
    {
     "data": {
      "text/plain": [
       "<caryocar.models.speciescollectorsnetwork.SpeciesCollectorsNetwork at 0x7fdd2817a128>"
      ]
     },
     "execution_count": 94,
     "metadata": {},
     "output_type": "execute_result"
    }
   ],
   "source": [
    "c2_agg_family"
   ]
  },
  {
   "cell_type": "code",
   "execution_count": 95,
   "metadata": {
    "collapsed": true
   },
   "outputs": [],
   "source": [
    "nx.write_gexf(c2_agg_family,'./graphs_scn_connectedComponents/c2_agg_family.gexf')"
   ]
  },
  {
   "cell_type": "code",
   "execution_count": 96,
   "metadata": {},
   "outputs": [
    {
     "name": "stdout",
     "output_type": "stream",
     "text": [
      "/home/pedro/tese_lncc/notebooks/chapter4\r\n"
     ]
    }
   ],
   "source": [
    "!pwd"
   ]
  },
  {
   "cell_type": "markdown",
   "metadata": {},
   "source": [
    "### Other connected components ($c_3$, $c_4$, ..., $c_{351}$)"
   ]
  },
  {
   "cell_type": "code",
   "execution_count": 22,
   "metadata": {
    "collapsed": true
   },
   "outputs": [],
   "source": [
    "other_comps = connected_components[2:]"
   ]
  },
  {
   "cell_type": "code",
   "execution_count": 23,
   "metadata": {
    "collapsed": true
   },
   "outputs": [],
   "source": [
    "occs_otherComps = occs.loc[ set( ix for comp in other_comps for col in comp.listCollectorsNodes() for ix in ni[col] ) ]"
   ]
  },
  {
   "cell_type": "markdown",
   "metadata": {},
   "source": [
    "The rest of the components include a total of $431$ distinct collectors, $446$ distinct species. Almost $1$ species per collector."
   ]
  },
  {
   "cell_type": "code",
   "execution_count": 24,
   "metadata": {},
   "outputs": [
    {
     "data": {
      "text/plain": [
       "431"
      ]
     },
     "execution_count": 24,
     "metadata": {},
     "output_type": "execute_result"
    }
   ],
   "source": [
    "sum( 1 for c in other_comps for col in c.listCollectorsNodes() )"
   ]
  },
  {
   "cell_type": "code",
   "execution_count": 25,
   "metadata": {},
   "outputs": [
    {
     "data": {
      "text/plain": [
       "446"
      ]
     },
     "execution_count": 25,
     "metadata": {},
     "output_type": "execute_result"
    }
   ],
   "source": [
    "sum( 1 for c in other_comps for sp in c.listSpeciesNodes() )"
   ]
  },
  {
   "cell_type": "markdown",
   "metadata": {},
   "source": [
    "* Taxonomic composition"
   ]
  },
  {
   "cell_type": "code",
   "execution_count": 26,
   "metadata": {},
   "outputs": [
    {
     "data": {
      "text/plain": [
       "Tracheophyta        0.825397\n",
       "Bryophyta           0.156746\n",
       "Marchantiophyta     0.013889\n",
       "Anthocerotophyta    0.001984\n",
       "Ascomycota          0.001984\n",
       "Name: phylum, dtype: float64"
      ]
     },
     "execution_count": 26,
     "metadata": {},
     "output_type": "execute_result"
    }
   ],
   "source": [
    "occs_otherComps['phylum'].value_counts(normalize=True)"
   ]
  },
  {
   "cell_type": "code",
   "execution_count": 27,
   "metadata": {},
   "outputs": [
    {
     "data": {
      "text/plain": [
       "Magnoliopsida        0.545635\n",
       "Liliopsida           0.196429\n",
       "Bryopsida            0.150794\n",
       "Polypodiopsida       0.067460\n",
       "Jungermanniopsida    0.011905\n",
       "Psilotopsida         0.005952\n",
       "Sphagnopsida         0.005952\n",
       "Equisetopsida        0.003968\n",
       "Lycopodiopsida       0.003968\n",
       "Eurotiomycetes       0.001984\n",
       "Anthocerotopsida     0.001984\n",
       "Marchantiopsida      0.001984\n",
       "Cycadopsida          0.001984\n",
       "Name: class, dtype: float64"
      ]
     },
     "execution_count": 27,
     "metadata": {},
     "output_type": "execute_result"
    }
   ],
   "source": [
    "occs_otherComps['class'].value_counts(normalize=True)"
   ]
  },
  {
   "cell_type": "markdown",
   "metadata": {},
   "source": [
    "* Most records are from outside Brazil"
   ]
  },
  {
   "cell_type": "code",
   "execution_count": 28,
   "metadata": {},
   "outputs": [
    {
     "data": {
      "text/plain": [
       "US    0.238776\n",
       "BR    0.210204\n",
       "AU    0.091837\n",
       "CO    0.034694\n",
       "AR    0.026531\n",
       "ZA    0.022449\n",
       "MX    0.020408\n",
       "PS    0.016327\n",
       "ZZ    0.016327\n",
       "SE    0.016327\n",
       "Name: countryCode, dtype: float64"
      ]
     },
     "execution_count": 28,
     "metadata": {},
     "output_type": "execute_result"
    }
   ],
   "source": [
    "occs_otherComps['countryCode'].value_counts(normalize=True)[:10]"
   ]
  },
  {
   "cell_type": "markdown",
   "metadata": {},
   "source": [
    "* Most records from Brazil are within the Southwest region"
   ]
  },
  {
   "cell_type": "code",
   "execution_count": 29,
   "metadata": {},
   "outputs": [
    {
     "data": {
      "text/plain": [
       "São Paulo              0.310680\n",
       "Rio de Janeiro         0.135922\n",
       "Minas Gerais           0.135922\n",
       "Distrito Federal       0.077670\n",
       "Bahia                  0.067961\n",
       "Rio Grande do Sul      0.048544\n",
       "Pará                   0.048544\n",
       "Roraima                0.029126\n",
       "Paraná                 0.029126\n",
       "Amazonas               0.029126\n",
       "Mato Grosso            0.019417\n",
       "Rio Grande do Norte    0.019417\n",
       "Mato Grosso do Sul     0.019417\n",
       "Rondônia               0.009709\n",
       "Ceará                  0.009709\n",
       "Espírito Santo         0.009709\n",
       "Name: stateProvince, dtype: float64"
      ]
     },
     "execution_count": 29,
     "metadata": {},
     "output_type": "execute_result"
    }
   ],
   "source": [
    "occs_otherComps[(occs_otherComps['countryCode']=='BR')]['stateProvince'].value_counts(normalize=True)"
   ]
  },
  {
   "cell_type": "code",
   "execution_count": 30,
   "metadata": {
    "collapsed": true
   },
   "outputs": [],
   "source": [
    "southeast = ['Minas Gerais','São Paulo','Rio de Janeiro','Espírito Santo']"
   ]
  },
  {
   "cell_type": "code",
   "execution_count": 31,
   "metadata": {},
   "outputs": [
    {
     "data": {
      "text/plain": [
       "0.59223300970873782"
      ]
     },
     "execution_count": 31,
     "metadata": {},
     "output_type": "execute_result"
    }
   ],
   "source": [
    "# % Records in the Southwest region\n",
    "in_southeast = occs_otherComps[(occs_otherComps['countryCode']=='BR')]['stateProvince'].isin(southeast)\n",
    "in_southeast.mean()"
   ]
  },
  {
   "cell_type": "code",
   "execution_count": 32,
   "metadata": {},
   "outputs": [
    {
     "data": {
      "text/plain": [
       "0.52459016393442626"
      ]
     },
     "execution_count": 32,
     "metadata": {},
     "output_type": "execute_result"
    }
   ],
   "source": [
    "# % Records in SP from all those within the southwest region\n",
    "occs_otherComps[(occs_otherComps['stateProvince']=='São Paulo')].shape[0] / sum(in_southeast)"
   ]
  },
  {
   "cell_type": "markdown",
   "metadata": {},
   "source": [
    "---"
   ]
  }
 ],
 "metadata": {
  "kernelspec": {
   "display_name": "Python 3",
   "language": "python",
   "name": "python3"
  },
  "language_info": {
   "codemirror_mode": {
    "name": "ipython",
    "version": 3
   },
   "file_extension": ".py",
   "mimetype": "text/x-python",
   "name": "python",
   "nbconvert_exporter": "python",
   "pygments_lexer": "ipython3",
   "version": "3.6.3"
  }
 },
 "nbformat": 4,
 "nbformat_minor": 2
}
