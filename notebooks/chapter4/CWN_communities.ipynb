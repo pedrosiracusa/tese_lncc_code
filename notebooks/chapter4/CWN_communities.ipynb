{
 "cells": [
  {
   "cell_type": "markdown",
   "metadata": {},
   "source": [
    "## Building Network Models\n",
    "# UB Collectors Coworking Network\n",
    "### CWN Communities"
   ]
  },
  {
   "cell_type": "markdown",
   "metadata": {},
   "source": [
    "---"
   ]
  },
  {
   "cell_type": "code",
   "execution_count": 2,
   "metadata": {},
   "outputs": [],
   "source": [
    "# Setting paths\n",
    "import sys,os\n",
    "import pathlib\n",
    "sys.path.insert(0,os.path.expanduser('~/caryocar'))\n",
    "sys.path.insert(0,os.path.abspath('..'))"
   ]
  },
  {
   "cell_type": "code",
   "execution_count": 3,
   "metadata": {},
   "outputs": [],
   "source": [
    "# Building the networks from data\n",
    "from setupmodels import *"
   ]
  },
  {
   "cell_type": "code",
   "execution_count": 4,
   "metadata": {},
   "outputs": [],
   "source": [
    "# Importing libraries for analysis\n",
    "import networkx as nx\n",
    "import numpy as np\n",
    "import seaborn as sns\n",
    "import matplotlib as mpl\n",
    "import matplotlib.pyplot as plt\n",
    "\n",
    "mpl.rcParams.update(mpl.rcParamsDefault)\n",
    "plt.style.use('seaborn-paper')\n",
    "sns.set_color_codes('deep')\n",
    "\n",
    "%matplotlib inline"
   ]
  },
  {
   "cell_type": "code",
   "execution_count": 5,
   "metadata": {},
   "outputs": [],
   "source": [
    "graphsdir = os.path.abspath('./graphs')\n",
    "\n",
    "if not os.path.isdir(graphsdir):\n",
    "    !mkdir graphs"
   ]
  },
  {
   "cell_type": "code",
   "execution_count": 28,
   "metadata": {},
   "outputs": [],
   "source": [
    "occs['eventDate'] = pd.to_datetime(occs['eventDate'])"
   ]
  },
  {
   "cell_type": "markdown",
   "metadata": {},
   "source": [
    "---"
   ]
  },
  {
   "cell_type": "code",
   "execution_count": 6,
   "metadata": {},
   "outputs": [
    {
     "name": "stdout",
     "output_type": "stream",
     "text": [
      "Name: \n",
      "Type: CoworkingNetwork\n",
      "Number of nodes: 6768\n",
      "Number of edges: 10391\n",
      "Average degree:   3.0706\n"
     ]
    }
   ],
   "source": [
    "print(nx.info(cwn))"
   ]
  },
  {
   "cell_type": "markdown",
   "metadata": {},
   "source": [
    "# Filtering for visualization"
   ]
  },
  {
   "cell_type": "code",
   "execution_count": 123,
   "metadata": {},
   "outputs": [],
   "source": [
    "from copy import deepcopy\n",
    "g_filt = deepcopy(cwn)"
   ]
  },
  {
   "cell_type": "markdown",
   "metadata": {},
   "source": [
    "Filtering weaker edges ($k_w < 10$)"
   ]
  },
  {
   "cell_type": "code",
   "execution_count": 124,
   "metadata": {},
   "outputs": [],
   "source": [
    "g_filt.remove_edges_from([ (u,v) for u,v,w in g_filt.edges(data='weight_hyperbolic') if w < 10 ])"
   ]
  },
  {
   "cell_type": "code",
   "execution_count": 125,
   "metadata": {},
   "outputs": [
    {
     "name": "stdout",
     "output_type": "stream",
     "text": [
      "Name: \n",
      "Type: CoworkingNetwork\n",
      "Number of nodes: 6768\n",
      "Number of edges: 1259\n",
      "Average degree:   0.3720\n"
     ]
    }
   ],
   "source": [
    "print(nx.info(g_filt))"
   ]
  },
  {
   "cell_type": "markdown",
   "metadata": {},
   "source": [
    "Filtering components with score lower than $600$"
   ]
  },
  {
   "cell_type": "code",
   "execution_count": 141,
   "metadata": {},
   "outputs": [],
   "source": [
    "sgs = nx.connected_component_subgraphs(g_filt)\n",
    "sgs_filtered = list(filter(lambda g: sum(cnt for n,cnt in g.nodes(data='count'))>600 ,sgs))"
   ]
  },
  {
   "cell_type": "code",
   "execution_count": 166,
   "metadata": {},
   "outputs": [
    {
     "data": {
      "text/plain": [
       "[<networkx.classes.graph.Graph at 0x7f72fc533518>,\n",
       " <networkx.classes.graph.Graph at 0x7f72fc4f1320>,\n",
       " <networkx.classes.graph.Graph at 0x7f72ff4c1908>,\n",
       " <networkx.classes.graph.Graph at 0x7f72fc55e940>,\n",
       " <networkx.classes.graph.Graph at 0x7f72fc55e240>,\n",
       " <networkx.classes.graph.Graph at 0x7f72fc54fdd8>,\n",
       " <networkx.classes.graph.Graph at 0x7f72fc4f19b0>,\n",
       " <networkx.classes.graph.Graph at 0x7f72fc4f10b8>,\n",
       " <networkx.classes.graph.Graph at 0x7f72fc533390>,\n",
       " <networkx.classes.graph.Graph at 0x7f72fc5335c0>,\n",
       " <networkx.classes.graph.Graph at 0x7f72fc4f14e0>,\n",
       " <networkx.classes.graph.Graph at 0x7f72fc4f1828>]"
      ]
     },
     "execution_count": 166,
     "metadata": {},
     "output_type": "execute_result"
    }
   ],
   "source": [
    "sgs_filtered"
   ]
  },
  {
   "cell_type": "code",
   "execution_count": 168,
   "metadata": {},
   "outputs": [],
   "source": [
    "g_filt = nx.compose_all(sgs_filtered)\n",
    "nx.set_edge_attributes(g_f,'','taxons')"
   ]
  },
  {
   "cell_type": "code",
   "execution_count": 169,
   "metadata": {},
   "outputs": [
    {
     "name": "stdout",
     "output_type": "stream",
     "text": [
      "Name: compose( ,  )\n",
      "Type: Graph\n",
      "Number of nodes: 545\n",
      "Number of edges: 1158\n",
      "Average degree:   4.2495\n"
     ]
    }
   ],
   "source": [
    "print(nx.info(g_filt))"
   ]
  },
  {
   "cell_type": "markdown",
   "metadata": {},
   "source": [
    "# Detecting Communities"
   ]
  },
  {
   "cell_type": "code",
   "execution_count": 171,
   "metadata": {},
   "outputs": [],
   "source": [
    "import community"
   ]
  },
  {
   "cell_type": "code",
   "execution_count": 173,
   "metadata": {},
   "outputs": [],
   "source": [
    "communities = community.best_partition(g_filt)"
   ]
  },
  {
   "cell_type": "markdown",
   "metadata": {},
   "source": [
    "How many communities were found?"
   ]
  },
  {
   "cell_type": "code",
   "execution_count": 176,
   "metadata": {},
   "outputs": [
    {
     "data": {
      "text/plain": [
       "30"
      ]
     },
     "execution_count": 176,
     "metadata": {},
     "output_type": "execute_result"
    }
   ],
   "source": [
    "len(set(communities.values()))"
   ]
  },
  {
   "cell_type": "markdown",
   "metadata": {},
   "source": [
    "Set community to nodes attributes and write gexf file"
   ]
  },
  {
   "cell_type": "code",
   "execution_count": 182,
   "metadata": {},
   "outputs": [],
   "source": [
    "nx.set_node_attributes(g_filt,communities,name='community')\n",
    "#nx.write_gexf(g_filt,'g.gexf')"
   ]
  },
  {
   "cell_type": "markdown",
   "metadata": {},
   "source": [
    "# Coworking groups"
   ]
  },
  {
   "cell_type": "markdown",
   "metadata": {},
   "source": [
    "First, we will aggregate the SCN by family"
   ]
  },
  {
   "cell_type": "code",
   "execution_count": 6,
   "metadata": {},
   "outputs": [],
   "source": [
    "grp = dict(occs[['species','family']].groupby('family').apply(lambda x: set(x['species'])))\n",
    "scn_family = scn.taxonomicAggregation(grp)\n",
    "nx.set_edge_attributes(scn_family, dict([ ((u,v),int(ct)) for u,v,ct in scn_family.edges(data='count') ]), name='count')"
   ]
  },
  {
   "cell_type": "markdown",
   "metadata": {},
   "source": [
    "## Same coworking group but distinct interests"
   ]
  },
  {
   "cell_type": "code",
   "execution_count": null,
   "metadata": {},
   "outputs": [],
   "source": []
  },
  {
   "cell_type": "markdown",
   "metadata": {},
   "source": [
    "## Similar interests but distinct coworking groups"
   ]
  },
  {
   "cell_type": "markdown",
   "metadata": {},
   "source": [
    "### The case of *J.B.A. Bringel* and *D.A. Chaves*"
   ]
  },
  {
   "cell_type": "markdown",
   "metadata": {},
   "source": [
    "*Bringel* and *Chaves* are both mainly *Asteraceae* collectors (they were included in the same SCN interest community, in another notebook)."
   ]
  },
  {
   "cell_type": "code",
   "execution_count": 9,
   "metadata": {},
   "outputs": [],
   "source": [
    "bringel_families = sorted([ (f,d['count']) for f,d in dict(scn_family['bringel,jba']).items() ], key=lambda x:x[1], reverse=True)\n",
    "chaves_families = sorted([ (f,d['count']) for f,d in dict(scn_family['chaves,da']).items() ], key=lambda x:x[1], reverse=True)"
   ]
  },
  {
   "cell_type": "code",
   "execution_count": 11,
   "metadata": {},
   "outputs": [
    {
     "data": {
      "text/plain": [
       "[('Asteraceae', 242),\n",
       " ('Myrtaceae', 37),\n",
       " ('Arecaceae', 22),\n",
       " ('Fabaceae', 21),\n",
       " ('Lythraceae', 20)]"
      ]
     },
     "execution_count": 11,
     "metadata": {},
     "output_type": "execute_result"
    }
   ],
   "source": [
    "bringel_families[:5]"
   ]
  },
  {
   "cell_type": "code",
   "execution_count": 10,
   "metadata": {},
   "outputs": [
    {
     "data": {
      "text/plain": [
       "[('Asteraceae', 566),\n",
       " ('Myrtaceae', 26),\n",
       " ('Fabaceae', 22),\n",
       " ('Melastomataceae', 18),\n",
       " ('Cyperaceae', 7)]"
      ]
     },
     "execution_count": 10,
     "metadata": {},
     "output_type": "execute_result"
    }
   ],
   "source": [
    "chaves_families[:5]"
   ]
  },
  {
   "cell_type": "code",
   "execution_count": 8,
   "metadata": {},
   "outputs": [
    {
     "data": {
      "text/plain": [
       "'Pct of Asteraceae: 0.5426008968609866'"
      ]
     },
     "execution_count": 8,
     "metadata": {},
     "output_type": "execute_result"
    }
   ],
   "source": [
    "\"Pct of Asteraceae: {}\".format(bringel_families[0][1]/ sum( cnt for f,cnt in bringel_families ))"
   ]
  },
  {
   "cell_type": "code",
   "execution_count": 12,
   "metadata": {},
   "outputs": [
    {
     "data": {
      "text/plain": [
       "'Pct of Asteraceae: 0.7850208044382802'"
      ]
     },
     "execution_count": 12,
     "metadata": {},
     "output_type": "execute_result"
    }
   ],
   "source": [
    "\"Pct of Asteraceae: {}\".format(chaves_families[0][1]/sum( cnt for f,cnt in chaves_families ))"
   ]
  },
  {
   "cell_type": "markdown",
   "metadata": {},
   "source": [
    "However, they have not collaborated in specimens recording. This is not exclus"
   ]
  },
  {
   "cell_type": "code",
   "execution_count": 17,
   "metadata": {},
   "outputs": [
    {
     "data": {
      "text/plain": [
       "'Number of Bringel and Chaves co-authorship records: 0'"
      ]
     },
     "execution_count": 17,
     "metadata": {},
     "output_type": "execute_result"
    }
   ],
   "source": [
    "\"Number of Bringel and Chaves co-authorship records: {}\".format(cwn['bringel,jba'].get('chaves,da',0))"
   ]
  },
  {
   "cell_type": "markdown",
   "metadata": {},
   "source": [
    "They are apparently not geographically nor temporally impeded of collaborating"
   ]
  },
  {
   "cell_type": "code",
   "execution_count": 22,
   "metadata": {},
   "outputs": [
    {
     "data": {
      "text/plain": [
       "Goiás               203\n",
       "Distrito Federal    137\n",
       "Tocantins            87\n",
       "Minas Gerais         14\n",
       "Bahia                 4\n",
       "Name: stateProvince, dtype: int64"
      ]
     },
     "execution_count": 22,
     "metadata": {},
     "output_type": "execute_result"
    }
   ],
   "source": [
    "occs.loc[ni['bringel,jba']]['stateProvince'].value_counts(normalize=False)"
   ]
  },
  {
   "cell_type": "code",
   "execution_count": 21,
   "metadata": {},
   "outputs": [
    {
     "data": {
      "text/plain": [
       "Minas Gerais    577\n",
       "Goiás           143\n",
       "Name: stateProvince, dtype: int64"
      ]
     },
     "execution_count": 21,
     "metadata": {},
     "output_type": "execute_result"
    }
   ],
   "source": [
    "occs.loc[ni['chaves,da']]['stateProvince'].value_counts(normalize=False)"
   ]
  },
  {
   "cell_type": "code",
   "execution_count": 49,
   "metadata": {},
   "outputs": [
    {
     "data": {
      "text/plain": [
       "2003.0     10\n",
       "2004.0     56\n",
       "2005.0     10\n",
       "2006.0     11\n",
       "2009.0     45\n",
       "2010.0     35\n",
       "2011.0    189\n",
       "2012.0     81\n",
       "2013.0      8\n",
       "Name: eventDate, dtype: int64"
      ]
     },
     "execution_count": 49,
     "metadata": {},
     "output_type": "execute_result"
    }
   ],
   "source": [
    "occs.loc[ni['bringel,jba']]['eventDate'].apply(lambda x: x.year).value_counts().sort_index()"
   ]
  },
  {
   "cell_type": "code",
   "execution_count": 50,
   "metadata": {},
   "outputs": [
    {
     "data": {
      "text/plain": [
       "2013    311\n",
       "2014    397\n",
       "2016     13\n",
       "Name: eventDate, dtype: int64"
      ]
     },
     "execution_count": 50,
     "metadata": {},
     "output_type": "execute_result"
    }
   ],
   "source": [
    "occs.loc[ni['chaves,da']]['eventDate'].apply(lambda x: x.year).value_counts().sort_index()"
   ]
  }
 ],
 "metadata": {
  "kernelspec": {
   "display_name": "Python 3",
   "language": "python",
   "name": "python3"
  },
  "language_info": {
   "codemirror_mode": {
    "name": "ipython",
    "version": 3
   },
   "file_extension": ".py",
   "mimetype": "text/x-python",
   "name": "python",
   "nbconvert_exporter": "python",
   "pygments_lexer": "ipython3",
   "version": "3.6.5"
  }
 },
 "nbformat": 4,
 "nbformat_minor": 2
}
