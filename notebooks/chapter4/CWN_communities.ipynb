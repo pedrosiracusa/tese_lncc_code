{
 "cells": [
  {
   "cell_type": "markdown",
   "metadata": {},
   "source": [
    "## Building Network Models\n",
    "# UB Collectors Coworking Network\n",
    "### CWN Communities"
   ]
  },
  {
   "cell_type": "markdown",
   "metadata": {},
   "source": [
    "---"
   ]
  },
  {
   "cell_type": "code",
   "execution_count": 1,
   "metadata": {},
   "outputs": [],
   "source": [
    "# Setting paths\n",
    "import sys,os\n",
    "import pathlib\n",
    "sys.path.insert(0,os.path.expanduser('~/caryocar'))\n",
    "sys.path.insert(0,os.path.abspath('..'))"
   ]
  },
  {
   "cell_type": "code",
   "execution_count": 2,
   "metadata": {},
   "outputs": [],
   "source": [
    "# Building the networks from data\n",
    "from setupmodels import *"
   ]
  },
  {
   "cell_type": "code",
   "execution_count": 3,
   "metadata": {},
   "outputs": [],
   "source": [
    "# Importing libraries for analysis\n",
    "import networkx as nx\n",
    "import numpy as np\n",
    "import seaborn as sns\n",
    "import matplotlib as mpl\n",
    "import matplotlib.pyplot as plt\n",
    "\n",
    "mpl.rcParams.update(mpl.rcParamsDefault)\n",
    "plt.style.use('seaborn-paper')\n",
    "sns.set_color_codes('deep')\n",
    "\n",
    "%matplotlib inline"
   ]
  },
  {
   "cell_type": "code",
   "execution_count": 4,
   "metadata": {},
   "outputs": [],
   "source": [
    "graphsdir = os.path.abspath('./graphs')\n",
    "\n",
    "if not os.path.isdir(graphsdir):\n",
    "    !mkdir graphs"
   ]
  },
  {
   "cell_type": "markdown",
   "metadata": {},
   "source": [
    "---"
   ]
  },
  {
   "cell_type": "code",
   "execution_count": 6,
   "metadata": {},
   "outputs": [
    {
     "name": "stdout",
     "output_type": "stream",
     "text": [
      "Name: \n",
      "Type: CoworkingNetwork\n",
      "Number of nodes: 6768\n",
      "Number of edges: 10391\n",
      "Average degree:   3.0706\n"
     ]
    }
   ],
   "source": [
    "print(nx.info(cwn))"
   ]
  },
  {
   "cell_type": "markdown",
   "metadata": {},
   "source": [
    "#### Filtering for visualization"
   ]
  },
  {
   "cell_type": "code",
   "execution_count": 123,
   "metadata": {},
   "outputs": [],
   "source": [
    "from copy import deepcopy\n",
    "g_filt = deepcopy(cwn)"
   ]
  },
  {
   "cell_type": "markdown",
   "metadata": {},
   "source": [
    "Filtering weaker edges ($k_w < 10$)"
   ]
  },
  {
   "cell_type": "code",
   "execution_count": 124,
   "metadata": {},
   "outputs": [],
   "source": [
    "g_filt.remove_edges_from([ (u,v) for u,v,w in g_filt.edges(data='weight_hyperbolic') if w < 10 ])"
   ]
  },
  {
   "cell_type": "code",
   "execution_count": 125,
   "metadata": {},
   "outputs": [
    {
     "name": "stdout",
     "output_type": "stream",
     "text": [
      "Name: \n",
      "Type: CoworkingNetwork\n",
      "Number of nodes: 6768\n",
      "Number of edges: 1259\n",
      "Average degree:   0.3720\n"
     ]
    }
   ],
   "source": [
    "print(nx.info(g_filt))"
   ]
  },
  {
   "cell_type": "markdown",
   "metadata": {},
   "source": [
    "Filtering components with score lower than $500$"
   ]
  },
  {
   "cell_type": "code",
   "execution_count": 141,
   "metadata": {},
   "outputs": [],
   "source": [
    "sgs = nx.connected_component_subgraphs(g_filt)\n",
    "sgs_filtered = list(filter(lambda g: sum(cnt for n,cnt in g.nodes(data='count'))>600 ,sgs))"
   ]
  },
  {
   "cell_type": "code",
   "execution_count": 166,
   "metadata": {},
   "outputs": [
    {
     "data": {
      "text/plain": [
       "[<networkx.classes.graph.Graph at 0x7f72fc533518>,\n",
       " <networkx.classes.graph.Graph at 0x7f72fc4f1320>,\n",
       " <networkx.classes.graph.Graph at 0x7f72ff4c1908>,\n",
       " <networkx.classes.graph.Graph at 0x7f72fc55e940>,\n",
       " <networkx.classes.graph.Graph at 0x7f72fc55e240>,\n",
       " <networkx.classes.graph.Graph at 0x7f72fc54fdd8>,\n",
       " <networkx.classes.graph.Graph at 0x7f72fc4f19b0>,\n",
       " <networkx.classes.graph.Graph at 0x7f72fc4f10b8>,\n",
       " <networkx.classes.graph.Graph at 0x7f72fc533390>,\n",
       " <networkx.classes.graph.Graph at 0x7f72fc5335c0>,\n",
       " <networkx.classes.graph.Graph at 0x7f72fc4f14e0>,\n",
       " <networkx.classes.graph.Graph at 0x7f72fc4f1828>]"
      ]
     },
     "execution_count": 166,
     "metadata": {},
     "output_type": "execute_result"
    }
   ],
   "source": [
    "sgs_filtered"
   ]
  },
  {
   "cell_type": "code",
   "execution_count": 167,
   "metadata": {},
   "outputs": [
    {
     "data": {
      "text/plain": [
       "NodeDataView({'campos,cj': {'count': 52}, 'gottsberger,is': {'count': 1498}, 'gottsberger,g': {'count': 169}})"
      ]
     },
     "execution_count": 167,
     "metadata": {},
     "output_type": "execute_result"
    }
   ],
   "source": [
    "sgs_filtered[1].nodes(data=True)"
   ]
  },
  {
   "cell_type": "code",
   "execution_count": 168,
   "metadata": {},
   "outputs": [],
   "source": [
    "g_filt = nx.compose_all(sgs_filtered)\n",
    "nx.set_edge_attributes(g_f,'','taxons')"
   ]
  },
  {
   "cell_type": "code",
   "execution_count": 169,
   "metadata": {},
   "outputs": [
    {
     "name": "stdout",
     "output_type": "stream",
     "text": [
      "Name: compose( ,  )\n",
      "Type: Graph\n",
      "Number of nodes: 545\n",
      "Number of edges: 1158\n",
      "Average degree:   4.2495\n"
     ]
    }
   ],
   "source": [
    "print(nx.info(g_filt))"
   ]
  },
  {
   "cell_type": "markdown",
   "metadata": {},
   "source": [
    "#### Communities"
   ]
  },
  {
   "cell_type": "code",
   "execution_count": 171,
   "metadata": {},
   "outputs": [],
   "source": [
    "import community"
   ]
  },
  {
   "cell_type": "code",
   "execution_count": 173,
   "metadata": {},
   "outputs": [],
   "source": [
    "communities = community.best_partition(g_filt)"
   ]
  },
  {
   "cell_type": "markdown",
   "metadata": {},
   "source": [
    "How many communities were found?"
   ]
  },
  {
   "cell_type": "code",
   "execution_count": 176,
   "metadata": {},
   "outputs": [
    {
     "data": {
      "text/plain": [
       "30"
      ]
     },
     "execution_count": 176,
     "metadata": {},
     "output_type": "execute_result"
    }
   ],
   "source": [
    "len(set(communities.values()))"
   ]
  },
  {
   "cell_type": "markdown",
   "metadata": {},
   "source": [
    "Set community to nodes attributes"
   ]
  },
  {
   "cell_type": "code",
   "execution_count": 182,
   "metadata": {},
   "outputs": [],
   "source": [
    "nx.set_node_attributes(g_filt,communities,name='community')"
   ]
  },
  {
   "cell_type": "markdown",
   "metadata": {},
   "source": [
    "#### Write to gexf"
   ]
  },
  {
   "cell_type": "code",
   "execution_count": 184,
   "metadata": {},
   "outputs": [],
   "source": [
    "nx.write_gexf(g_filt,'g.gexf')"
   ]
  },
  {
   "cell_type": "code",
   "execution_count": 58,
   "metadata": {},
   "outputs": [
    {
     "name": "stdout",
     "output_type": "stream",
     "text": [
      "collaborative_collectors.ipynb\tg.gexf\r\n",
      "CWN_communities.ipynb\t\tgraphs\r\n",
      "CWN_general.ipynb\t\tSCN_communities.ipynb\r\n",
      "Dataset characterization.ipynb\tSCN_connectedComponents.ipynb\r\n",
      "filter_thresh_col.pdf\t\tSCN_projections.ipynb\r\n",
      "filter_thresh.pdf\t\tteam_sizes_pcts.pdf\r\n",
      "filter_thresh_sp.pdf\t\tUntitled.ipynb\r\n"
     ]
    }
   ],
   "source": [
    "!ls"
   ]
  },
  {
   "cell_type": "code",
   "execution_count": 29,
   "metadata": {},
   "outputs": [
    {
     "data": {
      "text/plain": [
       "NodeView(('ratter,ja', 'eiten,g', 'eiten,lt', 'brito,ds', 'gomes,bm', 'mendes,vc', 'gomes,sm', 'silva,alh', 'nogales,t', 'silva,js', 'proenca,ceb', 'ianhez,ml', 'prance,gt', 'silva,nt', 'filgueiras,ts', 'heringer,ep', 'fonseca,sg', 'onishi,e', 'ferreira,a', 'philcox,d', 'gibbs,pe', 'rocha,mp', 'castro,ra', 'bertoldo,j', 'harley,rm', 'souza,rr', 'chiea,sc', 'forero,e', 'gifford,dr', 'chagas-e-silva,fc', 'nascimento,ea', 'silva,rn', 'irwin,hs', 'grearjunior,jw', 'carvalho,avm', 'plowman,tc', 'anderson,wr', 'mattos,a', 'pires,jn', 'maxwell,hh', 'silva,ts', 'soderstrom,tr', 'gomes,j', 'sucre,d', 'belem,rp', 'magalhaes,m', 'lima,hc', 'catharina,b', 'pinheiro,rs', 'silva,lam', 'araujo,cm', 'haridasan,m', 'ramos,j', 'lima,da', 'santos,rrb', 'fonseca,fs', 'cobra,lq', 'oliveira,j', 'mendes,jm', 'mariza,g', 'paula,je', 'addison,g', 'froes,rl', 'stieber,mt', 'davis,ew', 'black,ga', 'castellanos,a', 'alves,h', 'lima,d', 'kirkbride-junior,jh', 'ono,ekm', 'campos,cj', 'gottsberger,is', 'cruz,nd', 'davis,ph', 'argent,gcg', 'richardspwin', 'aguiar,an', 'cobra,l', 'lima,a', 'barroso,gm', 'cardoso,f', 'ferreira,msg', 'kirkbride,mcg', 'ana', 'maria,j', 'barros,s', 'fonsecafilho,j', 'martin,rt', 'hatschbach,g', 'koczicki,c', 'almeida,sp', 'silva,ja', 'rizzini,ct', 'amaral,il', 'guimaraes,lr', 'araujo,i', 'steward,wc', 'barros,mag', 'ganem,rs', 'hunt,dr', 'veralucia', 'bean,mf', 'coelho,lf', 'rodrigues,wm', 'martinelli,g', 'smith,gm', 'neto,mda', 'vital,dm', 'klein,rm', 'reitz,pr', 'fonseca,sf', 'wasshausen,dc', 'duarte,ap', 'fonseca,js', 'ribeiro,jf', 'pereira,bas', 'mendonca,rc', 'lopes,ec', 'menezes,mlm', 'ribeiro,r', 'ramos,jf', 'westra,lyth', 'hill,sr', 'kallin-arroyo,mt', 'machado,jwb', 'rezende,av', 'viollati,lg', 'dusi,rlm', 'ramos,ae', 'ferreira,lv', 'dias,jb', 'pereiraneto,m', 'walter,bmt', 'araujo,gm', 'rocha', 'albuquerque,jm', 'lima,n', 'souza,ml', 'starling,mf', 'jesus,jo', 'nascimento,ae', 'munhoz,cbr', 'franca,f', 'melo,e', 'cardoso,es', 'oliveira,nro', 'bishop,le', 'killip,ep', 'maguire,b', 'maguire,ck', 'steyermark,ja', 'lleras,e', 'pena,bs', 'monteiro,op', 'almeda,f', 'daly,dc', 'forero,le', 'beck,s', 'hopkins,mjg', 'bromley,gl', 'nunes,jms', 'lana-sobrinho,jp', 'sarmento,ac', 'fryxell,pa', 'l,d', 'smith,lb', 'silva,slo', 'magnanini,a', 'lee,eyt', 'bunting,gs', 'wurdack,jj', 'cavalcanti,tb', 'zappi,dc', 'mellosilva,r', 'kawasaki,ml', 'monachino,jv', 'cowan,rs', 'xavierfilhol', 'politi,l', 'keith,wm', 'browne,gw', 'adderley,ls', 'sa,cf', 'lima,rp', 'maas,pjm', 'barneby,r', 'gates,be', 'lima,jcm', 'silva,mn', 'santos,ts', 'storr,rm', 'mayo,sj', 'carauta,jpp', 'torres,laor', 'pires,sr', 'sechy,mts', 'rizzini,cm', 'rosa,mt', 'tillet,ss', 'tillet,cl', 'boyan,r', 'fanshawe,db', 'holmgren,n', 'barreto,hlm', 'brade,ac', 'aristeguieta,l', 'irwine,cg', 'esteves,gl', 'mendes,mjb', 'werneck,wl', 'pirani,jr', 'ochioni,p', 'egler,wa', 'stannard,bl', 'cordeiro,i', 'rossi,l', 'brighton,ca', 'renvoize,sa', 'erskine,cm', 'menezes,nl', 'semir,j', 'painar,nc', 'ferreira,mfn', 'silva,ap', 'eira,mts', 'borgatto,df', 'silva,pen', 'souza,mgm', 'silva,jcs', 'bucci,ffb', 'pott,vj', 'tavares,ccf', 'pott,a', 'cunha,cn', 'fonseca,as', 'hashimoto,my', 'splett,s', 'rizzo,ja', 'silva,ma', 'santos,gf', 'lima,amb', 'bridgewater,s', 'rocha,m', 'batista,g', 'cardoso', 'felfili,jm', 'belem,pr', 'silva,gt', 'lima,vp', 'alvarenga,d', 'costa,c', 'cesar,hl', 'macleish,nff', 'stutts,jg', 'calouro,a', 'goesjunior,cd', 'mota,cda', 'rosas,n', 'ferreira,cac', 'leite,fq', 'rocha,dms', 'cabral,e', 'schinini,a', 'tressens,sg', 'bohren,a', 'todzia,ca', 'medeiros,mb', 'silva,sr', 'alcina', 'maia', 'rodrigues,n', 'pais,no', 'cesar,p', 'ginzbarg,s', 'goncalves,eg', 'oliveira,rs', 'gregory,wc', 'krapovickas,a', 'sano,pt', 'silva,trs', 'freire-fierros,a', 'chaves,ft', 'garofalo,cr', 'martins,rc', 'zerbini,gj', 'afonso,ap', 'santos,ml', 'barbosa,ma', 'freitas,rip', 'ferreira,so', 'elisregina', 'dias,cm', 'silva,n', 'santos,jb', 'litt,a', 'moretto,gl', 'gumiero,a', 'souza,mfl', 'clayton,wd', 'sautchuk,j', 'almeida,sms', 'landrum,lr', 'gomesjunior,jc', 'travassos', 'mattos,j', 'taxonomyclassofuniversidadedebrasilia', 'garritano,g', 'cardoso,oav', 'ferreira,hm', 'guimaraes', 'azevedo', 'arbo,mm', 'nunes,jvc', 'attala,nc', 'bianchetti,lb', 'harris,sa', 'silva,jm', 'hatschbach,m', 'fernandes,jb', 'thomas,ww', 'mimura,i', 'mitzi,g', 'lall,h', 'terwelle,bjh', 'koekn,j', 'matos,a', 'matos,j', 'fernandes,ag', 'fernandes,r', 'cordeiro,l', 'morais,plr', 'kallunki,ja', 'cervi,ca', 'pereira,e', 'clemente,cm', 'ayansu', 'bida,a', 'mecenas,vv', 'oldenburger,fhf', 'nelson', 'giulietti,n', 'davidson,c', 'gottsberger,g', 'oliveira,fcao', 'guimaraes,d', 'landrum,ss', 'martins,ab', 'miotto,sts', 'salis,mf', 'medeiros,lb', 'lanne', 'doi,s', 'furtado,pp', 'viannajunior,rl', 'azevedo,mlm', 'ribeiro,m', 'simon,mf', 'antunes,nb', 'santos,gb', 'cardoso,cfr', 'custodio,j', 'barbosarodrigues,s', 'oliveira,pp', 'rodrigues,sb', 'pinto,as', 'santana,sc', 'lima,lha', 'lisboa,ac', 'novelino,rf', 'gando,rl', 'fonseca,ra', 'carmo,jj', 'lima,es', 'araujo,afb', 'raw,a', 'moraes,hc', 'jacques,el', 'roath,w', 'silva,gp', 'landim,mf', 'kozovits,ar', 'leao,ff', 'lake,a', 'jardim,jg', 'pires,frs', 'nascimento,ns', 'queiroz,lp', 'batista,jan', 'godoy,rz', 'santos,af', 'oliveira,o', 'marques,gs', 'ramos,f', 'araujo,da', 'rodrigues,ma', 'souza,emt', 'rosa,na', 'santos,mr', 'davidse,g', 'soares-silva,lh', 'sakuragui,cm', 'souza,vc', 'lughadha,en', 'lima,m', 'baumgarten,j', 'amaral,mf', 'farias,r', 'milhomens,lc', 'carvalho,ja', 'sato,mn', 'oliveira,rc', 'althoff,kc', 'freitas,cv', 'carvalhosilva,m', 'silva,rr', 'calago,k', 'paulo,f', 'king,rm', 'miranda,alc', 'miranda,zjg', 'miranda,j', 'guimaraes,pjf', 'giulietti,aml', 'firetti,f', 'duarte,ar', 'souza,jp', 'miyagi,ph', 'lopes,rd', 'bucher,jp', 'vicentini,a', 'souza,mad', 'machado,mg', 'duval,fg', 'glaziou,am', 'sampaio,ab', 'simpson-junior,pl', 'mores,jlg', 'caires,cs', 'yamazaki', 'cardoso,c', 'freitas,c', 'santanna,me', 'ramalho,cl', 'fonseca,lm', 'goncalves,r', 'mello,c', 'bulhao,cf', 'augusto,mm', 'leite,lq', 'braga,p', 'paiva,jga', 'teles,am', 'paiva,jgh', 'leite,jrs', 'eriel', 'ribeiro,mf', 'fonseca', 'gislaine', 'pereira,djs', 'oliveira,mc', 'leitao-filho,h', 'monteirojrborges', 'amorim,l', 'bernacci,m', 'salviani,er', 'lorenzoni,l', 'lorenzi,h', 'cesarino,f', 'pereira,la', 'cerqueira,lsc', 'potzernheim,ml', 'palhares,d', 'silveira,ces', 'assuncao,pac', 'mori,sa', 'sena,g', 'silveira,d', 'furlan,a', 'kameyama,c', 'filho,jf', 'francisco,em', 'noletto,lg', 'cornelio,in', 'ribeiro,f', 'oliveira,scc', 'lemos', 'noblick,lr', 'brom,acm', 'oliveira,a', 'torres,dsc', 'correia,c', 'freitas,i', 'castro,i', 'silva,bm', 'krieger,pl', 'forzza,rc', 'labiak,ph', 'vieira,s', 'peixoto,m', 'leoni,ls', 'marinho,r', 'klein,vlg', 'santos,er', 'nadruz,m', 'pinheiro,d', 'bonilia,m', 'amorim,ah', 'morbeck,a', 'cruz,al', 'silva,jos', 'cozac,f', 'goodland,r', 'sastre,c', 'ratter,pj', 'pedrosa,ns', 'araujo,f', 'oliveira,amm', 'costa,rcl', 'lopes,isn', 'macedo,m', 'hass,jh', 'lindeman,jc', 'rolston,e', 'freeman,b', 'lombardi,ja', 'mota,rc', 'laramorais,ac', 'garcia,ai', 'paixao,jf', 'silvajunior,mc', 'lemos,k', 'guimaraes,o', 'romero,c', 'ramos,kmo', 'pinheiro,ws', 'lima,jf', 'kubitzki,k', 'pen,c', 'rabelo,bv', 'campbell,dg', 'nelson,bw', 'ongley,jc', 'bahia,rp', 'jangoux,j', 'procopio,lc', 'mesquita,mr', 'brito,jm', 'jackson', 'lowy,b', 'moreira,mv', 'nelson,b', 'lowrie,sr', 'mcpherson,gd', 'fagg,cw', 'fonseca,ml', 'barbosa,a', 'souza,vm', 'castro,aj', 'nunes,e', 'ibanezgarcia,i', 'borges,pl', 'benton,fp', 'delarco,mr', 'monteiro,jrb', 'neto,la', 'andrelinho', 'mattossilva,la', 'callejas,r', 'kirizawa,m', 'morretes,bl', 'abe,lm', 'ribeiro,aj', 'euponino,a', 'berg,cc', 'hage,jl', 'silva,f', 'tatto,d', 'brito,hs', 'gatti,j', 'gouvea,lk', 'joly,c', 'vinha,sg', 'santos,ds', 'guedes,jc', 'lima,j', 'alencastro,a', 'leite,g', 'xavier,g', 'figueiredo,rr', 'campolino,al', 'delgado,sm', 'guimaraes,ph', 'oliveira,rir', 'magalhaes,mp', 'ribeiro,dg', 'libano,am', 'leite,gs', 'abreu,gx', 'heleno', 'paes,no', 'brito,m', 'matos,vl', 'farias,rrs', 'silva,gs', 'moura,acc', 'carvalho,sf', 'tarroda,n', 'yamamoto,k', 'cristobal,cl', 'barbosa,e', 'cruz,jm', 'cordeiro,j', 'alves,m', 'santos,e', 'unwin,m', 'costa,ae', 'brugger,mc', 'carvalho,alv', 'fankdecarvalho,sm', 'cruz,pbs', 'raulino,taf', 'eherenberger', 'amaral,as', 'dibben,m', 'brako,l', 'reese,wd', 'kinoshitagouvea,ls', 'sano,sm', 'oliveira,ms', 'lima,iv', 'abdala,gc', 'campos,lowf', 'kral,r', 'wanderley,mgl', 'vilar,h', 'atkins,s', 'santos,nr', 'magalhaes,gm', 'heringer,ae', 'martins,fd', 'ribas,os', 'campos,gl', 'oliveira,rp', 'brito,at', 'conceicao,as', 'assuncao,s', 'godinho,r', 'lourteig,a', 'pabst,gfj', 'dressler', 'martins,fr', 'rodrigues,rr', 'souza,e', 'pruski,j', 'mello,cms', 'roque,n', 'filho,jp', 'delfim,cfm', 'sousa,gm', 'hind,djn', 'taylor,n', 'carneiro,d', 'rodrigues,m', 'senna,lr', 'brochado,al', 'lima,gs', 'bastos,ek', 'queiroz,rf', 'ganev,w', 'vogel,s', 'pinto,a', 'silva,mm', 'scariot,ao', 'zoccoli,dm', 'demo,c', 'batista,ac', 'jeronimo,ca', 'gomes,acm', 'lana,jp', 'rodrigues,as', 'suganuma,e', 'pastore,jfb', 'ribeiro,jels', 'silva,cf', 'nascimento,jr', 'arcanjopinheiro', 'campos,mtva', 'galeao,p', 'radel,g', 'sampaio,mb', 'jesus,av', 'alvarenga,a', 'filgueiras,ad', 'drumond,m', 'bernal,ra', 'correia,cas', 'passos,fb', 'costa,pls', 'martins,cr', 'brasileiro,ac', 'vicente,jc', 'silva,rm', 'pereira,ffo', 'alvim,mb', 'santos,fam', 'pinheiros,em', 'pereira,ga', 'souza,fb', 'linington,s', 'coradin,lc', 'vieira,jga', 'maury,c', 'nobrega,mg', 'analuiza', 'salles,ajh', 'alves,j', 'nettos,dam', 'costa,rp', 'meirelles,eml', 'verano,c', 'benson,ww', 'ferreira,el', 'pipoly,jj', 'tavares,as', 'cress,a', 'rodrigues,mt', 'hensold,n', 'melofilho,b', 'ferreira,lr', 'deodato,f', 'onishi,gl', 'caruso,ml', 'aquino,fg', 'netto,nl', 'ferreirapaixao,j', 'miralha,m', 'fierro,af', 'laessoe,t', 'silva,t', 'mayworn,ma', 'clodoaldo', 'junqueira,mer', 'nunes,ts', 'souza,er', 'rios,l', 'lemos,mjs', 'jesus,i', 'cordeiro,e', 'ferreira,lm', 'matsunagaono,ek', 'campos,ar', 'dias,mc', 'perri,cg', 'silva,af', 'medeiros,c', 'breder,j', 'rodrigues,lkm', 'santos,ad', 'souza,ng', 'custodiofilho,a', 'silva,sm', 'santin,da', 'salles,aeh', 'passos,d', 'silva,r', 'pereira,jb', 'westenberger,sj', 'poliquesi,cb', 'amorimneto,l', 'silva,ne', 'guarimneto,g', 'braga,pis', 'moraes,prl', 'amorim,ama', 'leopoldino,fs', 'santos,eb', 'assumpcao,d', 'kaustky,ra', 'diaz,e', 'cremasco,e', 'costa,fn', 'fiaschi,p', 'fonnegra,r', 'abreu,lcr', 'mantovani,w', 'farah,f', 'sanches,cd', 'scalon,vr', 'wongstchowski,m', 'sleumer', 'bezerra,mg', 'queiroz,rp', 'castro,if', 'barros,f', 'melo,mmrf', 'jung,sl', 'lima,as', 'viegas,ap', 'compagnoli,rc', 'yano,o', 'aragona,m', 'ferreira,ja', 'yano,t', 'bezerra,m', 'porto,jlr', 'silva,e', 'ferreira,ar', 'silva,m', 'manosso,a', 'lima,hs', 'neto,jp', 'godoi,jv', 'romaniucneto,s', 'pereira,df', 'lieberg,sa', 'spigolon,jr', 'salis,sm', 'magalhaes,at', 'rodrigues,i', 'tavares,g', 'xavier,scs', 'santosh', 'silva,s', 'costaf', 'jesus,fpr', 'marquete,r', 'cruz,p', 'matos,s', 'silveira,jn', 'skorupa,la', 'santos,hgp', 'dias,tab', 'cordovil,sp', 'sendulsky,t', 'soejarto,dd', 'shepherd,gj', 'borges,hbn', 'suda,cnk', 'zickel,c', 'lohmann,lg', 'sothers,ca', 'pereira,ec', 'silva,cs', 'ramos,pcm', 'sanaiotti,tm', 'carvalho,vm', 'sousasilva,jc', 'sa,spps', 'caixeta,w', 'paracauta,p', 'fothergill,jm', 'simao,r', 'eunice', 'prado,j', 'ruddall,p', 'carneiro,ds', 'nascimento,fh', 'passon,lm', 'taituba', 'castro,ea', 'bensusan,nr', 'marimon,bs', 'macedo,a', 'andahur,jp', 'assis,mc', 'pereira,rl', 'barros,bs', 'rosa,loc', 'vieira,aj', 'soares,ml', 'costa,mas', 'jesus,gn', 'prado,ajl', 'favalessa,o', 'freitascampos,jm', 'felippe,gm', 'cunha,c', 'rodrigues,s', 'ramos,a', 'rosa,c', 'allem,ac', 'schultzekraft,r', 'vieira,g', 'cid,cac', 'aulino,o', 'rickson,f', 'rodrigues,k', 'henderson,a', 'parker,d', 'cornelio', 'pennington,td', 'silva,mg', 'sobral,m', 'miranda,m', 'carlitos', 'leal,g', 'silva,oa', 'ramalho,r', 'rodrigues,g', 'bresolin,a', 'eliana', 'pkl', 'mendonca,mja', 'castro,rm', 'pifano,ds', 'dias,jj', 'brochado,ts', 'pennington,rt', 'volpi,rl', 'pacheco,ra', 'nakajima,jn', 'romero,r', 'farias,ca', 'ana,lima', 'araujo,rf', 'campos,mbs', 'tanno-silva,pi', 'pereira,ta', 'soares,c', 'chaves,e', 'silvafilho,jpb', 'costa,ir', 'borghetti,f', 'castro,clf', 'marra,v', 'cruz,mp', 'bezerra,kmg', 'petroli,c', 'rivera,vl', 'consolaro,hn', 'rua,gh', 'costa,jvm', 'bringel,jba', 'souza,srg', 'cavechia,la', 'salimena,frg', 'verardo,sms', 'conceicao,ca', 'tozzi,am', 'jairo', 'wilson', 'way,m', 'costa,nms', 'leoni,am', 'labouriau,l', 'fernandez,a', 'ferreira,lnc', 'dias,ar', 'barros,mls', 'andrade,mc', 'turmadeetnobotanicadocerrado', 'amaral,ag', 'ledoux,p', 'stegemann', 'cesar,r', 'santos,aa', 'groger', 'romerosilvamgdmariinha', 'silva,csp', 'bastosdpreta,mag', 'srair,srmilton,rodrigo', 'mendesdzefa,ms', 'moraisdnina,jr', 'souzaesilvadcezarina,c', 'gomes,ap', 'carol,d', 'pereira,pmf', 'sodredleonidia,lc', 'campos,rp', 'silva,am', 'garcia,l', 'peixoto,gx', 'rezende,lfs', 'pereira,js', 'pietrobom,mr', 'santiago,acp', 'santos,mrr', 'andrade,laa', 'silva,cv', 'mattos,n', 'turmadebotanicadecampo', 'matos,mq', 'lobato,lc', 'rosario,cs', 'senna,c', 'oliveira,ca', 'santos,fa', 'cruvinel,h', 'cortez,d', 'farias,lg', 'nascimento,r', 'santos,mdm', 'juliate,iv', 'miranda,sc', 'carvalho,ps', 'montoro,gr', 'morais,at', 'quintanilha,ap', 'cipriano,tm', 'aranha,c', 'arcanjo,d', 'rodriguessilva,r', 'cardoso,ls', 'queiroz,jt', 'xavier,ap', 'borges,ec', 'nunes,a', 'pereira,kbd', 'macedo,wc', 'cbo', 'marcus', 'roberto', 'grando,rlsc', 'santos,lr', 'morais,lfp', 'silva,vs', 'vieira,rf', 'silva,a', 'maia,wd', 'oliveira,cr', 'mitja,d', 'vale,gd', 'haidar,rf', 'pires,fs', 'sales,m', 'chukr,ns', 'zanin,a', 'pereira,lbs', 'souza,lf', 'oliveira,vg', 'soares,jf', 'perfeito,jps', 'tamashiro,jy', 'webster,gl', 'pinto,e', 'jose,maria', 'roberto,j', 'braun,s', 'paulino,l', 'henriques,r', 'brito,leb', 'rodrigues-junior,ce', 'ana-paula', 'carmen', 'gustavo', 'matheus', 'silva,sjg', 'costa,jm', 'moura,io', 'pinto,jrr', 'lindoso,gs', 'santos,pam', 'hattori,eko', 'pietrarelli,j', 'renato', 'amaral,mce', 'felix,m', 'vieira,f', 'barros,r', 'marques,i', 'araujo,gp', 'pequeno,sa', 'chautems,a', 'carvalho,c', 'sena,tsn', 'costa,mjsl', 'batista,gs', 'borges,jwm', 'carneiro,j', 'silva,ro', 'mazine-capelo,ff', 'romao,go', 'gasparini,ml', 'ferreira,mb', 'arantes,a', 'bueno,nc', 'beltrao,l', 'oliveira,ecl', 'silva,wj', 'sousa,r', 'portilho,t', 'sidney', 'damascenojunior,ga', 'zarucchi,j', 'silva,asl', 'dias,t', 'turmadevegetacaodocerrado', 'zanatta,mrv', 'lindoso,dp', 'malta,ea', 'dias,ace', 'lourenco,lr', 'merisse,rj', 'dias,rra', 'marana,jc', 'cunha,mmr', 'bastianon,cvt', 'reis,lr', 'carvalho,j', 'macedo,ya', 'alves,lc', 'freire,gv', 'ferreira,vf', 'pinheiro,a', 'osmorino', 'silva,df', 'tyski,l', 'dias,eba', 'silveira,am', 'nogueira,lmg', 'faria,jeq', 'silva,as', 'pereira,cb', 'moreira,alc', 'paz,jrl', 'staggmeier,vg', 'vasconcelos,tnc', 'lucas,ej', 'chaves,da', 'lemos,hl', 'parente,hvm', 'bredt,a', 'villarroel,d', 'souza,gf', 'guimaraes,rm', 'bausen,e', 'demuner,v', 'cruz,ta', 'belisario,m', 'wood,jri', 'magnago,lfs', 'melo,ms', 'rosa,po', 'hoehne,w', 'moldenke,hn', 'fontella,jp', 'faria,bp', 'peres,a', 'aragao,jg', 'conceicao,gm', 'nogueira,e', 'matos', 'milaneze,m', 'magenta,m', 'coffaninunes,jv', 'chaves,mj', 'ferreira,e', 'abdo,msa', 'schessl,m', 'castrillon,ski', 'faria,jg', 'santos,ajv', 'mattos,sp', 'santosneto,aj', 'miranda,e', 'bicalho,h', 'alves,mv', 'torke,bm', 'rocha,ea', 'oliveira,aa', 'silva,mv', 'kinupp,vf', 'nogueira,p', 'marques,r', 'barreto,kd', 'vitti,fx', 'fernandes,gdf', 'dunaiskijunior,a', 'soares,ae', 'cordeiro,hw', 'sevilha,ac', 'albino,rs', 'alencar,me', 'santos,kmr', 'marchiori,jn', 'pinheiro,r', 'souza,i', 'jesus,ng', 'lima,cs', 'vicente,a', 'moura,d', 'eladio', 'vicencia', 'schettino,vm', 'milena', 'nunes,g', 'valdomiro', 'bezerra,a', 'monteiro', 'zardini,e', 'saenz,a', 'wilmotdear,m', 'martins,mv', 'silva,fj', 'cozac,lfa', 'barbosa,jc', 'paiva,vf', 'regis,t', 'delprete,pg', 'peters,jn', 'filho,jpb', 'spinola,ac', 'graziella,m', 'franco,c', 'irnaldo', 'carvalho-leite,sl', 'meirelles,ml', 'reis,a', 'campos,jmp', 'caceres,s', 'ferrucci,s', 'vanni,r', 'maycock,pf', 'nilo', 'maschio,w', 'soares,a', 'costa,ef', 'marcio', 'plk', 'martins,ma', 'william', 'caio', 'emilia,m', 'maria', 'gabriel', 'gomes,vs', 'duarte,dm', 'moura,rd', 'veigas,gp', 'viegas,gp', 'silva,l', 'goes,r', 'fonseca,sc', 'guevara,ae', 'trevel', 'cisneros,la', 'fagundes,ja', 'hekking,wha', 'kramer,ku', 'rodrig', 'pierucettii,rlg', 'jesus,rs', 'borges,dn', 'vidigal,gpo', 'calaca,j', 'alves,as', 'carvalho,sm', 'souza,eb', 'cavalcanti,fs', 'ramos,r', 'fonsecafilho,f', 'guarino,esg', 'marques,mcm', 'batista,ma', 'geoghegan,i', 'whitty,p', 'freire,sy', 'alves,af', 'salles,pa', 'souza,sp', 'silva,spc', 'vieira,rc', 'pasquale,ga', 'vieira,jg', 'fonseca,fg', 'brito,rm', 'lenza,e', 'simon,rc', 'nogueira,lc', 'antezana,fl', 'minervino,js', 'oliveira,rg', 'bezerra,lfd', 'rezende,jm', 'santos,hcf', 'netto,dam', 'goncalves,lr', 'ribeiro,rc', 'ferreira,ccs', 'stein,mg', 'ferreira,rs', 'angarten,nbo', 'eugenio,cuo', 'correa,acg', 'inazawa,fk', 'sabbag,mrl', 'goes,btpm', 'santos,tp', 'vale,jv', 'guimaraes,ll', 'lima,amab', 'perdigao,v', 'griboski,ra', 'arruda,vr', 'astorino,a', 'rezende,mm', 'capellarijunior,l', 'araujo,ao', 'cota,mrc', 'foster', 'barros,gv', 'arruda,r', 'amorim,eh', 'mendes,s', 'araujo,rc', 'neto,mp', 'fernandes,cr', 'souza,enf', 'felizola,lb', 'fagg,jmf', 'logrado,lpl', 'rodrigues,p', 'fernandes,jh', 'mendes,mra', 'barros,js', 'souza,jn', 'batista,go', 'vanderlei,a', 'bertoli,ag', 'hon,mj', 'cruz,ga', 'marouelli,lp', 'ribeiro,ghpm', 'solorzano,a', 'silveira,i', 'paiva,ao', 'goncalves,jc', 'alves,mm', 'giotto,ac', 'miranda,fs', 'vaz,amsf', 'silva,em', 'garboggini,h', 'pinheiros,s', 'raimundo,r', 'souzasilva,s', 'cezare,chg', 'machadoneto,a', 'andrade,jb', 'kuhlmann,mp', 'spinola,cm', 'lima,f', 'pereira,rc', 'lopo,n', 'florenzano,tg', 'hernandezfilho,p', 'soares', 'barbosa,aaa', 'castro,nm', 'fonseca,rr', 'castro,rr', 'londe,kc', 'silva,mr', 'zanella,j', 'arbocz,gf', 'acera,v', 'ramidorff,ta', 'fontes,cg', 'marocollo,jf', 'padua,r', 'santos,rf', 'lima,fs', 'cardoso,rm', 'rapini,a', 'brandao,mmv', 'casella,fm', 'anael', 'cavalcante,pb', 'diniz,bm', 'kent,m', 'leme,je', 'frasier,rl', 'dardano', 'meneguzzo,tec', 'santos,lc', 'conceicao,g', 'peresjunior,ak', 'escobar,msi', 'albuquerque,vba', 'ferreira,jn', 'silva,lf', 'villar,ts', 'lima,l', 'pereira,im', 'santos,wf', 'ferreira,hd', 'bosquetti,lb', 'matsuoka,lg', 'souza,tc', 'francener,a', 'silva,ss', 'silva,br', 'saddi,n', 'prado,lb', 'gontijojunior,jab', 'monteiro,rf', 'mora,r', 'avelar,mg', 'saavedra,mm', 'sugiyama,m', 'mattos,aj', 'alkimim,w', 'yamamoto,m', 'vieirajunior,wcj', 'somavilla,nsd', 'neiva,caf', 'matos,icg', 'camara,peas', 'sousa,e', 'clavijo,j', 'oliveira,jrpm', 'chacon,rg', 'guimaraes,m', 'soares,aer', 'ahti,t', 'breyer,lm', 'valdevino', 'moura,c', 'baitello,jb', 'borges,sm', 'nascimento,fhf', 'sousa,aea', 'oliveira,ml', 'silva,si', 'nascimento,ds', 'mello,a', 'paes,mp', 'henriques,ok', 'vera,m', 'rocha,rn', 'leite,rn', 'santiago,m', 'lima,mjr', 'dias,e', 'tan,bc', 'ho,b', 'pereira,a', 'esteves,am', 'senna,pac', 'marques,cc', 'moreira,jc', 'teixeira', 'silva,jcm', 'santana,fh', 'griffin,d', 'barbosa,vp', 'coelho,ld', 'silveira,ma', 'tiago,ps', 'chagas', 'r', 'grawryszewski,fm', 'brand,gd', 'oliveira,le', 'nascimento,nr', 'mello,vf', 'bonomo,vs', 'marques,phs', 'gama,r', 'nunes,l', 'portela,p', 'santos,br', 'petinibenelli,a', 'gomes,sag', 'meneguzzo,je', 'campos,lzo', 'lola', 'ibrahim,m', 'otto', 'serafimsobrinho,j', 'isejima,e', 'meguro,m', 'pavao,oc', 'medri,c', 'farias,sc', 'moreira,ga', 'santos,jr', 'camargo,eh', 'bercot,c', 'neto,jaam', 'ferreira,la', 'spichiger,r', 'loizeau,pa', 'baez,p', 'ribamar,j', 'ferreira,fr', 'ramos,dm', 'alves,pd', 'otavio', 'polcheira,c', 'sosti,e', 'nascimento,l', 'perini,es', 'cunha,lv', 'silvafilho,jccm', 'cavalcante,p', 'souza,s', 'franczak,dd', 'peralta,df', 'cavalcantesilva,d', 'rolim,lb', 'leite,krb', 'luna,ti', 'moreira,krm', 'isejima,em', 'longhi,hm', 'wagner,hl', 'silva,ga', 'kummrow,r', 'dalmacio,j', 'paulino,c', 'neto,ajs', 'freitas,caa', 'lopes,ms', 'wrigley,bl', 'dittrich,vao', 'marunak,v', 'pueyo,h', 'oliva,o', 'cordeiro', 'bessler,h', 'mahajan,i', 'bernacci,lc', 'jesus,n', 'ek,rc', 'jansenjacobs,mj', 'gortsvanrijin,ara', 'barros,icl', 'persaud,r', 'sousa,hs', 'sousa,sr', 'urbano', 'assuncao,v', 'sartori,a', 'silva,cj', 'allem,ln', 'rosa,l', 'pio,ma', 'silva,eg', 'moraes,ams', 'silva,jl', 'junqueira,di', 'almeida,te', 'souza,dt', 'silva,j', 'ribeiro,msp', 'dutra,vf', 'rolim,mb', 'salmito,we', 'radovancich,a', 'pellegrini,g', 'lopez,g', 'motta,jt', 'malkowski,sr', 'tawjoeran,ja', 'pedrosa,lp', 'tollendal,l', 'edson,bc', 'valls,jfm', 'kennedy,al', 'oliveira,gm', 'santos,ep', 'sajo,mg', 'toledo,cb', 'santos,aka', 'campos,sm', 'toledo,j', 'pereira,c', 'pilges', 'santos,es', 'araujo,s', 'pereira,ab', 'goncalves,al', 'altamiro', 'apparicio', 'valente,la', 'gregory,dp', 'marques,a', 'paixao,jl', 'fonseca,dv', 'santos,mac', 'lanna,jps', 'foster,w', 'elias,si', 'campos,fj', 'temponi,lg', 'udulutsch,rg', 'souza,sc', 'oliveira,vc', 'silvafilho,ap', 'acevedorodriguez,p', 'abreu,i', 'sasaki,d', 'barreto,vc', 'santos,sk', 'monteiro,p', 'chaves,jm', 'fraga,cn', 'neri,j', 'meirelles,je', 'neto,lm', 'souza,fs', 'abreu,nl', 'viana,pl', 'mota,t', 'pereira,jda', 'freire,ec', 'freitas,gs', 'mayo,s', 'ichaso,cl', 'larroche,r', 'guimaraes,e', 'ramos,vl', 'silva,ds', 'renno,cd', 'zifirino,r', 'sacco,jc', 'ahumada,z', 'ferrucci,ms', 'tsuji,r', 'paiva,mrc', 'souza,lrm', 'sampaio,d', 'farah,ft', 'sobierajski,gr', 'freitas,ca', 'silva,mmr', 'vanini,a', 'ivanauskas,nm', 'rozza,a', 'benini,rm', 'oliveira,jos', 'soares,far', 'dambros,la', 'miranda,eb', 'sobrinho,jc', 'conceicao,sf', 'negrett,a', 'lisboa,p', 'carreira,l', 'juchum,fs', 'valim,pcn', 'nobre,ph', 'ferreira,fm', 'carvalho,g', 'lopes,mmm', 'gomes,lcj', 'valente,asm', 'tosta,cd', 'urbanetz,c', 'verola,cf', 'dutilh,jha', 'silveira,er', 'urdampilleta,jd', 'obando,s', 'belgrano,m', 'nakakura,hcc', 'rio,mcs', 'meireles,ld', 'nunes,ja', 'dias-melo,r', 'junqueira,ab', 'lima,lr', 'pontes,af', 'lopes,rf', 'nave,ag', 'dario,fr', 'bertani,df', 'rando,jg', 'honorato', 'lewis,gp', 'queiroz,d', 'rocha,f', 'carmo,da', 'oliveira,acp', 'pereira,map', 'nakagomi,my', 'ulson,smbv', 'vendrameto,lp', 'souza,aa', 'fernandes,rd', 'porto,ac', 'martini,a', 'evandro', 'gentry,ah', 'oliveira,ap', 'duarte,pc', 'santos,aab', 'torres,maa', 'souza,cn', 'silva,agp', 'pereira,ag', 'oliveira,woe', 'ribeiro,ac', 'poppendieck,h', 'almeida,gem', 'guedes,ml', 'siers,sr', 'magill,re', 'pooniah', 'gisil,j', 'guilherme,fa', 'amaral,af', 'couto,j', 'ferreira,h', 'lemos,mj', 'allevato,sr', 'rios,ls', 'santos,m', 'ladeira,jl', 'ferreira,m', 'carneiro,a', 'rocha,a', 'andrade,bs', 'orlando', 'ferreira,ag', 'marques,mf', 'reis,ps', 'costa,j', 'santos,ma', 'figueiras,rc', 'salles,a', 'moreira,tb', 'pinheiro,eml', 'marangon,gr', 'reis,pa', 'vieira,jps', 'pinheiro,fp', 'conceicao,tc', 'diniz,cc', 'lourenco,jml', 'chavez,de', 'felix,lp', 'pires,mfo', 'pedroga,ja', 'piva,jh', 'correa,tr', 'frisby,s', 'milliken,w', 'pena,em', 'miranda,am', 'projetofloracristalino', 'vieira,i', 'silva,mib', 'borges,rax', 'perdiz,r', 'fontana,a', 'diamond,s', 'almeida,lp', 'souza,rpm', 'polisel,rt', 'guerin,n', 'silva,jb', 'godoy,jrl', 'mota,a', 'costa,va', 'souza,d', 'souza,fm', 'sartre,lh', 'modesto,a', 'machado,sd', 'miashike,rl', 'lattore,rps', 'rocha,e', 'pastore,ja', 'vilela,fesp', 'stehmann,jr', 'mota,nfo', 'miranda,s', 'rosa,d', 'atkinson,r', 'silva,sc', 'heluey,ma', 'valente,a', 'groppojunior,m', 'marcato,ac', 'soffiatti,p', 'araujo,fs', 'assis,lcs', 'magalhaes,ms', 'fazza,lfa', 'lopes,av', 'sabino,m', 'lareher,b', 'isaias,rms', 'oliveira,jdp', 'cardoso,fs', 'oliveira,miu', 'ribeiro,go', 'verboonen,sm', 'lyralemos,r', 'sousa,g', 'pohl,rw', 'bulhoes,b', 'esteves,r', 'accioly', 'oliveira,va', 'azevedo,inc', 'neves,f', 'farias,b', 'martins,r', 'meunier,i', 'pinheiro,fc', 'almeida,jgl', 'silva,gd', 'falcao,jia', 'koch,ak', 'leal,es', 'moura,os', 'melo,js', 'pereira,r', 'konno,t', 'andrikopoll,f', 'brahim,ka', 'fontana,ap', 'furlani,g', 'fleurysilva,hr', 'barbosa,aa', 'marcianofilho,a', 'matos,f', 'jesus,lc', 'nelson,sp', 'kollmann,l', 'anunciacao,ae', 'pizziolo,w', 'lopes,wp', 'vervloet,rr', 'boone,w', 'lobao,aq', 'daneu,l', 'santos,ju', 'souza,rg', 'esgario,c', 'kutschenko,dc', 'zanatta,gv', 'gressler,d', 'costa,fov', 'queiroz,l', 'assis,m', 'nunes,r', 'silva,v', 'sanjuan,p', 'ivo,p', 'marilene', 'ninomia,rt', 'araujo,m', 'bianchini,rs', 'figueiredo,n', 'straube,fc', 'urbenfilho,a', 'gehrt,a', 'toledo,jf', 'lobato,j', 'gharbarran,g', 'samules,g', 'dianese,a', 'souza,sr', 'fonseca,a', 'mota,g', 'miranda,mg', 'mota', 'rosas', 'cid', 'moreira,hjc', 'moraes,mv', 'brito,es', 'boom,bm', 'judziewicz,ej', 'lopes,ea', 'halloran,d', 'aquino,r', 'scheer,m', 'putini,f', 'rodrigues,f', 'macias,l', 'rocha,ds', 'thompson,cb', 'kawasaki,cs', 'oliveira,u', 'ramamoorthy,tp', 'kuhn,e', 'wasum,r', 'zartman,ce', 'gigliotti,m', 'nunes,rv', 'saraiva,mf', 'tourao,am', 'faria,ala', 'armando,ms', 'coelho,l', 'henrique,mc', 'bezerra,clf', 'gandolfi,s', 'mamede,mch', 'arrais,mgm', 'garcia,mvb', 'vieira,mf', 'silva,lbp', 'grande,da', 'lima,rcp', 'catharino,elm', 'nicolack,v', 'arouck,j', 'bautista,hp', 'pinto,gcp', 'chaves,be', 'mansano,vs', 'oliveira,pi', 'paciornik,ef', 'hilder', 'goldenberg,r', 'dehgan,b', 'marcelli,mp', 'santos,jal', 'almeida,vr', 'parra,lr', 'salino,a', 'carvalho,fa', 'pelanda,p', 'jose,b', 'lourenco,f', 'cervigne,ns', 'marestoni,tm', 'arzolla,farp', 'tostes,r', 'correa,ja', 'werneck,m', 'franceschinelli,ev', 'odia,ev', 'souza,rc', 'fortes,am', 'rios,e', 'santos,mas', 'nonato,fr', 'smidt,e', 'silva,vp', 'oliveira,cm', 'muniz,cf', 'barbosa,jm', 'marcal,o', 'freitas,is', 'correia,ea', 'ribeiro,ms', 'andrade,mjg', 'gusmao,lfp', 'lima,lc', 'borba,mf', 'vandenberg,c', 'lucca,cf', 'hoehne,fc', 'carpanezzi,aa', 'veiga,rfa', 'passo', 'silva,ebm', 'andrade,ct', 'santos,far', 'goes,m', 'bergossi,am', 'nogueira,a', 'sandrini,m', 'cavalheiro,al', 'bohlinger,m', 'teixeira,c', 'monteiro,rn', 'crepaldi,i', 'guimaraes,mc', 'manzatto,ag', 'tamandare,f', 'barreto,las', 'arcanjo,m', 'fonsecafilho,a', 'smith,ls', 'bergamo,p', 'dinis,a', 'paiva,j', 'darcy,wg', 'araujo,je', 'ribeiro,aro', 'silva,ml', 'araujo,ams', 'gomes,d', 'ramos,h', 'silva,dc', 'cordeiro,mr', 'chagas,j', 'coelho,df', 'almeida,s', 'siqueira,r', 'magnago,h', 'gopaul,d', 'engelhard,f', 'delascio,jf', 'liesner,r', 'schulz,jp', 'strahl', 'herter,wgf', 'dunsterville,e', 'dunsterville,gck', 'costa,a', 'duarte,l', 'santos,rs', 'martins,p', 'projetoflorapedradocavalo', 'conceicao,ac', 'bolten,a', 'aleixo,r', 'marques,cem', 'ellis,r', 'gonzales,ac', 'cardoso,wp', 'mello,ar', 'tavares,r', 'maciel,jr', 'santo,fse', 'pequeno,id', 'montefuso,neg', 'lobo,ass', 'siqueirafilho,ja', 'ferraz,nms', 'santos,apb', 'coelho,mm', 'souza,dp', 'carvalhosobrinho,jg', 'diniz,rem', 'feitosa,cs', 'siqueira,ga', 'silva,accp', 'basso,f', 'viviane,j', 'ferreira,jva', 'marques,cf', 'luz,sn', 'fonseca,cf', 'jorge,jtb', 'santos,mfb', 'dias,uns', 'antunes,j', 'granja,g', 'garcia,r', 'nascimento,o', 'silva,und', 'martins,ds', 'ribeiro,lc', 'souza,fc', 'faria,ec', 'faria,kc', 'diniz,p', 'teixeirajunior,aq', 'ben', 'faria,dm', 'faria,wq', 'nu', 'santos,js', 'oliveira,dr', 'silva,agd', 'silva,mc', 'mota,apz', 'chaves,d', 'otoni,t', 'filho,jj', 'ramos,rb', 'silva,vd', 'vasconcelos,ocm', 'barboza,c', 'ribeirojunior,gg', 'bastos,mfb', 'urbano,j', 'cavalcante,nb', 'pesqueira,us', 'ferreira,mp', 'souza,lsp', 'melo,jmm', 'godoy,vrf', 'rossini,j', 'oliveira,lc', 'silva,lg', 'fazollo,r', 'oliveira,ur', 'costa,l', 'fimino,sg', 'feitosa,jr', 'quirino,ca', 'souza,mcs', 'oliveira,l', 'rocha,wd', 'bruhl,j', 'lemos,rl', 'batmanian,g', 'steward,jr', 'emmert,p', 'mello,trb', 'leon,h', 'daly,d', 'barbosa,c', 'gonzalez,a', 'wingfield,r', 'costaneto,s', 'bastos,n', 'lima,s', 'ducke,a', 'kuhlmann,jg', 'alves,mc', 'aubreville,a', 'reitsma,j', 'barreto,m', 'aparecidadasilva,m', 'pinheiro', 'ribeiro,t', 'cruz,nrs', 'carvalho,fj', 'castro,bm', 'jordyfilho,s', 'machado,mc', 'nascimento,jga', 'souza,am', 'lopes,gg', 'saltini,o', 'paula,gcr', 'medeiros,mm', 'ferreira,fg', 'teodoro,daa', 'albuquerque,v', 'souza,mc', 'santos,rmv', 'ribeiro,mclb', 'xavier,ca', 'xavier,t', 'silvajunior,ao', 'nilson,s', 'lira,sb', 'lopes,d', 'pellegrini,mg', 'falcao,j', 'sota,e', 'adler', 'edmundo', 'lima,r', 'araujo,ac', 'costa,dp', 'amorim,prf', 'duartesilva,ag', 'melo,ml', 'petacci,f', 'mafezoli,j', 'ziller,sr', 'mathes,laf', 'garcia,mgm', 'vidal,ca', 'santana,e', 'zelma,fj', 'castro,rt', 'aguiar,aca', 'badini,j', 'medri,me', 'vaz,s', 'roveratti,j', 'thome,ga', 'brandao,m', 'camara,mc', 'dionisio,j', 'menezes,it', 'noffs,lb', 'foster,mb', 'jesus,ja', 'silva,b', 'britto,g', 'eloy,n', 'canani,lg', 'silveira,rg', 'oliveira,k', 'joly,ca', 'nascimento,jhm', 'duque,nn', 'sousa,avg', 'hollowell,v', 'leuenberger,b', 'araujo,js', 'araujo,tf', 'santos,lb', 'muniz,cfs', 'bezerra,p', 'martuscelli,p', 'leme,emc', 'moura,ls', 'soares,mf', 'maxwell,hs', 'bortolotto,im', 'pereira,pml', 'pendry,c', 'deus,wc', 'marinero,f', 'mayo,ak', 'audenis,c', 'kajiwara,d', 'pivari,mod', 'grantsau,i', 'simone,lw', 'newman,mf', 'pire,s', 'bondar,g', 'gross,r', 'turmademestradodaufba', 'querino,rn', 'costa,cb', 'carvalho,a', 'barbosa,mr', 'pitanga,gvf', 'souza,cq', 'freitas,mf', 'sylvestre,ls', 'temponi,l', 'abreu,mc', 'lopes,cg', 'simao', 'goisneto,a', 'silva,lb', 'pires,ja', 'shimabukuro,mt', 'fina,bg', 'rolim,gs', 'scaramuzza,cam', 'avila,mv', 'cabrera,al', 'zuloaga,fo', 'santos,ls', 'camargo,j', 'campos,zms', 'narciso,s', 'eliasaro,s', 'sandro', 'enio', 'okano,rmc', 'santos,is', 'group,uef', 'santos,i', 'lopes,ml', 'aguiar,c', 'gasson,p', 'brummitt,na', 'campos,or', 'bid', 'carla', 'garcia,ma', 'ramos,fa', 'jacomo,fj', 'torres,o', 'athaydefilho,fp', 'pozzobom,um', 'lima,h', 'stefanello,d', 'felizardo,mpp', 'jennings,lvs', 'calliari,cp', 'flores,tb', 'souza', 'gomes,c', 'siqueira,gs', 'lemos,j', 'rodrigues,pa', 'arantes,aa', 'brito,mh', 'guaratini,mtg', 'jaime', 'melo,appg', 'salgueiro,f', 'oliveira,js', 'emediato,fm', 'santos,mb', 'carvalho,', 's', 'gonzaga,rmo', 'souza,rv', 'reita,r', 'santos,mrm', 'simon,gf', 'santos,dyac', 'salatino,a', 'laps,rr', 'sanchez,m', 'belinello,r', 'pedroni,f', 'vasconcellos,mb', 'guilherme,fag', 'diasneto,rg', 'almeida,jc', 'batista,ntf', 'bernasol,wp', 'grasser,ga', 'fernandes,rs', 'maciel,s', 'medeiros,vm', 'silva,rp', 'carneiro,dc', 'alves,asa', 'lima,df', 'araujo,lm', 'cazella,fm', 'oliveira,pfd', 'car', 'soaressilva,a', 'gomesbezerra,km', 'ribeiro,lg', 'soares,aa', 'gomes,mra', 'rodrigues', 'pedralli,g', 'caruzo,mbr', 'uliana,vlcr', 'queiroz,r', 'barreto,r', 'odonio,m', 'silva,pr', 'postar,m', 'haegens,rmap', 'klazenga,n', 'elmec,ar', 'quarin,cl', 'urbani,m', 'acuna,bc', 'wondracek,dc', 'almeida,jv', 'miranda,td', 'stephanie,a', 'aquino,ppv', 'silva,rb', 'zerlentis,c', 'alain', 'santana,sh', 'rabelo,bs', 'gomes,ag', 'cardososilva,f', 'armbruster,ws', 'pereira,ja', 'saunders,j', 'thorp,g', 'griffo,f', 'lanjouw,j', 'hirzinker,f', 'chagas,eco', 'silva,ffs', 'sousa,rs', 'assis,ma', 'rampin,vt', 'vasconcellos,d', 'edward,woo', 'barbosa,nf', 'amaral,ac', 'noronha,se', 'sartori,alb', 'seleme,ep', 'silveira,ms', 'moretti,j', 'tiberi,m', 'cota,g', 'reis,gc', 'viana,jlrs', 'souza,ab', 'souza,rtc', 'abbas,b', 'profice,sr', 'junior,aqt', 'junior,je', 'lessa,a', 'polo,sho', 'campos,mcr', 'guaraldo,a', 'marinho,m', 'cesar,a', 'pagano,sn', 'junior,mf', 'domingos', 'mariuza', 'lelo', 'galvao,jc', 'cotarelli,vm', 'dallagnoll,rf', 'garcia,pbc', 'carneiro,phm', 'ferreira,sw', 'dario,rf', 'coutinho,ceb', 'savassi,ap', 'rodrigues,c', 'isaac,ms', 'sanches,id', 'soares,k', 'guimaraes,ef', 'mansano', 'vieira,dlm', 'castaho,gg', 'cordeiro,tr', 'stubblebine,w', 'amaral,jp', 'francisco,jnc', 'ribeiro,rs', 'cielo-filho,r', 'aguiar,ot', 'leite,vr', 'couto,dr', 'manhaes,vc', 'gouveia,j', 'lima,cr', 'rocha,ft', 'ferraro,l', 'moncaio,e', 'brito,mcc', 'santos,jd', 'sztutman,m', 'lima,mirg', 'zandoval,ja', 'camargo,m', 'leite,a', 'walter,b', 'furlan,e', 'antoniolli,fc', 'teixeira,dl', 'basso,me', 'pomari,ml', 'salmazo,pb', 'ribeiro,e', 'ribeiro,sj', 'sousa,rc', 'santos,mf', 'piacentin,e', 'varanda,e', 'bessa,ma', 'monico,im', 'penha,as', 'matsukuma,ck', 'batista,er', 'oki,vk', 'viani,rag', 'kozera,c', 'lima,cbk', 'hayashi,ah', 'assis,am', 'barbosa', 'ramos,m', 'britto,rc', 'fadini,f', 'lima,ln', 'melo,md', 'ribeiro,tma', 'pires,lh', 'soareslima,gs', 'andrade,nf', 'andrade,am', 'borges,lm', 'watanabe,mtc', 'gibbs,ge', 'muniz,sfc', 'silva,jf', 'santos,lam', 'macedo,c', 'britto,ic', 'castro,ca', 'chiea,s', 'nunes,s', 'necker,a', 'walther,a', 'anaangelica', 'graham,s', 'brito,th', 'ribeiro,ja', 'carvalho,rm', 'dias,p', 'farinaccio,ma', 'magentaneto,je', 'pontes,a', 'martins,eg', 'siniscalchi,cm', 'vignolisilva,m', 'loeuille,b', 'lima,lf', 'barbosa,ar', 'lousada,jm', 'calio,mf', 'loeuille,bpf', 'oliveira,ar', 'torres,rb', 'silva,mj', 'machado,aimr', 'martins,ega', 'feliciano,cd', 'fromm,e', 'trinta,za', 'pinheiro,mc', 'souza,a', 'alves,gkj', 'sousa,mws', 'barreto,acc', 'sales,ab', 'viana,jl', 'lopes,rn', 'annunziata,bb', 'vieira,ls', 'bernabe,mjc', 'fernandez,jaj', 'siqueira,er', 'farney,c', 'santos,sb', 'silva,rs', 'gomes,as', 'maciel,gm', 'silva,lvc', 'garcia,lc', 'silveira,e', 'roitman,l', 'ferreira,vv', 'goncalves,aps', 'andrade,mar', 'davina,jr', 'honfi,ai', 'aedo,c', 'fernandezalonso,jl', 'silva,cb', 'silva,rh', 'amorim,me', 'loesch,s', 'borsato,a', 'valle,m', 'gonzaga,afn', 'faria,i', 'eliane', 'joao', 'barbosa,mm', 'tala,me', 'tyson,e', 'campos,s', 'gil,m', 'godoy,e', 'otieres', 'barbosa,am', 'guimaraes,r', 'teixeira,lr', 'faria,pcl', 'garcia,po', 'meninineto,l', 'matta,lbv', 'abreu,nr', 'belchior,v', 'santiago,al', 'antunes,k', 'pereirasilva,g', 'manhaes,ma', 'castro,rc', 'machado,bg', 'michelon,b', 'oliveira,wl', 'carneiro,ses', 'miranda,vfo', 'silva,mao', 'bernardes,phn', 'melo,kbs', 'castro,ws', 'oliveira,alf', 'bodens,fwp', 'queiroz,mvd', 'monteiro,ch', 'silva,ad', 'moreira,sn', 'bergamini,ll', 'hall,cf', 'araujo,ws', 'andrade,md', 'padilha,dr', 'sartin,rd', 'brandao,d', 'lousa,tc', 'dislich,r', 'carrijo,t', 'oliveira,de', 'maciel,u', 'cruz,pf', 'pozo,p', 'soto,d', 'salas,rm', 'ribeiro,pg', 'cardoso,d', 'capelo,ffm', 'castro,as', 'teles,m', 'moro,m', 'bueno,df', 'silva,al', 'pereira,dv', 'silva,je', 'cabral,prf', 'limajunior,ga', 'lopes,ic', 'silvestre,r', 'zanata,gv', 'arruda,ec', 'soares,gf', 'fontana,b', 'pavlak,k', 'rebellato,l', 'santos,jrn', 'stech,m', 'bieski,i', 'azevedo,aa', 'valente,ge', 'carmona,pf', 'yoshitake,nm', 'xavier,ff', 'farias,rr', 'mello,fna', 'soares,pn', 'martins,can', 'almeida,fc', 'schiavini,i', 'oliveira,pe', 'oliveira,r', 'nascimento,tr', 'reis,fb', 'james,ek', 'elliott,gn', 'santos,ln', 'loureiro,f', 'benicio', 'edy', 'faria,ig', 'carneiro,cs', 'santanafilho,jf', 'bueno,ml', 'bao,f', 'robles,cs', 'alves,fm', 'bertazzoni,ec', 'guglieri,a', 'caporal,fjm', 'mendes,j', 'resende,um', 'silva,ra', 'cruz,a', 'bonasora,mg', 'staggemeier,vr', 'camargo,mgg', 'staggemeier,jc', 'vieira,bsa', 'dantas,fm', 'cardoso,a', 'claudio,jm', 'craveiro,t', 'lima,te', 'neves,im', 'amaral,ts', 'iglesias,jov', 'ribeiro,j', 'juarez,j', 'cruz,gaf', 'souza,ac', 'barbosa,hn', 'moura,tm', 'parreira,iar', 'carrijo,n', 'lima,ib', 'smith,np', 'moraes,lpr', 'lino,g', 'braga,jp', 'faria,gg', 'silva,km', 'moraes,plb', 'mota,bm', 'aguiar,p', 'resio,j', 'pereira,lm', 'menegucci,zhr', 'adorno,h', 'falone,ca', 'chapadense,fgg', 'souza,pr', 'pereira,smb', 'ascendino,aa', 'brito,jc', 'brandao,r', 'cabral,jr', 'coppens,j', 'gayoso,zj', 'avelar,p', 'carneiro,km', 'cristaldo,acm', 'garcia,js', 'dantas,ts', 'miranda,is', 'cloclet,fa', 'pereira,dl', 'figueiredo,rcl', 'mcrobb,a', 'vilaca,mn', 'oliveira,rr', 'muniz,c', 'teixeira,ap', 'pinheiro,wg', 'pivari,man', 'ferreira,bas', 'alves,jlh', 'gallina,p', 'mendes,fr', 'santos,cc', 'fino,t', 'guerra,tp', 'oliveira,oa', 'ribeirojunior,e', 'si', 'eichl', 'goncalves,jcc', 'faria,ad', 'aona,lys', 'mendonca,tg', 'mansanares,me', 'feres,f', 'crespo,s', 'juarez,d', 'costa,g', 'santana,tm', 'batista,am', 'franca,j', 'mercedes,m', 'sales,ah', 'andrade,smm', 'chiavegatto,b', 'garcia,ep', 'moreira,ost', 'pereira,hf', 'lima,cd', 'gomes,bz', 'santos,pl', 'jesus,pl', 'machado,d', 'franco,gadc', 'filho,ac', 'almeida,rc', 'castellani,ed', 'rohwer,jg', 'araujo,co', 'garcia,rlm', 'mello,f', 'mayer,a', 'kobayashi,m', 'lima,ilp', 'cormier,j', 'silva,jma', 'mendoza,m', 'parada,a', 'centurion,t', 'franco,bks', 'rooden,jv', 'albuquerque,bwp', 'jimbo,s', 'paganella,mb', 'loueille,bfp', 'silvaluz,cl', 'heiden,g', 'cangussu,ar', 'gaio,j', 'brotto,ml', 'grizzon,m', 'vaz,j', 'martin,la', 'bohrer,p', 'picoli,ac', 'kobayashi,jt', 'ruas,l', 'leal,ccp', 'kilca,rv', 'rodrigues,vhp', 'alves,rr', 'siqueira,as', 'reisjunior,fb', 'freitas,fo', 'amador,db', 'magossi,r', 'colletta,gd', 'almeida,gsc', 'pontes,t', 'vargas,crm', 'ruas,d', 'baleeiro,p', 'neto,fcc', 'silva,dgr', 'medeiros,da', 'franca,ej', 'damasceno,acf', 'nunes,sn', 'sampaio,ths', 'prado,pv', 'bessa,rs', 'vieira,aa', 'gimenez,mb', 'aguiar,e', 'aires,sl', 'carvalho,phs', 'lopes,rmb', 'souza,aka', 'fortes,as', 'nunes,tva', 'magalhaes,h', 'leite,pf', 'roth,l', 'matozinhos,cn', 'mello,bf', 'bastosneto,oj', 'oliveira,dv', 'ferraz,j', 'luceno,m', 'romero,i', 'gissi,d', 'latvis,m', 'santinati,ma', 'scarano,f', 'farag,prc', 'fernandes,ds', 'lima,mel', 'gomes,jc', 'hopkins,m', 'izetti,c', 'oku,w', 'mende', 'concha,c', 'windisch,pg', 'camargo,pcce', 'silva,c', 'zava,p', 'coelho,n', 'moreira,asfp', 'lorenzo,l', 'rodrigues,cdn', 'pinhoferreira,ma', 'gomes,tg', 'kotovskier,er', 'pinto,rb', 'carnier,fe', 'colleta,g', 'martins,co', 'morrone,o', 'silveira,mf', 'santos,bb', 'silva,tm', 'silva,ec', 'alves,rnb', 'valente,ts', 'fernandes,tm', 'soledade,m', 'kuntz,j', 'jennings,l', 'savassicoutinho,ap', 'cardosoleite,e', 'mendonca,i', 'milani,jf', 'caixeta,f', 'markgraf,f', 'rondon,c', 'fornimartins,er', 'walmir', 'morais,ff', 'dantas,apt', 'soaresjr,fj', 'meneghetti,gip', 'fl', 'souza,ft', 'bernhardt,r', 'gomes,a', 'cerqueira,rm', 'pereira,zv', 'rodrigues,ls', 'bueno,b', 'nakamura,hcc', 'gomes,pb', 'antunes,rm', 'pedra,gg', 'neves,dr', 'ramos,wm', 'oliveira,amr', 'mansano,vf', 'fernandes,mh', 'teixeira,br', 'mello,jsg', 'baumgratz,jfa', 'fernandes,i', 'brant,hsc', 'mendonca,fca', 'brito,altv', 'grisolia,ck', 'pinedo,as', 'prado,ca', 'cabral,el', 'linkperez,m', 'mezatorres,ei', 'michlig,a', 'niveiro,n', 'santos,mpt', 'scultori,c', 'rezende,a', 'silva,jr', 'longhiwagner,h', 'huang,a', 'buck,wr', 'pocs,s', 'pocs,t', 'fernandes,sdc', 'rodrigues,cd', 'fernandes,jm', 'carmo,ws', 'silva,ac', 'oliveira,of', 'mundim,jv', 'mendes,rag', 'shaw,aj', 'neri,jr', 'costa,rs', 'dias,f', 'gustavo,l', 'schelpe,ea', 'haas,de', 'santos,apm', 'pereira,cg', 'fernandes,cm', 'silva,lv', 'souza,acm', 'reis,va', 'silvestre,j', 'santos,trr', 'salles,sc', 'ferreira,vrp', 'santos,ef', 'archer,wa', 'vonbulow,jfw', 'araujo,gs', 'ferreira,cgt', 'bezerra,rep', 'medeiros,d', 'delfini,c', 'rigon,j', 'vieira,dm', 'nogueira,acr', 'almeida,rf', 'lafarge,c', 'ferrero,r', 'lopes,jc', 'montserrat,l', 'martinelli,ig', 'siracusa,p', 'moura,co', 'p', 'cesar,d', 'silva,is', 'cunha,em', 'cordeiro,m', 'nascimento,fc', 'sales,mf', 'andrade,cca', 'saka,mn', 'hieda,sm', 'teixeira,amc', 'crepaldi,c', 'lima,aifb', 'carvalho,mh', 'santos,nd', 'macedo,ec', 'oliveira,cc', 'silva,lcr', 'silva,dp', 'coile,nc', 'silva,mff', 'tannus,ls', 'pinheiro,mho', 'udulutsch,a', 'udulutsch,mg', 'cavalcanti,dc', 'picchi,dg', 'sanches,cf', 'tibirica,yja', 'paula,e', 'hamburgo,jl', 'gonzaga,c', 'freitas,jd', 'viana,rb', 'marinho,am', 'britto,r', 'trindade,m', 'vasconcellos,a', 'lopes,m', 'costalima,jl', 'guedes,cec', 'trindade,mro', 'jardim,ab', 'roque,aa', 'romao,dr', 'oliveira,hc', 'bergo,nm', 'lemos,rpm', 'eduardojunior', 'zampa,l', 'nascimento,jm', 'visnadi,sr', 'senna,pa', 'huaylla,h', 'saomateus,w', 'hawthorne,w', 'million,jl', 'ponciano,aic', 'lucena,mfa', 'lima,jh', 'queiroz,vv', 'grillo,m', 'viveiros,r', 'kitaura,m', 'freitas,lf', 'marta,mf', 'luteyn,jl', 'goncalves,mf', 'silva,jfg', 'gomes,vf', 'rocha,t', 'brilhante,m', 'duarte,pj', 'pacheco,ma', 'pinheiro,m', 'hiago,f', 'moreira,ph', 'dilly,jl', 'versiane,afa', 'santos,jp', 'matsumoto,k', 'waras,e', 'schliewe,ma', 'souza,ao', 'antunes,llc', 'silva,ghl', 'reis,ab', 'darosci,aa', 'santana,bid', 'otoni,tjo', 'coile,rj', 'santanaf', 'souza,ss', 'em', 'santos,a', 'byron', 'martins,lhp', 'silva,na', 'velazquez,r', 'silva,ca', 'boring,lkk', 'braga,mnm', 'zamudio,c', 'contro,fl', 'dias,acc', 'rocha,mjr', 'rodriguesdasilva,r', 'rocha,ra', 'elias,j', 'cardoso,agt', 'hebel,i', 'walsen,dpm', 'amenomori,sn', 'ceccarelli,pr', 'jungbluth,p', 'morais,d', 'janwojcik,a', 'vandeira,e', 'miller,js', 'davidse,j', 'projetobiodiversidadebp', 'arcela,v', 'marshall,c', 'sousa,f', 'schunke,j', 'rury,pm', 'balslev,h', 'costa,tf', 'carrijo,tt', 'sousasilva,s', 'ribeiro,w', 'proenca,sl', 'falkenberg,db', 'guimaraes,tb', 'silvafilho,fa', 'sa,mr', 'fronza,m', 'mews,ha', 'chagas,ur', 'bijos,nr', 'cardoso,de', 'reis,gr', 'cristine,a', 'berto,acv', 'soares,yff', 'morais,cjs', 'mendes,pyu', 'macedo,tp', 'silva,lnns', 'bonatto,f', 'silva,ms', 'pacheco,a', 'guimaraes,jp', 'rutterdrummond,ra', 'meyer,fs', 'silvestre,lfv', 'furtado,mtr', 'edwards,sl', 'brazao,u', 'nogueira,js', 'stumpe,p', 'pereira,ac', 'peixoto,i', 'rocha,dm', 'sonsin,j', 'aragaki,s', 'o', 'cordeiro,aoo'))"
      ]
     },
     "execution_count": 29,
     "metadata": {},
     "output_type": "execute_result"
    }
   ],
   "source": [
    "sgs_filtered[0].nodes()"
   ]
  }
 ],
 "metadata": {
  "kernelspec": {
   "display_name": "Python 3",
   "language": "python",
   "name": "python3"
  },
  "language_info": {
   "codemirror_mode": {
    "name": "ipython",
    "version": 3
   },
   "file_extension": ".py",
   "mimetype": "text/x-python",
   "name": "python",
   "nbconvert_exporter": "python",
   "pygments_lexer": "ipython3",
   "version": "3.6.5"
  }
 },
 "nbformat": 4,
 "nbformat_minor": 2
}
