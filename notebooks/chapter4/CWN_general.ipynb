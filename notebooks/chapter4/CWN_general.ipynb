{
 "cells": [
  {
   "cell_type": "markdown",
   "metadata": {},
   "source": [
    "# CWN general features"
   ]
  },
  {
   "cell_type": "code",
   "execution_count": 1,
   "metadata": {},
   "outputs": [],
   "source": [
    "# Setting paths\n",
    "import sys,os\n",
    "import pathlib\n",
    "sys.path.insert(0,os.path.expanduser('~/caryocar'))\n",
    "sys.path.insert(0,os.path.abspath('..'))"
   ]
  },
  {
   "cell_type": "code",
   "execution_count": 2,
   "metadata": {},
   "outputs": [],
   "source": [
    "# Building the networks from data\n",
    "from setupmodels import *"
   ]
  },
  {
   "cell_type": "code",
   "execution_count": 3,
   "metadata": {},
   "outputs": [],
   "source": [
    "import numpy as np\n",
    "import pandas as pd\n",
    "import networkx as nx\n",
    "import matplotlib as mpl\n",
    "import seaborn as sns\n",
    "import scipy as scp \n",
    "\n",
    "import matplotlib.pyplot as plt\n",
    "\n",
    "mpl.rcParams.update(mpl.rcParamsDefault)\n",
    "plt.style.use('seaborn-paper')\n",
    "sns.set_color_codes('deep')\n",
    "\n",
    "%matplotlib inline"
   ]
  },
  {
   "cell_type": "code",
   "execution_count": 4,
   "metadata": {},
   "outputs": [],
   "source": [
    "# plot style params\n",
    "sns.set_color_codes('deep')\n",
    "plt.rc('figure', figsize=(8,5))\n",
    "\n",
    "empty_circle={'markerfacecolor':'none','markeredgewidth':1.3,'ms':10,'marker':'o','ls':''}\n",
    "xes={'markerfacecolor':'none','markeredgewidth':1.3,'ms':10,'marker':'x','ls':''}"
   ]
  },
  {
   "cell_type": "markdown",
   "metadata": {},
   "source": [
    "---"
   ]
  },
  {
   "cell_type": "markdown",
   "metadata": {},
   "source": [
    "### General info"
   ]
  },
  {
   "cell_type": "code",
   "execution_count": 5,
   "metadata": {},
   "outputs": [
    {
     "name": "stdout",
     "output_type": "stream",
     "text": [
      "Name: \n",
      "Type: CoworkingNetwork\n",
      "Number of nodes: 6768\n",
      "Number of edges: 10391\n",
      "Average degree:   3.0706\n"
     ]
    }
   ],
   "source": [
    "print(nx.info(cwn))"
   ]
  },
  {
   "cell_type": "code",
   "execution_count": 6,
   "metadata": {},
   "outputs": [],
   "source": [
    "num_cols = cwn.number_of_nodes()"
   ]
  },
  {
   "cell_type": "markdown",
   "metadata": {},
   "source": [
    "* How many singleton collaborators (Not a single collaboration, $k=0$) ?"
   ]
  },
  {
   "cell_type": "code",
   "execution_count": 7,
   "metadata": {},
   "outputs": [
    {
     "data": {
      "text/plain": [
       "2673"
      ]
     },
     "execution_count": 7,
     "metadata": {},
     "output_type": "execute_result"
    }
   ],
   "source": [
    "num_singletons = len(set(nx.isolates(cwn)))\n",
    "num_singletons"
   ]
  },
  {
   "cell_type": "code",
   "execution_count": 8,
   "metadata": {},
   "outputs": [
    {
     "data": {
      "text/plain": [
       "'Percentage of singletons: 39.49%'"
      ]
     },
     "execution_count": 8,
     "metadata": {},
     "output_type": "execute_result"
    }
   ],
   "source": [
    "\"Percentage of singletons: {:.2%}\".format(num_singletons/cwn.number_of_nodes())"
   ]
  },
  {
   "cell_type": "code",
   "execution_count": 9,
   "metadata": {},
   "outputs": [
    {
     "name": "stdout",
     "output_type": "stream",
     "text": [
      "Overall density of the CWN network: 0.00045\n"
     ]
    }
   ],
   "source": [
    "print(\"Overall density of the CWN network: {:.5f}\".format(nx.density(cwn)))"
   ]
  },
  {
   "cell_type": "markdown",
   "metadata": {},
   "source": [
    "---"
   ]
  },
  {
   "cell_type": "markdown",
   "metadata": {},
   "source": [
    "### Connected components"
   ]
  },
  {
   "cell_type": "code",
   "execution_count": 10,
   "metadata": {},
   "outputs": [],
   "source": [
    "sgs = list(nx.connected_component_subgraphs(cwn))\n",
    "sgs = sorted(sgs,key=lambda g: g.number_of_nodes(),reverse=True)"
   ]
  },
  {
   "cell_type": "code",
   "execution_count": 11,
   "metadata": {},
   "outputs": [],
   "source": [
    "giantComp = sgs[0]\n",
    "connectedComps = sgs[1:]"
   ]
  },
  {
   "cell_type": "code",
   "execution_count": 12,
   "metadata": {},
   "outputs": [
    {
     "name": "stdout",
     "output_type": "stream",
     "text": [
      "Number of components: 2991\n"
     ]
    }
   ],
   "source": [
    "print(\"Number of components: {}\".format(len(sgs)))"
   ]
  },
  {
   "cell_type": "code",
   "execution_count": 13,
   "metadata": {},
   "outputs": [
    {
     "name": "stdout",
     "output_type": "stream",
     "text": [
      "Size of the giant component: 3114 nodes, 46.01%\n"
     ]
    }
   ],
   "source": [
    "print(\"Size of the giant component: {} nodes, {:.2%}\".format( \n",
    "    giantComp.number_of_nodes(),\n",
    "    giantComp.number_of_nodes()/cwn.number_of_nodes()\n",
    "))"
   ]
  },
  {
   "cell_type": "code",
   "execution_count": 14,
   "metadata": {},
   "outputs": [
    {
     "name": "stdout",
     "output_type": "stream",
     "text": [
      "Density of the giant component: 0.00195\n"
     ]
    }
   ],
   "source": [
    "print(\"Density of the giant component: {:.5f}\".format(nx.density(giantComp)))"
   ]
  },
  {
   "cell_type": "code",
   "execution_count": 15,
   "metadata": {},
   "outputs": [
    {
     "name": "stdout",
     "output_type": "stream",
     "text": [
      "Sizes of the top-10 connected components (excluding c1):\n",
      "\tConnecte comp c2: 59 nodes\n",
      "\tConnecte comp c3: 20 nodes\n",
      "\tConnecte comp c4: 16 nodes\n",
      "\tConnecte comp c5: 15 nodes\n",
      "\tConnecte comp c6: 10 nodes\n",
      "\tConnecte comp c7: 9 nodes\n",
      "\tConnecte comp c8: 9 nodes\n",
      "\tConnecte comp c9: 9 nodes\n",
      "\tConnecte comp c10: 8 nodes\n",
      "\tConnecte comp c11: 8 nodes\n"
     ]
    }
   ],
   "source": [
    "print(\"Sizes of the top-10 connected components (excluding c1):\\n\"+\\\n",
    "\"\\n\".join( [\"\\tConnected comp c{}: {} nodes\".format(i+2, sg.number_of_nodes()) for i,sg in enumerate(connectedComps[:10])]))\n"
   ]
  },
  {
   "cell_type": "code",
   "execution_count": 16,
   "metadata": {},
   "outputs": [
    {
     "name": "stdout",
     "output_type": "stream",
     "text": [
      "Average size of isolated components: 1.22\n"
     ]
    }
   ],
   "source": [
    "print(\"Average size of isolated components: {:.3}\".format( np.mean([ sg.number_of_nodes() for sg in connectedComps ]) ))"
   ]
  },
  {
   "cell_type": "markdown",
   "metadata": {},
   "source": [
    "* All singletons are an isolated component (this is why there are so many of them)"
   ]
  },
  {
   "cell_type": "code",
   "execution_count": 17,
   "metadata": {},
   "outputs": [
    {
     "name": "stdout",
     "output_type": "stream",
     "text": [
      "Number of non-singleton isolated components: 317\n"
     ]
    }
   ],
   "source": [
    "print(\"Number of non-singleton isolated components: {}\".format( sum( 1 for sg in connectedComps if sg.number_of_nodes()>1 ) ))"
   ]
  },
  {
   "cell_type": "markdown",
   "metadata": {},
   "source": [
    "#### Singleton collectors"
   ]
  },
  {
   "cell_type": "markdown",
   "metadata": {},
   "source": [
    "How many singleton collectors?"
   ]
  },
  {
   "cell_type": "code",
   "execution_count": 18,
   "metadata": {},
   "outputs": [],
   "source": [
    "isolated_nodes = [ list(comp.nodes)[0] for comp in connectedComps if len(comp.nodes)==1 ]"
   ]
  },
  {
   "cell_type": "code",
   "execution_count": 19,
   "metadata": {},
   "outputs": [
    {
     "data": {
      "text/plain": [
       "2673"
      ]
     },
     "execution_count": 19,
     "metadata": {},
     "output_type": "execute_result"
    }
   ],
   "source": [
    "len(isolated_nodes)"
   ]
  },
  {
   "cell_type": "markdown",
   "metadata": {},
   "source": [
    "Who are the most important of these?"
   ]
  },
  {
   "cell_type": "code",
   "execution_count": 20,
   "metadata": {},
   "outputs": [
    {
     "data": {
      "text/plain": [
       "[('leite,alta', 2757),\n",
       " ('touw,a', 375),\n",
       " ('schiffner,v', 283),\n",
       " ('oliveira,e', 252),\n",
       " ('coelho,gsf', 227),\n",
       " ('rocha,mal', 165),\n",
       " ('aquino,ppu', 155),\n",
       " ('pinto,rnm', 144),\n",
       " ('silva,nf', 133),\n",
       " ('nitikman,lz', 131)]"
      ]
     },
     "execution_count": 20,
     "metadata": {},
     "output_type": "execute_result"
    }
   ],
   "source": [
    "# collector, num of recs\n",
    "col_nrecs = sorted([ (i,len(ni[i])) for i in isolated_nodes ], key=lambda x: x[1], reverse=True)\n",
    "col_nrecs[:10]"
   ]
  },
  {
   "cell_type": "markdown",
   "metadata": {},
   "source": [
    "What is the proportion of records collected by *leite,alta*, considering all contributions by singleton collectors?"
   ]
  },
  {
   "cell_type": "code",
   "execution_count": 21,
   "metadata": {},
   "outputs": [
    {
     "data": {
      "text/plain": [
       "'18.14%'"
      ]
     },
     "execution_count": 21,
     "metadata": {},
     "output_type": "execute_result"
    }
   ],
   "source": [
    "\"{:.2%}\".format(col_nrecs[0][1] / sum(list(zip(*col_nrecs))[1]))"
   ]
  },
  {
   "cell_type": "markdown",
   "metadata": {},
   "source": [
    "How many records by singleton collectors have been recorded in Brazil?"
   ]
  },
  {
   "cell_type": "code",
   "execution_count": 22,
   "metadata": {},
   "outputs": [],
   "source": [
    "isolated_nodes_occs = set( ix for i in isolated_nodes for ix in ni[i])"
   ]
  },
  {
   "cell_type": "code",
   "execution_count": 23,
   "metadata": {},
   "outputs": [
    {
     "data": {
      "text/plain": [
       "BR    81.08%\n",
       "ID     2.73%\n",
       "US     2.62%\n",
       "AU     1.91%\n",
       "PG     1.48%\n",
       "Name: countryCode, dtype: object"
      ]
     },
     "execution_count": 23,
     "metadata": {},
     "output_type": "execute_result"
    }
   ],
   "source": [
    "occs.loc[isolated_nodes_occs]['countryCode'].value_counts(normalize=True).apply(lambda x: f'{x:.2%}')[:5]"
   ]
  },
  {
   "cell_type": "markdown",
   "metadata": {},
   "source": [
    "---"
   ]
  },
  {
   "cell_type": "markdown",
   "metadata": {},
   "source": [
    "### Team Sizes"
   ]
  },
  {
   "cell_type": "code",
   "execution_count": 384,
   "metadata": {},
   "outputs": [
    {
     "data": {
      "text/plain": [
       "1.7274678393279075"
      ]
     },
     "execution_count": 384,
     "metadata": {},
     "output_type": "execute_result"
    }
   ],
   "source": [
    "# avg team size\n",
    "occs['recordedBy_atomized'].apply(len).mean()"
   ]
  },
  {
   "cell_type": "code",
   "execution_count": 355,
   "metadata": {},
   "outputs": [],
   "source": [
    "x,y = zip( *occs['recordedBy_atomized'].apply(len).value_counts().items())"
   ]
  },
  {
   "cell_type": "code",
   "execution_count": 367,
   "metadata": {},
   "outputs": [],
   "source": [
    "y=[ i/sum(y) for i in y ]"
   ]
  },
  {
   "cell_type": "code",
   "execution_count": 368,
   "metadata": {},
   "outputs": [],
   "source": [
    "#Transform y\n",
    "y_transf = list(map(lambda x: np.log10(x), y))\n",
    "\n",
    "# fit with transformed y\n",
    "f = lambda x,b0,b1: b0+b1*x\n",
    "(b0,b1),cov = scp.optimize.curve_fit(f, x[:-1], y_transf[:-1]) # The last point is not used for fitting!"
   ]
  },
  {
   "cell_type": "code",
   "execution_count": 382,
   "metadata": {},
   "outputs": [
    {
     "data": {
      "text/plain": [
       "(0.15565328522708521, -0.37717744613512005)"
      ]
     },
     "execution_count": 382,
     "metadata": {},
     "output_type": "execute_result"
    }
   ],
   "source": [
    "b0,b1"
   ]
  },
  {
   "cell_type": "code",
   "execution_count": 380,
   "metadata": {},
   "outputs": [
    {
     "data": {
      "image/png": "[encoded data removed]",
      "text/plain": [
       "<Figure size 576x360 with 1 Axes>"
      ]
     },
     "metadata": {},
     "output_type": "display_data"
    }
   ],
   "source": [
    "# Plot figure in log-lin scale\n",
    "\n",
    "plt.figure(figsize=(8,5))\n",
    "plt.plot(x,y,**xes)\n",
    "plt.plot(x,[ (10**(b0+b1*i)) for i in x ], ls='--',lw=1)\n",
    "\n",
    "plt.yscale('log')\n",
    "plt.grid(linewidth=0.5, ls='--',color='.7')\n",
    "plt.xlabel('Team Size')\n",
    "plt.ylabel('Percentage of Records')\n",
    "plt.savefig('team_sizes_pcts.pdf', dpi=92, bbox_inches='tight')"
   ]
  },
  {
   "cell_type": "markdown",
   "metadata": {},
   "source": [
    "Only one record with $team\\_size>8$. It appears the names string has been truncated."
   ]
  },
  {
   "cell_type": "code",
   "execution_count": 27,
   "metadata": {},
   "outputs": [],
   "source": [
    "pd.options.display.max_colwidth=100"
   ]
  },
  {
   "cell_type": "code",
   "execution_count": 28,
   "metadata": {},
   "outputs": [
    {
     "data": {
      "text/plain": [
       "'Faria, JEQ; Proença, C; Concha, C; Reis, PA; Rosa, PO; Izetti, C; Mello, TRB; Oku, W; Mende'"
      ]
     },
     "execution_count": 28,
     "metadata": {},
     "output_type": "execute_result"
    }
   ],
   "source": [
    "occs[occs['recordedBy_atomized'].apply(len)==9]['recordedBy'].iloc[0]"
   ]
  },
  {
   "cell_type": "markdown",
   "metadata": {},
   "source": [
    "Collectors names strings from records with $team\\_size = 8$ have also been truncated."
   ]
  },
  {
   "cell_type": "code",
   "execution_count": 29,
   "metadata": {},
   "outputs": [
    {
     "data": {
      "text/plain": [
       "Haidar, RF; Matos, MQ; Fagg, CW; Felfili, JM; Mendonça, RC; Proença, CEB; Farias, R; Rodrig      34\n",
       "Matos, MQ; Haidar, RF; Fagg, CW; Felfili, JM; Mendonça, RC; Proença, CEB; Farias, R; Rodri       31\n",
       "Faria, JEQ; Câmara, PEAS; Costa, DP; Martins, DS; Amorim, PRF; Sousa, RV; Gonzaga, RMO; Car      29\n",
       "Faria, JEQ; Campos, LZO; Ibrahim, M; Martins, RC; Caires, CS; Meneguzzo, TEC; Souza, LF; Nu      13\n",
       "Martins, DS; Câmara, PEAS; Amorim, PRF; Costa, DP; Faria, JEQ; Carvalho, AM; Gonzaga, RMO; S      3\n",
       "Henderson, A; Cid, CA; Lima, J; Alves, J; Rickson, F; Parker, D; Aulino, O; Rodrigues, K          2\n",
       "Walter, BMT; Silva, GP; Xavier, S; Rocha, F; Santos, H; Silva, S; Tavares, G; Mendonça, R         1\n",
       "Ratter, JA; Bridgewater, S; Cardoso, E; Fonseca, J; Lima, V; Passon, L; Santos, RR; Sanaiot       1\n",
       "Ratter, JA; Bridgewater, S; Cardoso, E; Lima, V; Munhoz, CBR; Oliveira, NR; Ribeiro, JF; Si       1\n",
       "Harley, RM; Giulietti, AM; Stannard, BL; Hind, DJN; Kameyama, C; Prado, J; Rudall, P; Simão       1\n",
       "Walter, BMT; Silva, GP; Xavier, S; Costa F.; Santos H.; Silva, S; Tavares, G; Mendonça, RC        1\n",
       "Oliveira, RC; Moura, CO; Cardoso, AGT; Sonsin, J; Cordeiro, AOO; Million, JL; Antunes, LLC; O     1\n",
       "Name: recordedBy, dtype: int64"
      ]
     },
     "execution_count": 29,
     "metadata": {},
     "output_type": "execute_result"
    }
   ],
   "source": [
    "occs[occs['recordedBy_atomized'].apply(len)==8]['recordedBy'].value_counts()"
   ]
  },
  {
   "cell_type": "markdown",
   "metadata": {},
   "source": [
    "---"
   ]
  },
  {
   "cell_type": "markdown",
   "metadata": {},
   "source": [
    "### Degree Distribution"
   ]
  },
  {
   "cell_type": "code",
   "execution_count": 30,
   "metadata": {},
   "outputs": [],
   "source": [
    "import powerlaw"
   ]
  },
  {
   "cell_type": "code",
   "execution_count": 31,
   "metadata": {},
   "outputs": [],
   "source": [
    "k_hist = nx.degree_histogram(cwn)\n",
    "sum_degrees = sum(k_hist)\n",
    "h = list(zip( range(len(k_hist)), k_hist ))\n",
    "h_pct = [ (k,cnt/sum_degrees) for k,cnt in h ]"
   ]
  },
  {
   "cell_type": "code",
   "execution_count": 32,
   "metadata": {},
   "outputs": [
    {
     "name": "stderr",
     "output_type": "stream",
     "text": [
      "/home/pedro/anaconda3/envs/tese_lncc/lib/python3.6/site-packages/powerlaw.py:697: RuntimeWarning: invalid value encountered in true_divide\n",
      "  (Theoretical_CDF * (1 - Theoretical_CDF))\n"
     ]
    }
   ],
   "source": [
    "# Fitting a powerlaw\n",
    "data_expanded=[ k for k,cnt in h for i in range(cnt) if k>0 ] \n",
    "fit = powerlaw.Fit(data_expanded,discrete=True,xmin=3)\n",
    "\n",
    "dist=fit.power_law\n",
    "alpha=dist.alpha\n",
    "\n",
    "f=lambda x, alpha,a1: a1*pow(x,-alpha) # powerlaw"
   ]
  },
  {
   "cell_type": "code",
   "execution_count": 166,
   "metadata": {},
   "outputs": [
    {
     "data": {
      "image/png": "[encoded data removed]",
      "text/plain": [
       "<Figure size 576x576 with 1 Axes>"
      ]
     },
     "metadata": {},
     "output_type": "display_data"
    }
   ],
   "source": [
    "x,y = zip(*h_pct[1:])\n",
    "\n",
    "\n",
    "plt.figure(figsize=(8,8))\n",
    "plt.plot(x,y, **empty_circle)\n",
    "plt.plot(x,f(x,alpha,1.3),ls='--')\n",
    "plt.xscale('log')\n",
    "plt.yscale('log')\n",
    "plt.grid(which='both', ls='--')"
   ]
  },
  {
   "cell_type": "code",
   "execution_count": 163,
   "metadata": {},
   "outputs": [
    {
     "data": {
      "text/plain": [
       "<matplotlib.axes._subplots.AxesSubplot at 0x7fbefd163400>"
      ]
     },
     "execution_count": 163,
     "metadata": {},
     "output_type": "execute_result"
    },
    {
     "data": {
      "image/png": "[encoded data removed]",
      "text/plain": [
       "<Figure size 576x360 with 1 Axes>"
      ]
     },
     "metadata": {},
     "output_type": "display_data"
    }
   ],
   "source": [
    "ax=fit.plot_ccdf(marker='o',ls='', original_data=True)\n",
    "fit.plot_ccdf(marker='o',ls='', original_data=False)\n",
    "fit.power_law.plot_ccdf(ax=ax)"
   ]
  },
  {
   "cell_type": "code",
   "execution_count": 22,
   "metadata": {},
   "outputs": [
    {
     "data": {
      "text/plain": [
       "2.2020691084877004"
      ]
     },
     "execution_count": 22,
     "metadata": {},
     "output_type": "execute_result"
    }
   ],
   "source": [
    "alpha"
   ]
  },
  {
   "cell_type": "markdown",
   "metadata": {},
   "source": [
    "* Singleton collectors (0 collaborations) are omitted from the figure"
   ]
  },
  {
   "cell_type": "markdown",
   "metadata": {},
   "source": [
    "---"
   ]
  },
  {
   "cell_type": "markdown",
   "metadata": {},
   "source": [
    "### Most central collectors"
   ]
  },
  {
   "cell_type": "markdown",
   "metadata": {},
   "source": [
    "Average degrees for *(i)* the entire network; *(ii)* the giant component; *(iii)* all connected components excluding $c_1$."
   ]
  },
  {
   "cell_type": "code",
   "execution_count": 54,
   "metadata": {},
   "outputs": [
    {
     "name": "stdout",
     "output_type": "stream",
     "text": [
      "Overall average degree: 3.07\n"
     ]
    }
   ],
   "source": [
    "print(\"Overall average degree: {:.2f}\".format(sum( k for n,k in list(cwn.degree()) )/cwn.number_of_nodes()))"
   ]
  },
  {
   "cell_type": "code",
   "execution_count": 55,
   "metadata": {},
   "outputs": [
    {
     "name": "stdout",
     "output_type": "stream",
     "text": [
      "Giant component average degree: 6.08\n"
     ]
    }
   ],
   "source": [
    "print(\"Giant component average degree: {:.2f}\".format( sum(k for n,k in list(giantComp.degree()))/giantComp.number_of_nodes() ))"
   ]
  },
  {
   "cell_type": "code",
   "execution_count": 81,
   "metadata": {},
   "outputs": [
    {
     "name": "stdout",
     "output_type": "stream",
     "text": [
      "Average degree <k> for all connected components (excluding c1): 0.51\n"
     ]
    }
   ],
   "source": [
    "num_nodes = sum( 1 for comp in connectedComps for node in comp.nodes() )\n",
    "print(\"Average degree <k> for all connected components (excluding c1): {:.2f}\".format(\n",
    "    sum( cwn.degree(node) for comp in connectedComps for node in comp.nodes() )/num_nodes))"
   ]
  },
  {
   "cell_type": "markdown",
   "metadata": {},
   "source": [
    "Create a latex table: top-20 collectors (ordered by degree $k$)"
   ]
  },
  {
   "cell_type": "code",
   "execution_count": 305,
   "metadata": {},
   "outputs": [],
   "source": [
    "def getNumCollabRecords(col,pct=False):\n",
    "    o=occs.loc[ni[col]]\n",
    "    o_collab = o[o['recordedBy_atomized'].apply(len)>1]\n",
    "    if pct:\n",
    "        return o_collab.shape[0]/o.shape[0]\n",
    "    return o_collab.shape[0]\n",
    "\n",
    "# Make table data\n",
    "table_data = [  (  col, \n",
    "                   d['count'], \n",
    "                   getNumCollabRecords(col,pct=True),\n",
    "                   cwn.degree(col), \n",
    "                   cwn.degree(col,weight='weight_hyperbolic') ) for col,d in cwn.nodes(data=True)]"
   ]
  },
  {
   "cell_type": "code",
   "execution_count": 316,
   "metadata": {},
   "outputs": [
    {
     "data": {
      "text/plain": [
       "[('irwin,hs', 18065, 0.341489067257127, 39, 5696.000000000027),\n",
       " ('proenca,ceb', 4803, 0.8825733916302311, 218, 4203.6666666666615),\n",
       " ('faria,jeq', 4687, 0.8291071809077349, 117, 3881.0000000000205),\n",
       " ('souza,rr', 3885, 0.9927965011577051, 37, 3835.500000000027),\n",
       " ('santos,rrb', 3587, 0.9445218845832172, 41, 3382.2500000000327),\n",
       " ('munhoz,cbr', 3191, 0.8282670009401442, 109, 2493.1666666666656),\n",
       " ('zanatta,mrv', 2364, 0.9576988155668359, 50, 2264.0000000000173),\n",
       " ('castelobranco,cw', 2256, 1.0, 1, 2256.0),\n",
       " ('grando,jv', 2256, 1.0, 1, 2256.0),\n",
       " ('eiten,g', 3046, 0.6138451443569554, 33, 1865.5),\n",
       " ('amaral,ag', 1825, 0.9950684931506849, 37, 1814.9999999999977),\n",
       " ('projetobiodiversidadebp', 1780, 1.0, 19, 1779.9999999999977),\n",
       " ('mendes,vc', 1696, 0.9994103773584906, 89, 1695.0000000000014),\n",
       " ('fonseca,sf', 1610, 0.999379652605459, 18, 1606.9999999999802),\n",
       " ('camara,peas', 2076, 0.7976878612716763, 47, 1485.9999999999998),\n",
       " ('harley,rm', 2564, 0.6599063962558502, 90, 1455.833333333333),\n",
       " ('carvalhosilva,m', 1635, 0.9847094801223242, 58, 1435.9999999999998),\n",
       " ('eiten,lt', 1262, 0.9960380348652932, 14, 1256.4999999999995),\n",
       " ('mello,trb', 1247, 1.0, 21, 1247.000000000002),\n",
       " ('soares,aer', 1557, 0.7296082209377007, 29, 1135.0000000000018)]"
      ]
     },
     "execution_count": 316,
     "metadata": {},
     "output_type": "execute_result"
    }
   ],
   "source": [
    "table_data = sorted(table_data,key=lambda x: x[4],reverse=True)\n",
    "table_data[:20]"
   ]
  },
  {
   "cell_type": "code",
   "execution_count": 317,
   "metadata": {},
   "outputs": [
    {
     "name": "stdout",
     "output_type": "stream",
     "text": [
      "irwin,hs & 18065 & 34.1 & 39 & 5696.0 \\\\\n",
      "proenca,ceb & 4803 & 88.3 & 218 & 4203.7 \\\\\n",
      "faria,jeq & 4687 & 82.9 & 117 & 3881.0 \\\\\n",
      "souza,rr & 3885 & 99.3 & 37 & 3835.5 \\\\\n",
      "santos,rrb & 3587 & 94.5 & 41 & 3382.3 \\\\\n",
      "munhoz,cbr & 3191 & 82.8 & 109 & 2493.2 \\\\\n",
      "zanatta,mrv & 2364 & 95.8 & 50 & 2264.0 \\\\\n",
      "castelobranco,cw & 2256 & 100.0 & 1 & 2256.0 \\\\\n",
      "grando,jv & 2256 & 100.0 & 1 & 2256.0 \\\\\n",
      "eiten,g & 3046 & 61.4 & 33 & 1865.5 \\\\\n",
      "amaral,ag & 1825 & 99.5 & 37 & 1815.0 \\\\\n",
      "projetobiodiversidadebp & 1780 & 100.0 & 19 & 1780.0 \\\\\n",
      "mendes,vc & 1696 & 99.9 & 89 & 1695.0 \\\\\n",
      "fonseca,sf & 1610 & 99.9 & 18 & 1607.0 \\\\\n",
      "camara,peas & 2076 & 79.8 & 47 & 1486.0 \\\\\n",
      "harley,rm & 2564 & 66.0 & 90 & 1455.8 \\\\\n",
      "carvalhosilva,m & 1635 & 98.5 & 58 & 1436.0 \\\\\n",
      "eiten,lt & 1262 & 99.6 & 14 & 1256.5 \\\\\n",
      "mello,trb & 1247 & 100.0 & 21 & 1247.0 \\\\\n",
      "soares,aer & 1557 & 73.0 & 29 & 1135.0 \\\\\n",
      "\n"
     ]
    }
   ],
   "source": [
    "# col, num_recs, pct_recs_collaborative, k, k_w (hyperbolic)\n",
    "table = \"\"\n",
    "for row in table_data[:20]:\n",
    "    table += '{} & {} & {:.1%} & {} & {:.1f} \\\\\\\\\\n'.format(*row).replace('%','')\n",
    "\n",
    "print(table)"
   ]
  },
  {
   "cell_type": "markdown",
   "metadata": {},
   "source": [
    "#### Plot: $k$ and $k_w$ top-10 ranks"
   ]
  },
  {
   "cell_type": "code",
   "execution_count": 188,
   "metadata": {},
   "outputs": [],
   "source": [
    "#cols = set( c for c,k in rank_cols_k[:10] ) | set( c for c,k in rank_cols_kw[:10] )\n",
    "#data=list(zip(*[ (col, dict(rank_cols_k)[col], dict(rank_cols_kw)[col] ) for col in cols ]))"
   ]
  },
  {
   "cell_type": "code",
   "execution_count": 352,
   "metadata": {},
   "outputs": [
    {
     "data": {
      "image/png": "[encoded data removed]",
      "text/plain": [
       "<Figure size 720x720 with 1 Axes>"
      ]
     },
     "metadata": {},
     "output_type": "display_data"
    }
   ],
   "source": [
    "t,x,y = list(zip(*[ (col,nrecs,kw) for col,nrecs,pctcollab,k,kw in table_data[:20]]))\n",
    "\n",
    "plt.figure(figsize=(10,10))\n",
    "plt.plot(x,y,'o',label='c')\n",
    "\n",
    "for t,x,y in zip(*data):\n",
    "    plt.annotate(t, xy=(x,y),xytext=(10, 0),textcoords='offset points',\n",
    "                family='sans-serif', fontsize=14, color='darkslategrey')\n",
    "\n",
    "\n",
    "#plt.xlabel('# distinct collaborators ($k$)')\n",
    "#plt.ylabel('$k_w$ (Hyperbolic weighting)')\n",
    "plt.xscale('log')\n",
    "plt.yscale('log')"
   ]
  },
  {
   "cell_type": "markdown",
   "metadata": {},
   "source": [
    "* If we compare both rankings, only 3 collectors from 10 are shared"
   ]
  },
  {
   "cell_type": "code",
   "execution_count": 129,
   "metadata": {},
   "outputs": [
    {
     "ename": "NameError",
     "evalue": "name 'top10_cols_k' is not defined",
     "output_type": "error",
     "traceback": [
      "\u001b[0;31m---------------------------------------------------------------------------\u001b[0m",
      "\u001b[0;31mNameError\u001b[0m                                 Traceback (most recent call last)",
      "\u001b[0;32m<ipython-input-129-36655049d407>\u001b[0m in \u001b[0;36m<module>\u001b[0;34m()\u001b[0m\n\u001b[0;32m----> 1\u001b[0;31m \u001b[0mset\u001b[0m\u001b[0;34m(\u001b[0m\u001b[0;34m[\u001b[0m \u001b[0mi\u001b[0m\u001b[0;34m[\u001b[0m\u001b[0;36m0\u001b[0m\u001b[0;34m]\u001b[0m \u001b[0;32mfor\u001b[0m \u001b[0mi\u001b[0m \u001b[0;32min\u001b[0m \u001b[0mtop10_cols_k\u001b[0m\u001b[0;34m]\u001b[0m\u001b[0;34m)\u001b[0m \u001b[0;34m&\u001b[0m \u001b[0mset\u001b[0m\u001b[0;34m(\u001b[0m\u001b[0;34m[\u001b[0m \u001b[0mi\u001b[0m\u001b[0;34m[\u001b[0m\u001b[0;36m0\u001b[0m\u001b[0;34m]\u001b[0m \u001b[0;32mfor\u001b[0m \u001b[0mi\u001b[0m \u001b[0;32min\u001b[0m \u001b[0mtop10_cols_kw\u001b[0m \u001b[0;34m]\u001b[0m\u001b[0;34m)\u001b[0m\u001b[0;34m\u001b[0m\u001b[0m\n\u001b[0m",
      "\u001b[0;31mNameError\u001b[0m: name 'top10_cols_k' is not defined"
     ]
    }
   ],
   "source": [
    "set([ i[0] for i in top10_cols_k]) & set([ i[0] for i in top10_cols_kw ])"
   ]
  },
  {
   "cell_type": "code",
   "execution_count": 31,
   "metadata": {},
   "outputs": [
    {
     "data": {
      "text/plain": [
       "\"Position of 'irwin,hs' in the rank k: 43th, with k=39\""
      ]
     },
     "execution_count": 31,
     "metadata": {},
     "output_type": "execute_result"
    }
   ],
   "source": [
    "\"Position of 'irwin,hs' in the rank k: {}th, with k={}\".format(\n",
    "    *[ (i+1,k) for i,(c,k) in enumerate(rank_cols_k) if c=='irwin,hs'][0] )"
   ]
  },
  {
   "cell_type": "code",
   "execution_count": 32,
   "metadata": {},
   "outputs": [
    {
     "data": {
      "text/plain": [
       "\"Position of 'ratter,ja' in the rank kw: 20th, with kw=2962\""
      ]
     },
     "execution_count": 32,
     "metadata": {},
     "output_type": "execute_result"
    }
   ],
   "source": [
    "\"Position of 'ratter,ja' in the rank kw: {}th, with kw={}\".format(\n",
    "    *[ (i+1,k) for i,(c,k) in enumerate(rank_cols_kw) if c=='ratter,ja' ][0])"
   ]
  },
  {
   "cell_type": "markdown",
   "metadata": {},
   "source": [
    "---"
   ]
  },
  {
   "cell_type": "markdown",
   "metadata": {},
   "source": [
    "### Assortativity"
   ]
  },
  {
   "cell_type": "code",
   "execution_count": 33,
   "metadata": {},
   "outputs": [
    {
     "data": {
      "text/plain": [
       "-0.0034149148149912904"
      ]
     },
     "execution_count": 33,
     "metadata": {},
     "output_type": "execute_result"
    }
   ],
   "source": [
    "# According to Newman 2003 - Mixing patterns in networks (eq21)\n",
    "nx.assortativity.degree_assortativity_coefficient(cwn)\n"
   ]
  },
  {
   "cell_type": "code",
   "execution_count": 34,
   "metadata": {},
   "outputs": [
    {
     "data": {
      "text/plain": [
       "-0.030843411351555172"
      ]
     },
     "execution_count": 34,
     "metadata": {},
     "output_type": "execute_result"
    }
   ],
   "source": [
    "nx.assortativity.degree_assortativity_coefficient( giantComp )"
   ]
  },
  {
   "cell_type": "code",
   "execution_count": 43,
   "metadata": {},
   "outputs": [
    {
     "ename": "KeyError",
     "evalue": "<class 'NoneType'>",
     "output_type": "error",
     "traceback": [
      "\u001b[0;31m---------------------------------------------------------------------------\u001b[0m",
      "\u001b[0;31mKeyError\u001b[0m                                  Traceback (most recent call last)",
      "\u001b[0;32m<ipython-input-43-54115d3e0cfb>\u001b[0m in \u001b[0;36m<module>\u001b[0;34m()\u001b[0m\n\u001b[0;32m----> 1\u001b[0;31m \u001b[0mnx\u001b[0m\u001b[0;34m.\u001b[0m\u001b[0mwrite_gexf\u001b[0m\u001b[0;34m(\u001b[0m\u001b[0mcwn\u001b[0m\u001b[0;34m,\u001b[0m\u001b[0;34m'./g.gexf'\u001b[0m\u001b[0;34m)\u001b[0m\u001b[0;34m\u001b[0m\u001b[0m\n\u001b[0m",
      "\u001b[0;32m<decorator-gen-509>\u001b[0m in \u001b[0;36mwrite_gexf\u001b[0;34m(G, path, encoding, prettyprint, version)\u001b[0m\n",
      "\u001b[0;32m/home/pedro/anaconda3/lib/python3.6/site-packages/networkx/utils/decorators.py\u001b[0m in \u001b[0;36m_open_file\u001b[0;34m(func, *args, **kwargs)\u001b[0m\n\u001b[1;32m    222\u001b[0m         \u001b[0;31m# Finally, we call the original function, making sure to close the fobj.\u001b[0m\u001b[0;34m\u001b[0m\u001b[0;34m\u001b[0m\u001b[0m\n\u001b[1;32m    223\u001b[0m         \u001b[0;32mtry\u001b[0m\u001b[0;34m:\u001b[0m\u001b[0;34m\u001b[0m\u001b[0m\n\u001b[0;32m--> 224\u001b[0;31m             \u001b[0mresult\u001b[0m \u001b[0;34m=\u001b[0m \u001b[0mfunc\u001b[0m\u001b[0;34m(\u001b[0m\u001b[0;34m*\u001b[0m\u001b[0mnew_args\u001b[0m\u001b[0;34m,\u001b[0m \u001b[0;34m**\u001b[0m\u001b[0mkwargs\u001b[0m\u001b[0;34m)\u001b[0m\u001b[0;34m\u001b[0m\u001b[0m\n\u001b[0m\u001b[1;32m    225\u001b[0m         \u001b[0;32mfinally\u001b[0m\u001b[0;34m:\u001b[0m\u001b[0;34m\u001b[0m\u001b[0m\n\u001b[1;32m    226\u001b[0m             \u001b[0;32mif\u001b[0m \u001b[0mclose_fobj\u001b[0m\u001b[0;34m:\u001b[0m\u001b[0;34m\u001b[0m\u001b[0m\n",
      "\u001b[0;32m/home/pedro/anaconda3/lib/python3.6/site-packages/networkx/readwrite/gexf.py\u001b[0m in \u001b[0;36mwrite_gexf\u001b[0;34m(G, path, encoding, prettyprint, version)\u001b[0m\n\u001b[1;32m     86\u001b[0m     writer = GEXFWriter(encoding=encoding, prettyprint=prettyprint,\n\u001b[1;32m     87\u001b[0m                         version=version)\n\u001b[0;32m---> 88\u001b[0;31m     \u001b[0mwriter\u001b[0m\u001b[0;34m.\u001b[0m\u001b[0madd_graph\u001b[0m\u001b[0;34m(\u001b[0m\u001b[0mG\u001b[0m\u001b[0;34m)\u001b[0m\u001b[0;34m\u001b[0m\u001b[0m\n\u001b[0m\u001b[1;32m     89\u001b[0m     \u001b[0mwriter\u001b[0m\u001b[0;34m.\u001b[0m\u001b[0mwrite\u001b[0m\u001b[0;34m(\u001b[0m\u001b[0mpath\u001b[0m\u001b[0;34m)\u001b[0m\u001b[0;34m\u001b[0m\u001b[0m\n\u001b[1;32m     90\u001b[0m \u001b[0;34m\u001b[0m\u001b[0m\n",
      "\u001b[0;32m/home/pedro/anaconda3/lib/python3.6/site-packages/networkx/readwrite/gexf.py\u001b[0m in \u001b[0;36madd_graph\u001b[0;34m(self, G)\u001b[0m\n\u001b[1;32m    304\u001b[0m         \u001b[0mself\u001b[0m\u001b[0;34m.\u001b[0m\u001b[0madd_meta\u001b[0m\u001b[0;34m(\u001b[0m\u001b[0mG\u001b[0m\u001b[0;34m,\u001b[0m \u001b[0mgraph_element\u001b[0m\u001b[0;34m)\u001b[0m\u001b[0;34m\u001b[0m\u001b[0m\n\u001b[1;32m    305\u001b[0m         \u001b[0mself\u001b[0m\u001b[0;34m.\u001b[0m\u001b[0madd_nodes\u001b[0m\u001b[0;34m(\u001b[0m\u001b[0mG\u001b[0m\u001b[0;34m,\u001b[0m \u001b[0mgraph_element\u001b[0m\u001b[0;34m)\u001b[0m\u001b[0;34m\u001b[0m\u001b[0m\n\u001b[0;32m--> 306\u001b[0;31m         \u001b[0mself\u001b[0m\u001b[0;34m.\u001b[0m\u001b[0madd_edges\u001b[0m\u001b[0;34m(\u001b[0m\u001b[0mG\u001b[0m\u001b[0;34m,\u001b[0m \u001b[0mgraph_element\u001b[0m\u001b[0;34m)\u001b[0m\u001b[0;34m\u001b[0m\u001b[0m\n\u001b[0m\u001b[1;32m    307\u001b[0m         \u001b[0mself\u001b[0m\u001b[0;34m.\u001b[0m\u001b[0mxml\u001b[0m\u001b[0;34m.\u001b[0m\u001b[0mappend\u001b[0m\u001b[0;34m(\u001b[0m\u001b[0mgraph_element\u001b[0m\u001b[0;34m)\u001b[0m\u001b[0;34m\u001b[0m\u001b[0m\n\u001b[1;32m    308\u001b[0m \u001b[0;34m\u001b[0m\u001b[0m\n",
      "\u001b[0;32m/home/pedro/anaconda3/lib/python3.6/site-packages/networkx/readwrite/gexf.py\u001b[0m in \u001b[0;36madd_edges\u001b[0;34m(self, G, graph_element)\u001b[0m\n\u001b[1;32m    396\u001b[0m             \u001b[0medge_data\u001b[0m \u001b[0;34m=\u001b[0m \u001b[0mself\u001b[0m\u001b[0;34m.\u001b[0m\u001b[0madd_viz\u001b[0m\u001b[0;34m(\u001b[0m\u001b[0medge_element\u001b[0m\u001b[0;34m,\u001b[0m \u001b[0medge_data\u001b[0m\u001b[0;34m)\u001b[0m\u001b[0;34m\u001b[0m\u001b[0m\n\u001b[1;32m    397\u001b[0m             edge_data = self.add_attributes('edge', edge_element,\n\u001b[0;32m--> 398\u001b[0;31m                                             edge_data, default)\n\u001b[0m\u001b[1;32m    399\u001b[0m             \u001b[0medges_element\u001b[0m\u001b[0;34m.\u001b[0m\u001b[0mappend\u001b[0m\u001b[0;34m(\u001b[0m\u001b[0medge_element\u001b[0m\u001b[0;34m)\u001b[0m\u001b[0;34m\u001b[0m\u001b[0m\n\u001b[1;32m    400\u001b[0m         \u001b[0mgraph_element\u001b[0m\u001b[0;34m.\u001b[0m\u001b[0mappend\u001b[0m\u001b[0;34m(\u001b[0m\u001b[0medges_element\u001b[0m\u001b[0;34m)\u001b[0m\u001b[0;34m\u001b[0m\u001b[0m\n",
      "\u001b[0;32m/home/pedro/anaconda3/lib/python3.6/site-packages/networkx/readwrite/gexf.py\u001b[0m in \u001b[0;36madd_attributes\u001b[0;34m(self, node_or_edge, xml_obj, data, default)\u001b[0m\n\u001b[1;32m    434\u001b[0m                 \u001b[0;31m# static data\u001b[0m\u001b[0;34m\u001b[0m\u001b[0;34m\u001b[0m\u001b[0m\n\u001b[1;32m    435\u001b[0m                 \u001b[0mmode\u001b[0m \u001b[0;34m=\u001b[0m \u001b[0;34m'static'\u001b[0m\u001b[0;34m\u001b[0m\u001b[0m\n\u001b[0;32m--> 436\u001b[0;31m                 attr_id = self.get_attr_id(make_str(k), self.xml_type[val_type],\n\u001b[0m\u001b[1;32m    437\u001b[0m                                            node_or_edge, default, mode)\n\u001b[1;32m    438\u001b[0m                 \u001b[0me\u001b[0m \u001b[0;34m=\u001b[0m \u001b[0mElement\u001b[0m\u001b[0;34m(\u001b[0m\u001b[0;34m'attvalue'\u001b[0m\u001b[0;34m)\u001b[0m\u001b[0;34m\u001b[0m\u001b[0m\n",
      "\u001b[0;31mKeyError\u001b[0m: <class 'NoneType'>"
     ]
    }
   ],
   "source": [
    "nx.write_gexf(cwn,'./g.gexf')"
   ]
  },
  {
   "cell_type": "code",
   "execution_count": null,
   "metadata": {
    "collapsed": true
   },
   "outputs": [],
   "source": [
    "!gephi g.gexf"
   ]
  },
  {
   "cell_type": "code",
   "execution_count": 51,
   "metadata": {},
   "outputs": [],
   "source": [
    "nx.set_edge_attributes(cwn,'','taxons')"
   ]
  },
  {
   "cell_type": "code",
   "execution_count": 57,
   "metadata": {},
   "outputs": [],
   "source": [
    "nx.write_gexf(cwn,'./g.gexf')"
   ]
  },
  {
   "cell_type": "code",
   "execution_count": null,
   "metadata": {
    "collapsed": true
   },
   "outputs": [],
   "source": []
  }
 ],
 "metadata": {
  "kernelspec": {
   "display_name": "Python 3",
   "language": "python",
   "name": "python3"
  },
  "language_info": {
   "codemirror_mode": {
    "name": "ipython",
    "version": 3
   },
   "file_extension": ".py",
   "mimetype": "text/x-python",
   "name": "python",
   "nbconvert_exporter": "python",
   "pygments_lexer": "ipython3",
   "version": "3.6.5"
  }
 },
 "nbformat": 4,
 "nbformat_minor": 2
}
