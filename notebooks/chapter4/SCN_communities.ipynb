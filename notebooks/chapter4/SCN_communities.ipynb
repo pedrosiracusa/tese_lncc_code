{
 "cells": [
  {
   "cell_type": "markdown",
   "metadata": {},
   "source": [
    "## Building Network Models\n",
    "# UB Species-collectors Network\n",
    "### SCN Communites"
   ]
  },
  {
   "cell_type": "markdown",
   "metadata": {},
   "source": [
    "---"
   ]
  },
  {
   "cell_type": "code",
   "execution_count": 2,
   "metadata": {
    "collapsed": true
   },
   "outputs": [],
   "source": [
    "# Setting paths\n",
    "import sys,os\n",
    "import pathlib\n",
    "sys.path.insert(0,os.path.expanduser('~/caryocar'))\n",
    "sys.path.insert(0,os.path.abspath('..'))"
   ]
  },
  {
   "cell_type": "code",
   "execution_count": 3,
   "metadata": {
    "collapsed": true
   },
   "outputs": [],
   "source": [
    "# Building the networks from data\n",
    "from setupmodels import *"
   ]
  },
  {
   "cell_type": "code",
   "execution_count": 4,
   "metadata": {
    "collapsed": true
   },
   "outputs": [],
   "source": [
    "# Importing libraries for analysis\n",
    "import networkx as nx\n",
    "import numpy as np\n",
    "import seaborn as sns\n",
    "import matplotlib as mpl\n",
    "import matplotlib.pyplot as plt\n",
    "\n",
    "mpl.rcParams.update(mpl.rcParamsDefault)\n",
    "plt.style.use('seaborn-paper')\n",
    "sns.set_color_codes('deep')\n",
    "\n",
    "%matplotlib inline"
   ]
  },
  {
   "cell_type": "code",
   "execution_count": 5,
   "metadata": {
    "collapsed": true
   },
   "outputs": [],
   "source": [
    "graphsdir = os.path.abspath('./graphs')\n",
    "\n",
    "if not os.path.isdir(graphsdir):\n",
    "    !mkdir graphs"
   ]
  },
  {
   "cell_type": "markdown",
   "metadata": {},
   "source": [
    "### Taxonomic aggregation by genus"
   ]
  },
  {
   "cell_type": "code",
   "execution_count": 5,
   "metadata": {
    "collapsed": true
   },
   "outputs": [],
   "source": [
    "grp = dict(occs[['species','genus']].groupby('genus').apply(lambda x: set(x['species'])))"
   ]
  },
  {
   "cell_type": "code",
   "execution_count": 6,
   "metadata": {
    "collapsed": true
   },
   "outputs": [],
   "source": [
    "scn_genus = scn.taxonomicAggregation(grp)"
   ]
  },
  {
   "cell_type": "code",
   "execution_count": 7,
   "metadata": {},
   "outputs": [
    {
     "name": "stdout",
     "output_type": "stream",
     "text": [
      "Name: \n",
      "Type: SpeciesCollectorsNetwork\n",
      "Number of nodes: 9937\n",
      "Number of edges: 87632\n",
      "Average degree:  17.6375\n"
     ]
    }
   ],
   "source": [
    "print(nx.info(scn_genus))"
   ]
  },
  {
   "cell_type": "markdown",
   "metadata": {},
   "source": [
    "> Must fix: edges count attributes are being set to a numpy int. This is problematic for `nx.write_gexf`."
   ]
  },
  {
   "cell_type": "code",
   "execution_count": 8,
   "metadata": {},
   "outputs": [
    {
     "data": {
      "text/plain": [
       "numpy.int64"
      ]
     },
     "execution_count": 8,
     "metadata": {},
     "output_type": "execute_result"
    }
   ],
   "source": [
    "type(scn_genus['Abarema']['arbo,mm']['count'])"
   ]
  },
  {
   "cell_type": "code",
   "execution_count": 9,
   "metadata": {
    "collapsed": true
   },
   "outputs": [],
   "source": [
    "# quickfix for the issue above\n",
    "nx.set_edge_attributes(scn_genus, dict([ ((u,v),int(ct)) for u,v,ct in scn_genus.edges(data='count') ]), name='count')"
   ]
  },
  {
   "cell_type": "code",
   "execution_count": 10,
   "metadata": {
    "collapsed": true
   },
   "outputs": [],
   "source": [
    "#nx.write_gexf(scn_genus,os.path.join(graphsdir,'scn_agg_genus.gexf'))"
   ]
  },
  {
   "cell_type": "markdown",
   "metadata": {},
   "source": [
    "---"
   ]
  },
  {
   "cell_type": "markdown",
   "metadata": {},
   "source": [
    "### Taxonomic aggregation by family"
   ]
  },
  {
   "cell_type": "code",
   "execution_count": 6,
   "metadata": {
    "collapsed": true
   },
   "outputs": [],
   "source": [
    "grp = dict(occs[['species','family']].groupby('family').apply(lambda x: set(x['species'])))"
   ]
  },
  {
   "cell_type": "code",
   "execution_count": 7,
   "metadata": {
    "collapsed": true
   },
   "outputs": [],
   "source": [
    "scn_family = scn.taxonomicAggregation(grp)"
   ]
  },
  {
   "cell_type": "code",
   "execution_count": 8,
   "metadata": {
    "collapsed": true
   },
   "outputs": [],
   "source": [
    "nx.set_edge_attributes(scn_family, dict([ ((u,v),int(ct)) for u,v,ct in scn_family.edges(data='count') ]), name='count')"
   ]
  },
  {
   "cell_type": "code",
   "execution_count": 10,
   "metadata": {},
   "outputs": [],
   "source": [
    "nx.write_gexf(scn_family,os.path.join(graphsdir,'scn_agg_family.gexf'))"
   ]
  },
  {
   "cell_type": "code",
   "execution_count": 13,
   "metadata": {},
   "outputs": [
    {
     "name": "stdout",
     "output_type": "stream",
     "text": [
      "scn_agg_family.gexf\r\n"
     ]
    }
   ],
   "source": [
    "!ls graphs"
   ]
  },
  {
   "cell_type": "markdown",
   "metadata": {},
   "source": [
    "---"
   ]
  },
  {
   "cell_type": "markdown",
   "metadata": {},
   "source": [
    "### Figure: Aggregation and density"
   ]
  },
  {
   "cell_type": "markdown",
   "metadata": {},
   "source": [
    "Plot a figure comparing network aggregation and density"
   ]
  },
  {
   "cell_type": "code",
   "execution_count": 15,
   "metadata": {
    "collapsed": true
   },
   "outputs": [],
   "source": [
    "group = lambda x: dict(occs[['species',x]].groupby(x).apply(lambda x: set(x['species']))) \n",
    "\n",
    "scn_genus = scn.taxonomicAggregation(group('genus'))\n",
    "scn_family = scn.taxonomicAggregation(group('family'))\n",
    "scn_order = scn.taxonomicAggregation(group('order'))\n",
    "scn_class = scn.taxonomicAggregation(group('class'))\n",
    "scn_phylum = scn.taxonomicAggregation(group('phylum'))\n",
    "scn_kingdom = scn.taxonomicAggregation(group('kingdom'))"
   ]
  },
  {
   "cell_type": "code",
   "execution_count": 16,
   "metadata": {
    "collapsed": true
   },
   "outputs": [],
   "source": [
    "density = lambda g: g.number_of_edges() / (len(g.listCollectorsNodes())*len(g.listSpeciesNodes()))\n",
    "\n",
    "graphs = [ scn, scn_genus, scn_family, scn_order, scn_class, scn_phylum, scn_kingdom ]\n",
    "n_spp, n_edges, density = zip(*[ ( len(g.listSpeciesNodes()), g.number_of_edges(), density(g) ) for g in graphs ])"
   ]
  },
  {
   "cell_type": "code",
   "execution_count": 17,
   "metadata": {},
   "outputs": [
    {
     "data": {
      "image/png": "[encoded data removed]",
      "text/plain": [
       "<matplotlib.figure.Figure at 0x7fb1aacaeac8>"
      ]
     },
     "metadata": {},
     "output_type": "display_data"
    }
   ],
   "source": [
    "plt.figure(figsize=(8,5))\n",
    "ax = plt.axes()\n",
    "ax_r = plt.twinx(ax)\n",
    "\n",
    "mew = 1.3\n",
    "mfc = 'none'\n",
    "ms=10\n",
    "lw=1\n",
    "\n",
    "classes = ['species','genus','family','order','class','phylum','kingdom']\n",
    "\n",
    "ax.plot([ i for i,d in enumerate(classes) ],n_edges,'o', color='b',\n",
    "                                                    ls='--',\n",
    "                                                    markeredgewidth=mew, \n",
    "                                                    markerfacecolor=mfc,\n",
    "                                                    ms=ms,\n",
    "                                                    lw=lw)\n",
    "\n",
    "ax.plot([ i for i,d in enumerate(classes) ],n_spp,'x', color='g',\n",
    "                                                    ls='--',\n",
    "                                                    markeredgewidth=mew, \n",
    "                                                    markerfacecolor=mfc,\n",
    "                                                    ms=ms,\n",
    "                                                    lw=lw)\n",
    "\n",
    "ax_r.plot([ i for i,d in enumerate(classes) ],density,'^',color='r',\n",
    "                                                    ls='--',\n",
    "                                                    markeredgewidth=mew, \n",
    "                                                    markerfacecolor=mfc,\n",
    "                                                    ms=ms,\n",
    "                                                    lw=lw)\n",
    "\n",
    "\n",
    "ax.set_yscale('log')\n",
    "ax.set_ylim(1,1e6)\n",
    "ax.set_xlabel('Rank')\n",
    "ax.set_ylabel('Num of taxa and edges')\n",
    "ax.set_xticklabels(['']+classes)\n",
    "\n",
    "ax_r.set_yscale('log')\n",
    "ax_r.set_ylim(1e-6,1)\n",
    "\n",
    "ax_r.set_ylabel('Network density')\n",
    "\n",
    "ax_r.legend(['network density'],loc=3)\n",
    "ax.legend(['num of edges','num of taxa'],loc=3,bbox_to_anchor=(0,0.06))\n",
    "\n",
    "ax.grid(linewidth=0.5, ls='--',color='.7')\n",
    "#plt.savefig('/home/pedro/Downloads/scn_tax_agg_curves.pdf',dpi=192,format='pdf',bbox_inches='tight')"
   ]
  },
  {
   "cell_type": "markdown",
   "metadata": {},
   "source": [
    "---"
   ]
  },
  {
   "cell_type": "code",
   "execution_count": 18,
   "metadata": {},
   "outputs": [
    {
     "name": "stdout",
     "output_type": "stream",
     "text": [
      "Num of spp nodes in the scn: 15344\n",
      "Num of spp nodes in the scn_family: 474\n",
      "Num of edges in the scn: 142647\n",
      "Num of edges in the scn_family: 43803\n"
     ]
    }
   ],
   "source": [
    "print(\"Num of spp nodes in the scn: {}\\n\\\n",
    "Num of spp nodes in the scn_family: {}\\n\\\n",
    "Num of edges in the scn: {}\\n\\\n",
    "Num of edges in the scn_family: {}\".format( \n",
    "    len(scn.listSpeciesNodes()), len(scn_family.listSpeciesNodes()),\n",
    "    scn.number_of_edges(), scn_family.number_of_edges()\n",
    "    )\n",
    ")"
   ]
  },
  {
   "cell_type": "code",
   "execution_count": 19,
   "metadata": {},
   "outputs": [
    {
     "data": {
      "text/plain": [
       "0.013654165544483347"
      ]
     },
     "execution_count": 19,
     "metadata": {},
     "output_type": "execute_result"
    }
   ],
   "source": [
    "density = lambda g: g.number_of_edges() / (len(g.listCollectorsNodes())*len(g.listSpeciesNodes()))\n",
    "density(scn_family)"
   ]
  },
  {
   "cell_type": "code",
   "execution_count": 20,
   "metadata": {},
   "outputs": [
    {
     "data": {
      "text/plain": [
       "[('Fabaceae', 16005),\n",
       " ('Myrtaceae', 10951),\n",
       " ('Asteraceae', 10145),\n",
       " ('Rubiaceae', 8677),\n",
       " ('Poaceae', 5761),\n",
       " ('Cyperaceae', 5726),\n",
       " ('Melastomataceae', 5416),\n",
       " ('Malpighiaceae', 4148),\n",
       " ('Euphorbiaceae', 3448),\n",
       " ('Bignoniaceae', 3442),\n",
       " ('Desmidiaceae', 3392),\n",
       " ('Sematophyllaceae', 2360),\n",
       " ('Apocynaceae', 2121),\n",
       " ('Vochysiaceae', 2068),\n",
       " ('Malvaceae', 2060),\n",
       " ('Lamiaceae', 2051),\n",
       " ('Piperaceae', 1595),\n",
       " ('Orchidaceae', 1502),\n",
       " ('Convolvulaceae', 1371),\n",
       " ('Eunotiaceae', 1348),\n",
       " ('Solanaceae', 1345),\n",
       " ('Lythraceae', 1331),\n",
       " ('Polygalaceae', 1321),\n",
       " ('Hypnaceae', 1276),\n",
       " ('Dicranaceae', 1229),\n",
       " ('Annonaceae', 1185),\n",
       " ('Oxalidaceae', 1170),\n",
       " ('Verbenaceae', 1128),\n",
       " ('Acanthaceae', 1052),\n",
       " ('Sapindaceae', 974),\n",
       " ('Erythroxylaceae', 934),\n",
       " ('Loranthaceae', 880),\n",
       " ('Santalaceae', 876),\n",
       " ('Ochnaceae', 844),\n",
       " ('Chrysobalanaceae', 828),\n",
       " ('Eriocaulaceae', 828),\n",
       " ('Calophyllaceae', 811),\n",
       " ('Anacardiaceae', 786),\n",
       " ('Iridaceae', 721),\n",
       " ('Celastraceae', 703),\n",
       " ('Lauraceae', 700),\n",
       " ('Gentianaceae', 693),\n",
       " ('Naviculaceae', 680),\n",
       " ('Bryaceae', 677),\n",
       " ('Salicaceae', 629),\n",
       " ('Pteridaceae', 623),\n",
       " ('Boraginaceae', 611),\n",
       " ('Rutaceae', 566),\n",
       " ('Polytrichaceae', 549),\n",
       " ('Lejeuneaceae', 538),\n",
       " ('Combretaceae', 519),\n",
       " ('Xyridaceae', 517),\n",
       " ('Araceae', 516),\n",
       " ('Amaranthaceae', 515),\n",
       " ('Arecaceae', 512),\n",
       " ('Calymperaceae', 508),\n",
       " ('Apiaceae', 497),\n",
       " ('Sapotaceae', 497),\n",
       " ('Dilleniaceae', 495),\n",
       " ('Turneraceae', 483),\n",
       " ('Anemiaceae', 471),\n",
       " ('Pottiaceae', 471),\n",
       " ('Fissidentaceae', 466),\n",
       " ('Pinnulariaceae', 443),\n",
       " ('Nyctaginaceae', 440),\n",
       " ('Amblystegiaceae', 435),\n",
       " ('Scenedesmaceae', 424),\n",
       " ('Connaraceae', 422),\n",
       " ('Polygonaceae', 422),\n",
       " ('Moraceae', 378),\n",
       " ('Stereophyllaceae', 378),\n",
       " ('Polypodiaceae', 376),\n",
       " ('Burseraceae', 366),\n",
       " ('Styracaceae', 360),\n",
       " ('Araliaceae', 353),\n",
       " ('Blechnaceae', 350),\n",
       " ('Phyllanthaceae', 347),\n",
       " ('Orobanchaceae', 346),\n",
       " ('Thelypteridaceae', 318),\n",
       " ('Cymbellaceae', 315),\n",
       " ('Orthotrichaceae', 315),\n",
       " ('Primulaceae', 315),\n",
       " ('Onagraceae', 311),\n",
       " ('Bartramiaceae', 304),\n",
       " ('Vitaceae', 304),\n",
       " ('Meteoriaceae', 291),\n",
       " ('Bromeliaceae', 289),\n",
       " ('Velloziaceae', 287),\n",
       " ('Proteaceae', 285),\n",
       " ('Cucurbitaceae', 280),\n",
       " ('Meliaceae', 275),\n",
       " ('Fabroniaceae', 270),\n",
       " ('Thuidiaceae', 266),\n",
       " ('Passifloraceae', 264),\n",
       " ('Loganiaceae', 254),\n",
       " ('Ericaceae', 252),\n",
       " ('Dryopteridaceae', 242),\n",
       " ('Pterobryaceae', 237),\n",
       " ('Entodontaceae', 234),\n",
       " ('Marantaceae', 232),\n",
       " ('Lycopodiaceae', 229),\n",
       " ('Plantaginaceae', 224),\n",
       " ('Chlorellaceae', 217),\n",
       " ('Neckeraceae', 215),\n",
       " ('Icacinaceae', 208),\n",
       " ('Clusiaceae', 207),\n",
       " ('Ebenaceae', 202),\n",
       " ('Peraceae', 200),\n",
       " ('Campanulaceae', 194),\n",
       " ('Hymenophyllaceae', 194),\n",
       " ('Rhamnaceae', 191),\n",
       " ('Caryocaraceae', 180),\n",
       " ('Hookeriaceae', 180),\n",
       " ('Smilacaceae', 180),\n",
       " ('Gesneriaceae', 178),\n",
       " ('Gomphonemataceae', 175),\n",
       " ('Symplocaceae', 175),\n",
       " ('Racopilaceae', 172),\n",
       " ('Amphipleuraceae', 171),\n",
       " ('Lentibulariaceae', 162),\n",
       " ('Cyatheaceae', 151),\n",
       " ('Sphagnaceae', 150),\n",
       " ('Myristicaceae', 147),\n",
       " ('Siparunaceae', 146),\n",
       " ('Aspleniaceae', 145),\n",
       " ('Aquifoliaceae', 144),\n",
       " ('Simaroubaceae', 144),\n",
       " ('Droseraceae', 141),\n",
       " ('Parmeliaceae', 140),\n",
       " ('Rosaceae', 139),\n",
       " ('Euglenaceae', 134),\n",
       " ('Lecythidaceae', 133),\n",
       " ('Hydrodictyaceae', 132),\n",
       " ('Dioscoreaceae', 131),\n",
       " ('Cannabaceae', 130),\n",
       " ('Selenastraceae', 130),\n",
       " ('Urticaceae', 128),\n",
       " ('Menispermaceae', 126),\n",
       " ('Elaeocarpaceae', 124),\n",
       " ('Gleicheniaceae', 124),\n",
       " ('Lindsaeaceae', 124),\n",
       " ('Bacillariaceae', 119),\n",
       " ('Alstroemeriaceae', 118),\n",
       " ('Brachytheciaceae', 118),\n",
       " ('Aristolochiaceae', 117),\n",
       " ('Surirellaceae', 116),\n",
       " ('Begoniaceae', 112),\n",
       " ('Humiriaceae', 111),\n",
       " ('Plagiochilaceae', 110),\n",
       " ('Selaginellaceae', 110),\n",
       " ('Nostocaceae', 106),\n",
       " ('Frullaniaceae', 104),\n",
       " ('Bixaceae', 103),\n",
       " ('Amaryllidaceae', 98),\n",
       " ('Heliconiaceae', 98),\n",
       " ('Violaceae', 95),\n",
       " ('Achnanthidiaceae', 91),\n",
       " ('Anomoeoneidaceae', 90),\n",
       " ('Lygodiaceae', 88),\n",
       " ('Brachysiraceae', 85),\n",
       " ('Physciaceae', 85),\n",
       " ('Burmanniaceae', 83),\n",
       " ('Cunoniaceae', 82),\n",
       " ('Diadesmidaceae', 82),\n",
       " ('Dichapetalaceae', 82),\n",
       " ('Fragilariaceae', 81),\n",
       " ('Sphaerocystidaceae', 80),\n",
       " ('Oocystaceae', 79),\n",
       " ('Cactaceae', 76),\n",
       " ('Lacistemataceae', 75),\n",
       " ('Lepidoziaceae', 75),\n",
       " ('Costaceae', 73),\n",
       " ('Erythropalaceae', 73),\n",
       " ('Stauroneidaceae', 72),\n",
       " ('Peridiniaceae', 71),\n",
       " ('Portulacaceae', 70),\n",
       " ('Closteriaceae', 69),\n",
       " ('Chroococcaceae', 68),\n",
       " ('Rhizogoniaceae', 68),\n",
       " ('Chloranthaceae', 67),\n",
       " ('Caryophyllaceae', 63),\n",
       " ('Alismataceae', 61),\n",
       " ('Grimmiaceae', 61),\n",
       " ('Marcgraviaceae', 59),\n",
       " ('Sellaphoraceae', 59),\n",
       " ('Mniaceae', 58),\n",
       " ('Opiliaceae', 58),\n",
       " ('Commelinaceae', 57),\n",
       " ('Phytolaccaceae', 57),\n",
       " ('Pontederiaceae', 57),\n",
       " ('Picramniaceae', 56),\n",
       " ('Hypericaceae', 54),\n",
       " ('Ditrichaceae', 50),\n",
       " ('Cryphaeaceae', 49),\n",
       " ('Krameriaceae', 48),\n",
       " ('Capparaceae', 46),\n",
       " ('Nephrolepidaceae', 46),\n",
       " ('Helicophyllaceae', 45),\n",
       " ('Botryococcaceae', 44),\n",
       " ('Dennstaedtiaceae', 43),\n",
       " ('Lophocoleaceae', 43),\n",
       " ('Radulaceae', 42),\n",
       " ('Funariaceae', 39),\n",
       " ('Magnoliaceae', 39),\n",
       " ('Rapateaceae', 39),\n",
       " ('Theaceae', 39),\n",
       " ('Zingiberaceae', 39),\n",
       " ('Achnanthaceae', 36),\n",
       " ('Brassicaceae', 33),\n",
       " ('Ranunculaceae', 33),\n",
       " ('Scrophulariaceae', 33),\n",
       " ('Schizaeaceae', 32),\n",
       " ('Stephanodiscaceae', 32),\n",
       " ('Trigoniaceae', 32),\n",
       " ('Hedwigiaceae', 31),\n",
       " ('Asparagaceae', 29),\n",
       " ('Pleurosigmataceae', 29),\n",
       " ('Cephaloziaceae', 28),\n",
       " ('Cladoniaceae', 28),\n",
       " ('Daltoniaceae', 28),\n",
       " ('Erpodiaceae', 28),\n",
       " ('Oleaceae', 28),\n",
       " ('Cocconeidaceae', 27),\n",
       " ('Hylocomiaceae', 27),\n",
       " ('Leucodontaceae', 27),\n",
       " ('Treubariaceae', 27),\n",
       " ('Andreaeaceae', 26),\n",
       " ('Apodanthaceae', 26),\n",
       " ('Hypnodendraceae', 26),\n",
       " ('Oscillatoriaceae', 26),\n",
       " ('Fontinalaceae', 25),\n",
       " ('Splachnobryaceae', 25),\n",
       " ('Hypoxidaceae', 23),\n",
       " ('Pentaphylacaceae', 23),\n",
       " ('Fossombroniaceae', 22),\n",
       " ('Herbertaceae', 22),\n",
       " ('Calypogeiaceae', 21),\n",
       " ('Juncaceae', 21),\n",
       " ('Balanophoraceae', 20),\n",
       " ('Clethraceae', 20),\n",
       " ('Mayacaceae', 20),\n",
       " ('Olacaceae', 20),\n",
       " ('Pallaviciniaceae', 20),\n",
       " ('Schoepfiaceae', 20),\n",
       " ('Tectariaceae', 20),\n",
       " ('Trachypodaceae', 20),\n",
       " ('Ximeniaceae', 20),\n",
       " ('Aneuraceae', 19),\n",
       " ('Metzgeriaceae', 19),\n",
       " ('Monimiaceae', 19),\n",
       " ('Phyllogoniaceae', 19),\n",
       " ('Catenulaceae', 18),\n",
       " ('Haemodoraceae', 18),\n",
       " ('Hydroleaceae', 18),\n",
       " ('Neidiaceae', 18),\n",
       " ('Rhopalodiaceae', 18),\n",
       " ('Leskeaceae', 17),\n",
       " ('Osmundaceae', 17),\n",
       " ('Arthoniaceae', 15),\n",
       " ('Aulacomniaceae', 15),\n",
       " ('Marchantiaceae', 15),\n",
       " ('Thymelaeaceae', 15),\n",
       " ('Athyriaceae', 14),\n",
       " ('Equisetaceae', 14),\n",
       " ('Nymphaeaceae', 14),\n",
       " ('Papaveraceae', 14),\n",
       " ('Prionodontaceae', 14),\n",
       " ('Pseudanabaenaceae', 14),\n",
       " ('Schistochilaceae', 14),\n",
       " ('Diploneidaceae', 13),\n",
       " ('Jungermanniaceae', 13),\n",
       " ('Lomariopsidaceae', 13),\n",
       " ('Metaxyaceae', 13),\n",
       " ('Molluginaceae', 13),\n",
       " ('Ricciaceae', 13),\n",
       " ('Cardiopteridaceae', 12),\n",
       " ('Collemataceae', 12),\n",
       " ('Hydropogonaceae', 12),\n",
       " ('Talinaceae', 12),\n",
       " ('Achariaceae', 11),\n",
       " ('Aptandraceae', 11),\n",
       " ('Caricaceae', 11),\n",
       " ('Geocalycaceae', 11),\n",
       " ('Microteaceae', 11),\n",
       " ('Plumbaginaceae', 11),\n",
       " ('Rhachitheciaceae', 11),\n",
       " ('Anastrophyllaceae', 10),\n",
       " ('Balantiopsidaceae', 10),\n",
       " ('Cabombaceae', 10),\n",
       " ('Geraniaceae', 10),\n",
       " ('Marattiaceae', 10),\n",
       " ('Marsileaceae', 10),\n",
       " ('Menyanthaceae', 10),\n",
       " ('Ophioglossaceae', 10),\n",
       " ('Plagiotheciaceae', 10),\n",
       " ('Quiinaceae', 10),\n",
       " ('Scapaniaceae', 10),\n",
       " ('Cannaceae', 9),\n",
       " ('Encalyptaceae', 9),\n",
       " ('Lembophyllaceae', 9),\n",
       " ('Picrodendraceae', 9),\n",
       " ('Porellaceae', 9),\n",
       " ('Psilotaceae', 9),\n",
       " ('Ramalinaceae', 9),\n",
       " ('Salviniaceae', 9),\n",
       " ('Bonnetiaceae', 8),\n",
       " ('Graphidaceae', 8),\n",
       " ('Pelliaceae', 8),\n",
       " ('Pleuroziaceae', 8),\n",
       " ('Bruchiaceae', 7),\n",
       " ('Cleomaceae', 7),\n",
       " ('Escalloniaceae', 7),\n",
       " ('Lobariaceae', 7),\n",
       " ('Roccellaceae', 7),\n",
       " ('Atheliaceae', 6),\n",
       " ('Candelariaceae', 6),\n",
       " ('Cystopteridaceae', 6),\n",
       " ('Lepyrodontaceae', 6),\n",
       " ('Meesiaceae', 6),\n",
       " ('Rhizophoraceae', 6),\n",
       " ('Sabiaceae', 6),\n",
       " ('Winteraceae', 6),\n",
       " ('Adoxaceae', 5),\n",
       " ('Anthocerotaceae', 5),\n",
       " ('Aulacoseiraceae', 5),\n",
       " ('Aytoniaceae', 5),\n",
       " ('Crocyniaceae', 5),\n",
       " ('Goodeniaceae', 5),\n",
       " ('Haloragaceae', 5),\n",
       " ('Hydrocharitaceae', 5),\n",
       " ('Hypodematiaceae', 5),\n",
       " ('Jamesoniellaceae', 5),\n",
       " ('Linaceae', 5),\n",
       " ('Linderniaceae', 5),\n",
       " ('Mastigophoraceae', 5),\n",
       " ('Notothyladaceae', 5),\n",
       " ('Podocarpaceae', 5),\n",
       " ('Podostemaceae', 5),\n",
       " ('Regmatodontaceae', 5),\n",
       " ('Basellaceae', 4),\n",
       " ('Berberidaceae', 4),\n",
       " ('Calliergonaceae', 4),\n",
       " ('Calyceraceae', 4),\n",
       " ('Corsiniaceae', 4),\n",
       " ('Crassulaceae', 4),\n",
       " ('Isoetaceae', 4),\n",
       " ('Juglandaceae', 4),\n",
       " ('Pedaliaceae', 4),\n",
       " ('Phymatocerotaceae', 4),\n",
       " ('Polemoniaceae', 4),\n",
       " ('Ptilidiaceae', 4),\n",
       " ('Ptychomniaceae', 4),\n",
       " ('Saccolomataceae', 4),\n",
       " ('Seligeriaceae', 4),\n",
       " ('Tetraphidaceae', 4),\n",
       " ('Timmiaceae', 4),\n",
       " ('Tropaeolaceae', 4),\n",
       " ('Archidiaceae', 3),\n",
       " ('Betulaceae', 3),\n",
       " ('Canellaceae', 3),\n",
       " ('Caprifoliaceae', 3),\n",
       " ('Casuarinaceae', 3),\n",
       " ('Coenogoniaceae', 3),\n",
       " ('Dicnemonaceae', 3),\n",
       " ('Dumortieraceae', 3),\n",
       " ('Pilocarpaceae', 3),\n",
       " ('Quillajaceae', 3),\n",
       " ('Spiridentaceae', 3),\n",
       " ('Splachnaceae', 3),\n",
       " ('Thamnobryaceae', 3),\n",
       " ('Theliaceae', 3),\n",
       " ('Aizoaceae', 2),\n",
       " ('Anarthriaceae', 2),\n",
       " ('Chonecoleaceae', 2),\n",
       " ('Cistaceae', 2),\n",
       " ('Coccocarpiaceae', 2),\n",
       " ('Cornaceae', 2),\n",
       " ('Coulaceae', 2),\n",
       " ('Cyrillaceae', 2),\n",
       " ('Dicksoniaceae', 2),\n",
       " ('Elaeagnaceae', 2),\n",
       " ('Eustichiaceae', 2),\n",
       " ('Fagaceae', 2),\n",
       " ('Fuscideaceae', 2),\n",
       " ('Gelsemiaceae', 2),\n",
       " ('Gomphaceae', 2),\n",
       " ('Haematommataceae', 2),\n",
       " ('Hemidictyaceae', 2),\n",
       " ('Hernandiaceae', 2),\n",
       " ('Hydrangeaceae', 2),\n",
       " ('Leptodontaceae', 2),\n",
       " ('Megalosporaceae', 2),\n",
       " ('Monoblastiaceae', 2),\n",
       " ('Muntingiaceae', 2),\n",
       " ('Myuriaceae', 2),\n",
       " ('Oleandraceae', 2),\n",
       " ('Phrymaceae', 2),\n",
       " ('Phyllodrepaniaceae', 2),\n",
       " ('Pinaceae', 2),\n",
       " ('Platanaceae', 2),\n",
       " ('Porinaceae', 2),\n",
       " ('Potamogetonaceae', 2),\n",
       " ('Ptychomitriaceae', 2),\n",
       " ('Saxifragaceae', 2),\n",
       " ('Sphenocleaceae', 2),\n",
       " ('Strelitziaceae', 2),\n",
       " ('Strigulaceae', 2),\n",
       " ('Strombosiaceae', 2),\n",
       " ('Trypetheliaceae', 2),\n",
       " ('Typhaceae', 2),\n",
       " ('Ulmaceae', 2),\n",
       " ('Zamiaceae', 2),\n",
       " ('Achatocarpaceae', 1),\n",
       " ('Altingiaceae', 1),\n",
       " ('Balsaminaceae', 1),\n",
       " ('Buxaceae', 1),\n",
       " ('Buxbaumiaceae', 1),\n",
       " ('Calceolariaceae', 1),\n",
       " ('Calycanthaceae', 1),\n",
       " ('Catoscopiaceae', 1),\n",
       " ('Cephaloziellaceae', 1),\n",
       " ('Cibotiaceae', 1),\n",
       " ('Cyathodiaceae', 1),\n",
       " ('Cyclanthaceae', 1),\n",
       " ('Ecdeiocoleaceae', 1),\n",
       " ('Frankeniaceae', 1),\n",
       " ('Garryaceae', 1),\n",
       " ('Gigaspermaceae', 1),\n",
       " ('Goupiaceae', 1),\n",
       " ('Griseliniaceae', 1),\n",
       " ('Grossulariaceae', 1),\n",
       " ('Gymnomitriaceae', 1),\n",
       " ('Gyrostemonaceae', 1),\n",
       " ('Hamamelidaceae', 1),\n",
       " ('Huaceae', 1),\n",
       " ('Lecanoraceae', 1),\n",
       " ('Lepicoleaceae', 1),\n",
       " ('Lepidolaenaceae', 1),\n",
       " ('Limnanthaceae', 1),\n",
       " ('Loasaceae', 1),\n",
       " ('Lunulariaceae', 1),\n",
       " ('Malmideaceae', 1),\n",
       " ('Mazaceae', 1),\n",
       " ('Mitteniaceae', 1),\n",
       " ('Montiaceae', 1),\n",
       " ('Myricaceae', 1),\n",
       " ('Nothofagaceae', 1),\n",
       " ('Ochrolechiaceae', 1),\n",
       " ('Oxymitraceae', 1),\n",
       " ('Paeoniaceae', 1),\n",
       " ('Penthoraceae', 1),\n",
       " ('Pertusariaceae', 1),\n",
       " ('Phyllobatheliaceae', 1),\n",
       " ('Pittosporaceae', 1),\n",
       " ('Pseudolepicoleaceae', 1),\n",
       " ('Pterigynandraceae', 1),\n",
       " ('Restionaceae', 1),\n",
       " ('Rhabdodendraceae', 1),\n",
       " ('Riellaceae', 1),\n",
       " ('Schlegeliaceae', 1),\n",
       " ('Scytopetalaceae', 1),\n",
       " ('Simmondsiaceae', 1),\n",
       " ('Solenostomataceae', 1),\n",
       " ('Stemonuraceae', 1),\n",
       " ('Stictidaceae', 1),\n",
       " ('Surianaceae', 1),\n",
       " ('Teloschistaceae', 1),\n",
       " ('Thurniaceae', 1),\n",
       " ('Trichocoleaceae', 1),\n",
       " ('Umbilicariaceae', 1),\n",
       " ('Vahliaceae', 1),\n",
       " ('Vivianiaceae', 1),\n",
       " ('Woodsiaceae', 1),\n",
       " ('Xanthorrhoeaceae', 1)]"
      ]
     },
     "execution_count": 20,
     "metadata": {},
     "output_type": "execute_result"
    }
   ],
   "source": [
    "sorted( scn_family.listSpeciesNodes(data='count'), key=lambda x: x[1], reverse=True)"
   ]
  },
  {
   "cell_type": "code",
   "execution_count": 21,
   "metadata": {},
   "outputs": [
    {
     "data": {
      "text/plain": [
       "[('irwin,hs', 'Fabaceae', 3217),\n",
       " ('irwin,hs', 'Rubiaceae', 1211),\n",
       " ('irwin,hs', 'Asteraceae', 1178),\n",
       " ('irwin,hs', 'Poaceae', 835),\n",
       " ('irwin,hs', 'Cyperaceae', 753),\n",
       " ('irwin,hs', 'Euphorbiaceae', 729),\n",
       " ('irwin,hs', 'Melastomataceae', 642),\n",
       " ('irwin,hs', 'Malpighiaceae', 600),\n",
       " ('irwin,hs', 'Myrtaceae', 399),\n",
       " ('irwin,hs', 'Polygalaceae', 385),\n",
       " ('irwin,hs', 'Lamiaceae', 363),\n",
       " ('irwin,hs', 'Apocynaceae', 337),\n",
       " ('irwin,hs', 'Malvaceae', 335),\n",
       " ('irwin,hs', 'Bignoniaceae', 301),\n",
       " ('irwin,hs', 'Orchidaceae', 301),\n",
       " ('irwin,hs', 'Convolvulaceae', 274),\n",
       " ('irwin,hs', 'Vochysiaceae', 226),\n",
       " ('irwin,hs', 'Solanaceae', 205),\n",
       " ('irwin,hs', 'Piperaceae', 192),\n",
       " ('irwin,hs', 'Iridaceae', 183),\n",
       " ('irwin,hs', 'Anemiaceae', 173),\n",
       " ('irwin,hs', 'Gentianaceae', 165),\n",
       " ('irwin,hs', 'Verbenaceae', 159),\n",
       " ('irwin,hs', 'Apiaceae', 146),\n",
       " ('irwin,hs', 'Calophyllaceae', 134),\n",
       " ('irwin,hs', 'Lythraceae', 134),\n",
       " ('irwin,hs', 'Acanthaceae', 131),\n",
       " ('irwin,hs', 'Turneraceae', 125),\n",
       " ('irwin,hs', 'Annonaceae', 123),\n",
       " ('irwin,hs', 'Eriocaulaceae', 107),\n",
       " ('irwin,hs', 'Pteridaceae', 104),\n",
       " ('irwin,hs', 'Sapindaceae', 98),\n",
       " ('irwin,hs', 'Santalaceae', 97),\n",
       " ('irwin,hs', 'Vitaceae', 95),\n",
       " ('irwin,hs', 'Boraginaceae', 91),\n",
       " ('irwin,hs', 'Loranthaceae', 91),\n",
       " ('irwin,hs', 'Orobanchaceae', 89),\n",
       " ('irwin,hs', 'Phyllanthaceae', 88),\n",
       " ('irwin,hs', 'Ochnaceae', 85),\n",
       " ('irwin,hs', 'Polypodiaceae', 80),\n",
       " ('irwin,hs', 'Bromeliaceae', 69),\n",
       " ('irwin,hs', 'Araliaceae', 68),\n",
       " ('irwin,hs', 'Oxalidaceae', 68),\n",
       " ('irwin,hs', 'Xyridaceae', 68),\n",
       " ('irwin,hs', 'Erythroxylaceae', 67),\n",
       " ('irwin,hs', 'Chrysobalanaceae', 65),\n",
       " ('irwin,hs', 'Ericaceae', 64),\n",
       " ('irwin,hs', 'Velloziaceae', 62),\n",
       " ('irwin,hs', 'Rutaceae', 59),\n",
       " ('irwin,hs', 'Celastraceae', 58),\n",
       " ('irwin,hs', 'Polygonaceae', 57),\n",
       " ('irwin,hs', 'Amaranthaceae', 55),\n",
       " ('irwin,hs', 'Blechnaceae', 55),\n",
       " ('irwin,hs', 'Gesneriaceae', 54),\n",
       " ('irwin,hs', 'Combretaceae', 52),\n",
       " ('irwin,hs', 'Dilleniaceae', 52),\n",
       " ('irwin,hs', 'Lauraceae', 52),\n",
       " ('irwin,hs', 'Loganiaceae', 52),\n",
       " ('irwin,hs', 'Campanulaceae', 51),\n",
       " ('irwin,hs', 'Cucurbitaceae', 51),\n",
       " ('irwin,hs', 'Clusiaceae', 50),\n",
       " ('irwin,hs', 'Thelypteridaceae', 49),\n",
       " ('irwin,hs', 'Passifloraceae', 47),\n",
       " ('irwin,hs', 'Plantaginaceae', 47),\n",
       " ('irwin,hs', 'Salicaceae', 45),\n",
       " ('irwin,hs', 'Anacardiaceae', 43),\n",
       " ('irwin,hs', 'Dicranaceae', 42),\n",
       " ('irwin,hs', 'Sapotaceae', 42),\n",
       " ('irwin,hs', 'Styracaceae', 42),\n",
       " ('irwin,hs', 'Marantaceae', 40),\n",
       " ('irwin,hs', 'Dryopteridaceae', 39),\n",
       " ('irwin,hs', 'Lycopodiaceae', 39),\n",
       " ('irwin,hs', 'Moraceae', 38),\n",
       " ('irwin,hs', 'Onagraceae', 37),\n",
       " ('irwin,hs', 'Lentibulariaceae', 35),\n",
       " ('irwin,hs', 'Dioscoreaceae', 31),\n",
       " ('irwin,hs', 'Hymenophyllaceae', 31),\n",
       " ('irwin,hs', 'Aquifoliaceae', 30),\n",
       " ('irwin,hs', 'Begoniaceae', 30),\n",
       " ('irwin,hs', 'Droseraceae', 30),\n",
       " ('irwin,hs', 'Primulaceae', 30),\n",
       " ('irwin,hs', 'Arecaceae', 28),\n",
       " ('irwin,hs', 'Icacinaceae', 26),\n",
       " ('irwin,hs', 'Cactaceae', 25),\n",
       " ('irwin,hs', 'Rosaceae', 25),\n",
       " ('irwin,hs', 'Sematophyllaceae', 25),\n",
       " ('irwin,hs', 'Siparunaceae', 24),\n",
       " ('irwin,hs', 'Connaraceae', 23),\n",
       " ('irwin,hs', 'Aspleniaceae', 22),\n",
       " ('irwin,hs', 'Burmanniaceae', 22),\n",
       " ('irwin,hs', 'Myristicaceae', 22),\n",
       " ('irwin,hs', 'Nyctaginaceae', 22),\n",
       " ('irwin,hs', 'Smilacaceae', 22),\n",
       " ('irwin,hs', 'Burseraceae', 21),\n",
       " ('irwin,hs', 'Proteaceae', 21),\n",
       " ('irwin,hs', 'Selaginellaceae', 21),\n",
       " ('irwin,hs', 'Alstroemeriaceae', 20),\n",
       " ('irwin,hs', 'Bryaceae', 19),\n",
       " ('irwin,hs', 'Cannabaceae', 19),\n",
       " ('irwin,hs', 'Meliaceae', 19),\n",
       " ('irwin,hs', 'Ebenaceae', 18),\n",
       " ('irwin,hs', 'Gleicheniaceae', 18),\n",
       " ('irwin,hs', 'Humiriaceae', 18),\n",
       " ('irwin,hs', 'Menispermaceae', 18),\n",
       " ('irwin,hs', 'Apodanthaceae', 17),\n",
       " ('irwin,hs', 'Aristolochiaceae', 17),\n",
       " ('irwin,hs', 'Fissidentaceae', 17),\n",
       " ('irwin,hs', 'Symplocaceae', 17),\n",
       " ('irwin,hs', 'Urticaceae', 17),\n",
       " ('irwin,hs', 'Cyatheaceae', 16),\n",
       " ('irwin,hs', 'Lindsaeaceae', 16),\n",
       " ('irwin,hs', 'Portulacaceae', 16),\n",
       " ('irwin,hs', 'Rhamnaceae', 16),\n",
       " ('irwin,hs', 'Araceae', 15),\n",
       " ('irwin,hs', 'Hypnaceae', 15),\n",
       " ('irwin,hs', 'Orthotrichaceae', 15),\n",
       " ('irwin,hs', 'Peraceae', 14),\n",
       " ('irwin,hs', 'Lejeuneaceae', 13),\n",
       " ('irwin,hs', 'Lygodiaceae', 13),\n",
       " ('irwin,hs', 'Violaceae', 13),\n",
       " ('irwin,hs', 'Caryophyllaceae', 12),\n",
       " ('irwin,hs', 'Costaceae', 12),\n",
       " ('irwin,hs', 'Chloranthaceae', 10),\n",
       " ('irwin,hs', 'Hypoxidaceae', 10),\n",
       " ('irwin,hs', 'Dichapetalaceae', 9),\n",
       " ('irwin,hs', 'Lepidoziaceae', 9),\n",
       " ('irwin,hs', 'Trigoniaceae', 9),\n",
       " ('irwin,hs', 'Entodontaceae', 8),\n",
       " ('irwin,hs', 'Heliconiaceae', 8),\n",
       " ('irwin,hs', 'Nephrolepidaceae', 8),\n",
       " ('irwin,hs', 'Scrophulariaceae', 8),\n",
       " ('irwin,hs', 'Asparagaceae', 7),\n",
       " ('irwin,hs', 'Calymperaceae', 7),\n",
       " ('irwin,hs', 'Commelinaceae', 7),\n",
       " ('irwin,hs', 'Marcgraviaceae', 7),\n",
       " ('irwin,hs', 'Polytrichaceae', 7),\n",
       " ('irwin,hs', 'Pterobryaceae', 7),\n",
       " ('irwin,hs', 'Cunoniaceae', 6),\n",
       " ('irwin,hs', 'Lecythidaceae', 6),\n",
       " ('irwin,hs', 'Phytolaccaceae', 6),\n",
       " ('irwin,hs', 'Simaroubaceae', 6),\n",
       " ('irwin,hs', 'Sphagnaceae', 6),\n",
       " ('irwin,hs', 'Cladoniaceae', 5),\n",
       " ('irwin,hs', 'Frullaniaceae', 5),\n",
       " ('irwin,hs', 'Magnoliaceae', 5),\n",
       " ('irwin,hs', 'Meteoriaceae', 5),\n",
       " ('irwin,hs', 'Pallaviciniaceae', 5),\n",
       " ('irwin,hs', 'Picramniaceae', 5),\n",
       " ('irwin,hs', 'Pontederiaceae', 5),\n",
       " ('irwin,hs', 'Theaceae', 5),\n",
       " ('irwin,hs', 'Thuidiaceae', 5),\n",
       " ('irwin,hs', 'Zingiberaceae', 5),\n",
       " ('irwin,hs', 'Amaryllidaceae', 4),\n",
       " ('irwin,hs', 'Bartramiaceae', 4),\n",
       " ('irwin,hs', 'Bixaceae', 4),\n",
       " ('irwin,hs', 'Brassicaceae', 4),\n",
       " ('irwin,hs', 'Juncaceae', 4),\n",
       " ('irwin,hs', 'Krameriaceae', 4),\n",
       " ('irwin,hs', 'Monimiaceae', 4),\n",
       " ('irwin,hs', 'Pottiaceae', 4),\n",
       " ('irwin,hs', 'Calypogeiaceae', 3),\n",
       " ('irwin,hs', 'Cannaceae', 3),\n",
       " ('irwin,hs', 'Caryocaraceae', 3),\n",
       " ('irwin,hs', 'Cephaloziaceae', 3),\n",
       " ('irwin,hs', 'Elaeocarpaceae', 3),\n",
       " ('irwin,hs', 'Geocalycaceae', 3),\n",
       " ('irwin,hs', 'Haemodoraceae', 3),\n",
       " ('irwin,hs', 'Neckeraceae', 3),\n",
       " ('irwin,hs', 'Plagiochilaceae', 3),\n",
       " ('irwin,hs', 'Racopilaceae', 3),\n",
       " ('irwin,hs', 'Ranunculaceae', 3),\n",
       " ('irwin,hs', 'Alismataceae', 2),\n",
       " ('irwin,hs', 'Caricaceae', 2),\n",
       " ('irwin,hs', 'Clethraceae', 2),\n",
       " ('irwin,hs', 'Dennstaedtiaceae', 2),\n",
       " ('irwin,hs', 'Erythropalaceae', 2),\n",
       " ('irwin,hs', 'Fabroniaceae', 2),\n",
       " ('irwin,hs', 'Helicophyllaceae', 2),\n",
       " ('irwin,hs', 'Hypericaceae', 2),\n",
       " ('irwin,hs', 'Lophocoleaceae', 2),\n",
       " ('irwin,hs', 'Menyanthaceae', 2),\n",
       " ('irwin,hs', 'Oleandraceae', 2),\n",
       " ('irwin,hs', 'Physciaceae', 2),\n",
       " ('irwin,hs', 'Rapateaceae', 2),\n",
       " ('irwin,hs', 'Stereophyllaceae', 2),\n",
       " ('irwin,hs', 'Tectariaceae', 2),\n",
       " ('irwin,hs', 'Arthoniaceae', 1),\n",
       " ('irwin,hs', 'Atheliaceae', 1),\n",
       " ('irwin,hs', 'Balanophoraceae', 1),\n",
       " ('irwin,hs', 'Balantiopsidaceae', 1),\n",
       " ('irwin,hs', 'Cardiopteridaceae', 1),\n",
       " ('irwin,hs', 'Cephaloziellaceae', 1),\n",
       " ('irwin,hs', 'Cleomaceae', 1),\n",
       " ('irwin,hs', 'Cystopteridaceae', 1),\n",
       " ('irwin,hs', 'Hookeriaceae', 1),\n",
       " ('irwin,hs', 'Hypodematiaceae', 1),\n",
       " ('irwin,hs', 'Lacistemataceae', 1),\n",
       " ('irwin,hs', 'Linderniaceae', 1),\n",
       " ('irwin,hs', 'Marsileaceae', 1),\n",
       " ('irwin,hs', 'Mayacaceae', 1),\n",
       " ('irwin,hs', 'Microteaceae', 1),\n",
       " ('irwin,hs', 'Molluginaceae', 1),\n",
       " ('irwin,hs', 'Opiliaceae', 1),\n",
       " ('irwin,hs', 'Osmundaceae', 1),\n",
       " ('irwin,hs', 'Parmeliaceae', 1),\n",
       " ('irwin,hs', 'Pedaliaceae', 1),\n",
       " ('irwin,hs', 'Plumbaginaceae', 1),\n",
       " ('irwin,hs', 'Teloschistaceae', 1),\n",
       " ('irwin,hs', 'Winteraceae', 1)]"
      ]
     },
     "execution_count": 21,
     "metadata": {},
     "output_type": "execute_result"
    }
   ],
   "source": [
    "sorted( scn_family.edges('irwin,hs', data='count'), key=lambda x: x[2],reverse=True )"
   ]
  },
  {
   "cell_type": "code",
   "execution_count": 22,
   "metadata": {},
   "outputs": [
    {
     "data": {
      "text/plain": [
       "0.30961005753249521"
      ]
     },
     "execution_count": 22,
     "metadata": {},
     "output_type": "execute_result"
    }
   ],
   "source": [
    "scn_family['faria,jeq']['Myrtaceae']['count']/sum(ct for u,v,ct in scn_family.edges('faria,jeq',data='count') )"
   ]
  },
  {
   "cell_type": "code",
   "execution_count": 23,
   "metadata": {},
   "outputs": [
    {
     "data": {
      "text/plain": [
       "{'count': 1453}"
      ]
     },
     "execution_count": 23,
     "metadata": {},
     "output_type": "execute_result"
    }
   ],
   "source": [
    "scn_family['faria,jeq']['Myrtaceae']"
   ]
  },
  {
   "cell_type": "code",
   "execution_count": 24,
   "metadata": {},
   "outputs": [
    {
     "data": {
      "text/plain": [
       "4693"
      ]
     },
     "execution_count": 24,
     "metadata": {},
     "output_type": "execute_result"
    }
   ],
   "source": [
    "dict(scn_family.listCollectorsNodes(data='count'))['faria,jeq']"
   ]
  }
 ],
 "metadata": {
  "kernelspec": {
   "display_name": "Python 3",
   "language": "python",
   "name": "python3"
  },
  "language_info": {
   "codemirror_mode": {
    "name": "ipython",
    "version": 3
   },
   "file_extension": ".py",
   "mimetype": "text/x-python",
   "name": "python",
   "nbconvert_exporter": "python",
   "pygments_lexer": "ipython3",
   "version": "3.6.3"
  }
 },
 "nbformat": 4,
 "nbformat_minor": 2
}
