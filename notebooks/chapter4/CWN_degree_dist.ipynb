{
 "cells": [
  {
   "cell_type": "code",
   "execution_count": 1,
   "metadata": {},
   "outputs": [],
   "source": [
    "# Setting paths\n",
    "import sys,os\n",
    "import pathlib\n",
    "sys.path.insert(0,os.path.expanduser('~/caryocar'))\n",
    "sys.path.insert(0,os.path.abspath('..'))"
   ]
  },
  {
   "cell_type": "code",
   "execution_count": 2,
   "metadata": {},
   "outputs": [],
   "source": [
    "# Building the networks from data\n",
    "from setupmodels import *"
   ]
  },
  {
   "cell_type": "code",
   "execution_count": 4,
   "metadata": {},
   "outputs": [],
   "source": [
    "import numpy as np\n",
    "import pandas as pd\n",
    "import networkx as nx\n",
    "import matplotlib as mpl\n",
    "import seaborn as sns\n",
    "import scipy as scp \n",
    "import powerlaw\n",
    "\n",
    "import matplotlib.pyplot as plt\n",
    "\n",
    "mpl.rcParams.update(mpl.rcParamsDefault)\n",
    "plt.style.use('seaborn-paper')\n",
    "sns.set_color_codes('deep')\n",
    "\n",
    "%matplotlib inline"
   ]
  },
  {
   "cell_type": "code",
   "execution_count": 373,
   "metadata": {},
   "outputs": [],
   "source": [
    "def linearBinning(g, num_bins, density=False):\n",
    "    k_vals = [ kval for kval in dict(g.degree()).values() if kval>0 ]\n",
    "    max_k, min_k = max(k_vals)+1, min(k_vals)\n",
    "    \n",
    "    bins = np.logspace(start=np.log10(min_k),stop=np.log10(max_k),num=num_bins)\n",
    "    y,x = np.histogram(k_vals, bins=bins, density=density)\n",
    "    \n",
    "    return x,y"
   ]
  },
  {
   "cell_type": "code",
   "execution_count": 351,
   "metadata": {},
   "outputs": [
    {
     "data": {
      "text/plain": [
       "<caryocar.models.coworkingnetwork.CoworkingNetwork at 0x7fba5a7e77b8>"
      ]
     },
     "execution_count": 351,
     "metadata": {},
     "output_type": "execute_result"
    }
   ],
   "source": [
    "cwn"
   ]
  },
  {
   "cell_type": "code",
   "execution_count": 374,
   "metadata": {},
   "outputs": [
    {
     "data": {
      "text/plain": [
       "(array([  1.        ,   1.46951688,   2.15947987,   3.17339212,\n",
       "          4.66335329,   6.85287639,  10.07041754,  14.79864859,\n",
       "         21.74686393,  31.95738367,  46.9619148 ,  69.01132661,\n",
       "        101.41330949, 149.02857034, 219.        ]),\n",
       " array([1000,  848,  675,  404,  406,  357,  147,  121,   68,   40,   16,\n",
       "           9,    3,    1]))"
      ]
     },
     "execution_count": 374,
     "metadata": {},
     "output_type": "execute_result"
    }
   ],
   "source": [
    "linearBinning(cwn,15)"
   ]
  },
  {
   "cell_type": "code",
   "execution_count": 375,
   "metadata": {},
   "outputs": [
    {
     "data": {
      "image/png": "[encoded data removed]",
      "text/plain": [
       "<Figure size 432x288 with 1 Axes>"
      ]
     },
     "metadata": {},
     "output_type": "display_data"
    }
   ],
   "source": [
    "x,y = linearBinning(cwn,12,density=True)\n",
    "#x_lin, y_lin = zip(*list(filter(lambda x: x[1]>0, zip(range(len(nx.degree_histogram(cwn))),nx.degree_histogram(cwn))))[1:])\n",
    "#plt.plot( x_lin,y_lin, marker='o',ls='')\n",
    "\n",
    "# plot linear binning\n",
    "linBin_n = nx.degree_histogram(cwn)\n",
    "linBin_k = range(len(linBin_n))\n",
    "x_lin,y_lin = zip(*[ (k,v) for k,v in list(zip(linBin_k,list(map(lambda n: n/sum(linBin_n), linBin_n)))) if v>0 ])\n",
    "plt.plot(x_lin,y_lin,marker='o',ls='')\n",
    "\n",
    "plt.plot(x[:-1],y,marker='o',ls='')\n",
    "\n",
    "plt.yscale('log')\n",
    "plt.xscale('log')"
   ]
  },
  {
   "cell_type": "code",
   "execution_count": 143,
   "metadata": {},
   "outputs": [],
   "source": [
    "k_vals = [ kval for kval in dict(cwn.degree()).values() if kval>0 ]"
   ]
  },
  {
   "cell_type": "code",
   "execution_count": 328,
   "metadata": {},
   "outputs": [],
   "source": [
    "num_bins = 12\n",
    "max_k, min_k = max(k_vals)+1, min(k_vals)\n",
    "min_k = 9e-1\n",
    "\n",
    "bins = np.logspace(start=np.log10(min_k),stop=np.log10(max_k),num=num_bins)\n",
    "y,x = np.histogram(k_vals,bins=bins, density=False)"
   ]
  },
  {
   "cell_type": "code",
   "execution_count": 329,
   "metadata": {},
   "outputs": [
    {
     "data": {
      "text/plain": [
       "(array([  0.9       ,   1.48309827,   2.44397831,   4.0274    ,\n",
       "          6.63669996,  10.93653136,  18.02216749,  29.6984949 ,\n",
       "         48.93976266,  80.647197  , 132.89746477, 219.        ]),\n",
       " array([1000,  848, 1079,  406,  357,  225,  100,   55,   15,    9,    1]))"
      ]
     },
     "execution_count": 329,
     "metadata": {},
     "output_type": "execute_result"
    }
   ],
   "source": [
    "x,y"
   ]
  },
  {
   "cell_type": "code",
   "execution_count": 330,
   "metadata": {},
   "outputs": [],
   "source": [
    "bins_sizes = [ x[i+1]-x[i] for i in range(len(x)-1) ]\n",
    "y_new = y/np.array(bins_sizes)"
   ]
  },
  {
   "cell_type": "code",
   "execution_count": 331,
   "metadata": {},
   "outputs": [],
   "source": [
    "x_lin, y_lin = zip(*list(filter(lambda x: x[1]>0, zip(range(len(nx.degree_histogram(cwn))),nx.degree_histogram(cwn))))[1:])"
   ]
  },
  {
   "cell_type": "code",
   "execution_count": 333,
   "metadata": {},
   "outputs": [
    {
     "data": {
      "image/png": "[encoded data removed]",
      "text/plain": [
       "<Figure size 432x288 with 1 Axes>"
      ]
     },
     "metadata": {},
     "output_type": "display_data"
    }
   ],
   "source": [
    "plt.plot(x[:-1],y_new, marker='o')\n",
    "\n",
    "x_lin, y_lin = zip(*list(filter(lambda x: x[1]>0, zip(range(len(nx.degree_histogram(cwn))),nx.degree_histogram(cwn))))[1:])\n",
    "plt.plot( x_lin,y_lin, marker='o',ls='')\n",
    "\n",
    "plt.xscale('log')\n",
    "plt.yscale('log')"
   ]
  },
  {
   "cell_type": "code",
   "execution_count": 334,
   "metadata": {},
   "outputs": [
    {
     "name": "stderr",
     "output_type": "stream",
     "text": [
      "Calculating best minimal value for power law fit\n",
      "/home/pedro/anaconda3/envs/tese_lncc/lib/python3.6/site-packages/powerlaw.py:697: RuntimeWarning: invalid value encountered in true_divide\n",
      "  (Theoretical_CDF * (1 - Theoretical_CDF))\n"
     ]
    }
   ],
   "source": [
    "fit = powerlaw.Fit(k_vals)"
   ]
  },
  {
   "cell_type": "code",
   "execution_count": 342,
   "metadata": {},
   "outputs": [
    {
     "data": {
      "text/plain": [
       "[<matplotlib.lines.Line2D at 0x7fba46c0d160>]"
      ]
     },
     "execution_count": 342,
     "metadata": {},
     "output_type": "execute_result"
    },
    {
     "data": {
      "image/png": "[encoded data removed]",
      "text/plain": [
       "<Figure size 432x288 with 1 Axes>"
      ]
     },
     "metadata": {},
     "output_type": "display_data"
    }
   ],
   "source": [
    "fit.plot_ccdf()\n",
    "plt.plot(x_lin,y_lin)"
   ]
  },
  {
   "cell_type": "code",
   "execution_count": 317,
   "metadata": {},
   "outputs": [
    {
     "data": {
      "image/png": "[encoded data removed]",
      "text/plain": [
       "<Figure size 432x288 with 1 Axes>"
      ]
     },
     "metadata": {},
     "output_type": "display_data"
    }
   ],
   "source": [
    "# plot log binning\n",
    "y,x = np.histogram(k_vals,bins=bins, density=True)\n",
    "plt.plot(x[1:],y, marker='o', ls='')\n",
    "\n",
    "# plot linear binning\n",
    "linBin_n = nx.degree_histogram(cwn)\n",
    "linBin_k = range(len(linBin_n))\n",
    "x_lin,y_lin = zip(*[ (k,v) for k,v in list(zip(linBin_k,list(map(lambda n: n/sum(linBin_n), linBin_n)))) if v>0 ])\n",
    "plt.plot(x_lin,y_lin,marker='o',ls='')\n",
    "\n",
    "\n",
    "plt.yscale('log')\n",
    "plt.xscale('log')"
   ]
  },
  {
   "cell_type": "code",
   "execution_count": 114,
   "metadata": {},
   "outputs": [
    {
     "data": {
      "text/plain": [
       "(array([  1.        ,   1.81990763,   3.31206379,   6.02765016,\n",
       "         10.96976653,  19.96396181,  36.33256645,  66.12191495,\n",
       "        120.33577762, 219.        ]),\n",
       " array([2.97838726e-01, 2.49248023e-01, 7.28395899e-02, 1.76401122e-02,\n",
       "        6.54336013e-03, 1.68582651e-03, 3.11507628e-04, 5.40526498e-05,\n",
       "        2.47506379e-06]))"
      ]
     },
     "execution_count": 114,
     "metadata": {},
     "output_type": "execute_result"
    }
   ],
   "source": [
    "x,y"
   ]
  },
  {
   "cell_type": "code",
   "execution_count": 74,
   "metadata": {},
   "outputs": [
    {
     "data": {
      "text/plain": [
       "0.6472961171997405"
      ]
     },
     "execution_count": 74,
     "metadata": {},
     "output_type": "execute_result"
    }
   ],
   "source": [
    "sum(y)"
   ]
  },
  {
   "cell_type": "code",
   "execution_count": 18,
   "metadata": {},
   "outputs": [
    {
     "data": {
      "text/plain": [
       "(array([3971,   91,   20,    3,    7,    2,    0,    0,    0,    1]),\n",
       " array([  1. ,  22.7,  44.4,  66.1,  87.8, 109.5, 131.2, 152.9, 174.6,\n",
       "        196.3, 218. ]))"
      ]
     },
     "execution_count": 18,
     "metadata": {},
     "output_type": "execute_result"
    }
   ],
   "source": [
    "np.histogram(k_vals)"
   ]
  }
 ],
 "metadata": {
  "kernelspec": {
   "display_name": "Python 3",
   "language": "python",
   "name": "python3"
  },
  "language_info": {
   "codemirror_mode": {
    "name": "ipython",
    "version": 3
   },
   "file_extension": ".py",
   "mimetype": "text/x-python",
   "name": "python",
   "nbconvert_exporter": "python",
   "pygments_lexer": "ipython3",
   "version": "3.6.5"
  }
 },
 "nbformat": 4,
 "nbformat_minor": 2
}
