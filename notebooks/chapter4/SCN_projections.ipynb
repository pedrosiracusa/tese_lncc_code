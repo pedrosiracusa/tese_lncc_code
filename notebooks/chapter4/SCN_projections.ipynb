{
 "cells": [
  {
   "cell_type": "markdown",
   "metadata": {},
   "source": [
    "## Building Network Models\n",
    "# UB Species-collectors Network\n",
    "### Projections"
   ]
  },
  {
   "cell_type": "code",
   "execution_count": 1,
   "metadata": {},
   "outputs": [],
   "source": [
    "# Setting paths\n",
    "import sys,os\n",
    "import pathlib\n",
    "sys.path.insert(0,os.path.expanduser('~/caryocar'))\n",
    "sys.path.insert(0,os.path.abspath('..'))"
   ]
  },
  {
   "cell_type": "code",
   "execution_count": 2,
   "metadata": {},
   "outputs": [],
   "source": [
    "# Building the networks from data\n",
    "from setupmodels import scn\n",
    "from setupmodels import occs\n",
    "from setupmodels import ni"
   ]
  },
  {
   "cell_type": "code",
   "execution_count": 4,
   "metadata": {},
   "outputs": [],
   "source": [
    "# Importing libraries for analysis\n",
    "import numpy as np\n",
    "import networkx as nx\n",
    "import pandas as pd\n",
    "import matplotlib.pyplot as plt\n",
    "\n",
    "%matplotlib inline"
   ]
  },
  {
   "cell_type": "code",
   "execution_count": 5,
   "metadata": {},
   "outputs": [],
   "source": [
    "graphsdir = os.path.abspath('./graphs')\n",
    "\n",
    "if not os.path.isdir(graphsdir):\n",
    "    !mkdir graphs"
   ]
  },
  {
   "cell_type": "markdown",
   "metadata": {},
   "source": [
    "---"
   ]
  },
  {
   "cell_type": "markdown",
   "metadata": {},
   "source": [
    "## The SCN Network"
   ]
  },
  {
   "cell_type": "code",
   "execution_count": 19,
   "metadata": {},
   "outputs": [
    {
     "name": "stdout",
     "output_type": "stream",
     "text": [
      "Name: \n",
      "Type: SpeciesCollectorsNetwork\n",
      "Number of nodes: 22112\n",
      "Number of edges: 142647\n",
      "Average degree:  12.9022\n",
      "Number of species nodes: 15344\n",
      "Number of collectors nodes: 6768\n"
     ]
    }
   ],
   "source": [
    "print(nx.info(scn))\n",
    "print('Number of species nodes:',len(scn.listSpeciesNodes()))\n",
    "print('Number of collectors nodes:',len(scn.listCollectorsNodes()))"
   ]
  },
  {
   "cell_type": "markdown",
   "metadata": {},
   "source": [
    "---"
   ]
  },
  {
   "cell_type": "markdown",
   "metadata": {},
   "source": [
    "## Obtaining taxonomic aggregations"
   ]
  },
  {
   "cell_type": "markdown",
   "metadata": {},
   "source": [
    "#### Aggregation by family"
   ]
  },
  {
   "cell_type": "code",
   "execution_count": 8,
   "metadata": {},
   "outputs": [],
   "source": [
    "g = dict( occs[['family','species']].groupby('family').apply(lambda g: set(g['species'])) )"
   ]
  },
  {
   "cell_type": "code",
   "execution_count": 9,
   "metadata": {},
   "outputs": [],
   "source": [
    "scn_family = scn.taxonomicAggregation(g)"
   ]
  },
  {
   "cell_type": "code",
   "execution_count": 17,
   "metadata": {},
   "outputs": [
    {
     "name": "stdout",
     "output_type": "stream",
     "text": [
      "Name: \n",
      "Type: SpeciesCollectorsNetwork\n",
      "Number of nodes: 7242\n",
      "Number of edges: 43803\n",
      "Average degree:  12.0969\n",
      "Number of species nodes: 474\n",
      "Number of collectors nodes: 6768\n"
     ]
    }
   ],
   "source": [
    "print(nx.info(scn_family))\n",
    "print('Number of species nodes:',len(scn_family.listSpeciesNodes()))\n",
    "print('Number of collectors nodes:',len(scn_family.listCollectorsNodes()))"
   ]
  },
  {
   "cell_type": "markdown",
   "metadata": {},
   "source": [
    "#### Aggregation by genus"
   ]
  },
  {
   "cell_type": "code",
   "execution_count": 10,
   "metadata": {},
   "outputs": [],
   "source": [
    "g = dict( occs[['genus','species']].groupby('genus').apply(lambda g: set(g['species'])) )"
   ]
  },
  {
   "cell_type": "code",
   "execution_count": 11,
   "metadata": {},
   "outputs": [],
   "source": [
    "scn_genus = scn.taxonomicAggregation(g)"
   ]
  },
  {
   "cell_type": "code",
   "execution_count": 38,
   "metadata": {},
   "outputs": [
    {
     "name": "stdout",
     "output_type": "stream",
     "text": [
      "Name: \n",
      "Type: SpeciesCollectorsNetwork\n",
      "Number of nodes: 9937\n",
      "Number of edges: 87632\n",
      "Average degree:  17.6375\n",
      "Number of species nodes: 3169\n",
      "Number of collectors nodes: 6768\n"
     ]
    }
   ],
   "source": [
    "print(nx.info(scn_genus))\n",
    "print('Number of species nodes:',len(scn_genus.listSpeciesNodes()))\n",
    "print('Number of collectors nodes:',len(scn_genus.listCollectorsNodes()))"
   ]
  },
  {
   "cell_type": "markdown",
   "metadata": {},
   "source": [
    "---"
   ]
  },
  {
   "cell_type": "markdown",
   "metadata": {},
   "source": [
    "## Bipartite projections"
   ]
  },
  {
   "cell_type": "markdown",
   "metadata": {},
   "source": [
    "* The density of projected networks increase when aggregating them on higher taxonomic ranks.\n",
    "* Species projections are denser than collectors projections, although the absolute number of edges in species projections (aggregated by genus and family) is lower than in collectors."
   ]
  },
  {
   "cell_type": "markdown",
   "metadata": {},
   "source": [
    "### Collectors projections"
   ]
  },
  {
   "cell_type": "markdown",
   "metadata": {},
   "source": [
    "The number of nodes in SCN collectors projections does not change with successive taxonomic aggregations, but the number of edges does! The number of edges (and consequently graph density) increases for taxonomic aggregations on higher ranks."
   ]
  },
  {
   "cell_type": "code",
   "execution_count": 39,
   "metadata": {},
   "outputs": [],
   "source": [
    "# Non-aggregated SCN\n",
    "scn_projCol = scn.project('collectors',rule='cosine_similarity')"
   ]
  },
  {
   "cell_type": "code",
   "execution_count": 40,
   "metadata": {},
   "outputs": [
    {
     "name": "stdout",
     "output_type": "stream",
     "text": [
      "Name: \n",
      "Type: Graph\n",
      "Number of nodes: 6768\n",
      "Number of edges: 834239\n",
      "Average degree: 246.5245\n",
      "Density: 0.03643040153491373\n"
     ]
    }
   ],
   "source": [
    "print(nx.info(scn_projCol))\n",
    "print('Density:',nx.density(scn_projCol))"
   ]
  },
  {
   "cell_type": "code",
   "execution_count": 21,
   "metadata": {},
   "outputs": [],
   "source": [
    "# Genus aggregated SCN\n",
    "scn_genus_projCol = scn_genus.project('collectors',rule='cosine_similarity')"
   ]
  },
  {
   "cell_type": "code",
   "execution_count": 33,
   "metadata": {},
   "outputs": [
    {
     "name": "stdout",
     "output_type": "stream",
     "text": [
      "Name: \n",
      "Type: Graph\n",
      "Number of nodes: 6768\n",
      "Number of edges: 2509837\n",
      "Average degree: 741.6776\n",
      "Density: 0.10960212804386187\n"
     ]
    }
   ],
   "source": [
    "print(nx.info(scn_genus_projCol))\n",
    "print('Density:',nx.density(scn_genus_projCol))"
   ]
  },
  {
   "cell_type": "code",
   "execution_count": 29,
   "metadata": {},
   "outputs": [],
   "source": [
    "# Family aggregated SCN\n",
    "scn_family_projCol = scn_family.project('collectors',rule='cosine_similarity')"
   ]
  },
  {
   "cell_type": "code",
   "execution_count": 34,
   "metadata": {},
   "outputs": [
    {
     "name": "stdout",
     "output_type": "stream",
     "text": [
      "Name: \n",
      "Type: Graph\n",
      "Number of nodes: 6768\n",
      "Number of edges: 5431799\n",
      "Average degree: 1605.1415\n",
      "Density: 0.23720135192306147\n"
     ]
    }
   ],
   "source": [
    "print(nx.info(scn_family_projCol))\n",
    "print('Density:',nx.density(scn_family_projCol))"
   ]
  },
  {
   "cell_type": "markdown",
   "metadata": {},
   "source": [
    "### Species projections"
   ]
  },
  {
   "cell_type": "markdown",
   "metadata": {},
   "source": [
    "Non-aggregated SCN species projections have lower density than their aggregated counterparts, although the number of nodes (and specially edges) is much greater. Thus, they become computationally hard to deal with.\n",
    "\n",
    "The number of nodes and edges in SCN species projections aggregated on higher ranks are reduced, although the network density increases, making it harder to obtain relevant relationships without filtering."
   ]
  },
  {
   "cell_type": "code",
   "execution_count": 41,
   "metadata": {},
   "outputs": [],
   "source": [
    "# Non-aggregated SCN\n",
    "scn_projSp = scn.project('species',rule='cosine_similarity')"
   ]
  },
  {
   "cell_type": "code",
   "execution_count": 42,
   "metadata": {},
   "outputs": [
    {
     "name": "stdout",
     "output_type": "stream",
     "text": [
      "Name: \n",
      "Type: Graph\n",
      "Number of nodes: 15344\n",
      "Number of edges: 19482923\n",
      "Average degree: 2539.4842\n",
      "Density: 0.1655141907295104\n"
     ]
    }
   ],
   "source": [
    "print(nx.info(scn_projSp))\n",
    "print('Density:',nx.density(scn_projSp))"
   ]
  },
  {
   "cell_type": "code",
   "execution_count": 22,
   "metadata": {},
   "outputs": [],
   "source": [
    "# Genus aggregated SCN\n",
    "scn_genus_projSp = scn_genus.project('species',rule='cosine_similarity')"
   ]
  },
  {
   "cell_type": "code",
   "execution_count": 35,
   "metadata": {},
   "outputs": [
    {
     "name": "stdout",
     "output_type": "stream",
     "text": [
      "Name: \n",
      "Type: Graph\n",
      "Number of nodes: 3169\n",
      "Number of edges: 1188065\n",
      "Average degree: 749.8044\n",
      "Density: 0.23668066751452677\n"
     ]
    }
   ],
   "source": [
    "print(nx.info(scn_genus_projSp))\n",
    "print('Density:',nx.density(scn_genus_projSp))"
   ]
  },
  {
   "cell_type": "code",
   "execution_count": 31,
   "metadata": {},
   "outputs": [],
   "source": [
    "# Family aggregated SCN\n",
    "scn_family_projSp = scn_family.project('species',rule='cosine_similarity')"
   ]
  },
  {
   "cell_type": "code",
   "execution_count": 36,
   "metadata": {},
   "outputs": [
    {
     "name": "stdout",
     "output_type": "stream",
     "text": [
      "Name: \n",
      "Type: Graph\n",
      "Number of nodes: 474\n",
      "Number of edges: 43756\n",
      "Average degree: 184.6245\n",
      "Density: 0.39032658049437563\n"
     ]
    }
   ],
   "source": [
    "print(nx.info(scn_family_projSp))\n",
    "print('Density:',nx.density(scn_family_projSp))"
   ]
  },
  {
   "cell_type": "markdown",
   "metadata": {},
   "source": [
    "---"
   ]
  },
  {
   "cell_type": "markdown",
   "metadata": {},
   "source": [
    "## Threshold vs. Density (family vs genus aggregations)"
   ]
  },
  {
   "cell_type": "markdown",
   "metadata": {},
   "source": [
    "### Collectors projections"
   ]
  },
  {
   "cell_type": "code",
   "execution_count": 43,
   "metadata": {},
   "outputs": [],
   "source": [
    "m_scn_family_projCol = nx.adjacency_matrix(scn_family_projCol)\n",
    "m_scn_genus_projCol = nx.adjacency_matrix(scn_genus_projCol)\n",
    "m_scn_noagg_projCol = nx.adjacency_matrix(scn_projCol)"
   ]
  },
  {
   "cell_type": "code",
   "execution_count": 44,
   "metadata": {},
   "outputs": [],
   "source": [
    "calculateDensity = lambda m: len(m.data)/np.prod(m.shape) # calculates the density of a sparse matrix\n",
    "\n",
    "from copy import deepcopy\n",
    "def filterMatrix(m,thresh):\n",
    "    # Filters a sparse matrix given a threshold \n",
    "    m_filtered = deepcopy(m)\n",
    "    m_filtered.data = np.where(m_filtered.data >= thresh, m_filtered.data, 0)\n",
    "    m_filtered.eliminate_zeros()\n",
    "    return m_filtered"
   ]
  },
  {
   "cell_type": "code",
   "execution_count": 45,
   "metadata": {},
   "outputs": [],
   "source": [
    "X = np.logspace(-3,0) # threshold values\n",
    "y_noagg = np.array( [ calculateDensity(filterMatrix(m_scn_noagg_projCol,thresh)) for thresh in X ] )\n",
    "y_genus = np.array( [ calculateDensity(filterMatrix(m_scn_genus_projCol,thresh)) for thresh in X ] )\n",
    "y_family = np.array( [ calculateDensity(filterMatrix(m_scn_family_projCol,thresh)) for thresh in X ] )"
   ]
  },
  {
   "cell_type": "code",
   "execution_count": 46,
   "metadata": {},
   "outputs": [
    {
     "data": {
      "image/png": "[encoded data removed]",
      "text/plain": [
       "<Figure size 432x288 with 1 Axes>"
      ]
     },
     "metadata": {},
     "output_type": "display_data"
    }
   ],
   "source": [
    "plt.plot(X,y_genus)\n",
    "plt.plot(X,y_family)\n",
    "plt.plot(X,y_noagg)\n",
    "\n",
    "plt.yscale('log')"
   ]
  },
  {
   "cell_type": "code",
   "execution_count": null,
   "metadata": {
    "collapsed": true
   },
   "outputs": [],
   "source": [
    "# look at the genus-aggregated graph\n"
   ]
  }
 ],
 "metadata": {
  "kernelspec": {
   "display_name": "Python 3",
   "language": "python",
   "name": "python3"
  },
  "language_info": {
   "codemirror_mode": {
    "name": "ipython",
    "version": 3
   },
   "file_extension": ".py",
   "mimetype": "text/x-python",
   "name": "python",
   "nbconvert_exporter": "python",
   "pygments_lexer": "ipython3",
   "version": "3.6.4"
  }
 },
 "nbformat": 4,
 "nbformat_minor": 2
}
