{
 "cells": [
  {
   "cell_type": "markdown",
   "metadata": {},
   "source": [
    "## Building Network Models\n",
    "# UB Species-collectors Network\n",
    "### Projections"
   ]
  },
  {
   "cell_type": "code",
   "execution_count": 1,
   "metadata": {},
   "outputs": [],
   "source": [
    "# Setting paths\n",
    "import sys,os\n",
    "import pathlib\n",
    "sys.path.insert(0,os.path.expanduser('~/caryocar'))\n",
    "sys.path.insert(0,os.path.abspath('..'))"
   ]
  },
  {
   "cell_type": "code",
   "execution_count": 2,
   "metadata": {},
   "outputs": [],
   "source": [
    "# Building the networks from data\n",
    "from setupmodels import scn\n",
    "from setupmodels import occs\n",
    "from setupmodels import ni"
   ]
  },
  {
   "cell_type": "code",
   "execution_count": 3,
   "metadata": {},
   "outputs": [],
   "source": [
    "# Importing libraries for analysis\n",
    "import numpy as np\n",
    "import networkx as nx\n",
    "import pandas as pd\n",
    "import matplotlib.pyplot as plt\n",
    "\n",
    "%matplotlib inline\n",
    "plt.rc('figure', figsize=(10,6))"
   ]
  },
  {
   "cell_type": "code",
   "execution_count": 4,
   "metadata": {},
   "outputs": [],
   "source": [
    "graphsdir = os.path.abspath('./graphs')\n",
    "\n",
    "if not os.path.isdir(graphsdir):\n",
    "    !mkdir graphs"
   ]
  },
  {
   "cell_type": "markdown",
   "metadata": {},
   "source": [
    "---"
   ]
  },
  {
   "cell_type": "markdown",
   "metadata": {},
   "source": [
    "## The SCN Network"
   ]
  },
  {
   "cell_type": "code",
   "execution_count": 5,
   "metadata": {},
   "outputs": [
    {
     "name": "stdout",
     "output_type": "stream",
     "text": [
      "Name: \n",
      "Type: SpeciesCollectorsNetwork\n",
      "Number of nodes: 22112\n",
      "Number of edges: 142647\n",
      "Average degree:  12.9022\n",
      "Number of species nodes: 15344\n",
      "Number of collectors nodes: 6768\n"
     ]
    }
   ],
   "source": [
    "print(nx.info(scn))\n",
    "print('Number of species nodes:',len(scn.listSpeciesNodes()))\n",
    "print('Number of collectors nodes:',len(scn.listCollectorsNodes()))"
   ]
  },
  {
   "cell_type": "markdown",
   "metadata": {},
   "source": [
    "---"
   ]
  },
  {
   "cell_type": "markdown",
   "metadata": {},
   "source": [
    "## Obtaining taxonomic aggregations"
   ]
  },
  {
   "cell_type": "markdown",
   "metadata": {},
   "source": [
    "#### Aggregation by family"
   ]
  },
  {
   "cell_type": "code",
   "execution_count": 6,
   "metadata": {},
   "outputs": [],
   "source": [
    "g = dict( occs[['family','species']].groupby('family').apply(lambda g: set(g['species'])) )"
   ]
  },
  {
   "cell_type": "code",
   "execution_count": 7,
   "metadata": {},
   "outputs": [],
   "source": [
    "scn_family = scn.taxonomicAggregation(g)"
   ]
  },
  {
   "cell_type": "code",
   "execution_count": 8,
   "metadata": {},
   "outputs": [
    {
     "name": "stdout",
     "output_type": "stream",
     "text": [
      "Name: \n",
      "Type: SpeciesCollectorsNetwork\n",
      "Number of nodes: 7242\n",
      "Number of edges: 43803\n",
      "Average degree:  12.0969\n",
      "Number of species nodes: 474\n",
      "Number of collectors nodes: 6768\n"
     ]
    }
   ],
   "source": [
    "print(nx.info(scn_family))\n",
    "print('Number of species nodes:',len(scn_family.listSpeciesNodes()))\n",
    "print('Number of collectors nodes:',len(scn_family.listCollectorsNodes()))"
   ]
  },
  {
   "cell_type": "markdown",
   "metadata": {},
   "source": [
    "#### Aggregation by genus"
   ]
  },
  {
   "cell_type": "code",
   "execution_count": 9,
   "metadata": {},
   "outputs": [],
   "source": [
    "g = dict( occs[['genus','species']].groupby('genus').apply(lambda g: set(g['species'])) )"
   ]
  },
  {
   "cell_type": "code",
   "execution_count": 10,
   "metadata": {},
   "outputs": [],
   "source": [
    "scn_genus = scn.taxonomicAggregation(g)"
   ]
  },
  {
   "cell_type": "code",
   "execution_count": 11,
   "metadata": {},
   "outputs": [
    {
     "name": "stdout",
     "output_type": "stream",
     "text": [
      "Name: \n",
      "Type: SpeciesCollectorsNetwork\n",
      "Number of nodes: 9937\n",
      "Number of edges: 87632\n",
      "Average degree:  17.6375\n",
      "Number of species nodes: 3169\n",
      "Number of collectors nodes: 6768\n"
     ]
    }
   ],
   "source": [
    "print(nx.info(scn_genus))\n",
    "print('Number of species nodes:',len(scn_genus.listSpeciesNodes()))\n",
    "print('Number of collectors nodes:',len(scn_genus.listCollectorsNodes()))"
   ]
  },
  {
   "cell_type": "markdown",
   "metadata": {},
   "source": [
    "---"
   ]
  },
  {
   "cell_type": "markdown",
   "metadata": {},
   "source": [
    "## Bipartite projections"
   ]
  },
  {
   "cell_type": "markdown",
   "metadata": {},
   "source": [
    "* The density of projected networks increase when aggregating them on higher taxonomic ranks.\n",
    "* Species projections are denser than collectors projections, although the absolute number of edges in species projections (aggregated by genus and family) is lower than in collectors."
   ]
  },
  {
   "cell_type": "markdown",
   "metadata": {},
   "source": [
    "### Collectors projections"
   ]
  },
  {
   "cell_type": "markdown",
   "metadata": {},
   "source": [
    "The number of nodes in SCN collectors projections does not change with successive taxonomic aggregations, but the number of edges does! The number of edges (and consequently graph density) increases for taxonomic aggregations on higher ranks."
   ]
  },
  {
   "cell_type": "code",
   "execution_count": 12,
   "metadata": {},
   "outputs": [],
   "source": [
    "# Non-aggregated SCN\n",
    "scn_projCol = scn.project('collectors',rule='cosine_similarity')"
   ]
  },
  {
   "cell_type": "code",
   "execution_count": 13,
   "metadata": {},
   "outputs": [
    {
     "name": "stdout",
     "output_type": "stream",
     "text": [
      "Name: \n",
      "Type: Graph\n",
      "Number of nodes: 6768\n",
      "Number of edges: 834239\n",
      "Average degree: 246.5245\n",
      "Density: 0.03643040153491373\n"
     ]
    }
   ],
   "source": [
    "print(nx.info(scn_projCol))\n",
    "print('Density:',nx.density(scn_projCol))"
   ]
  },
  {
   "cell_type": "code",
   "execution_count": 14,
   "metadata": {},
   "outputs": [],
   "source": [
    "# Genus aggregated SCN\n",
    "scn_genus_projCol = scn_genus.project('collectors',rule='cosine_similarity')"
   ]
  },
  {
   "cell_type": "code",
   "execution_count": 15,
   "metadata": {},
   "outputs": [
    {
     "name": "stdout",
     "output_type": "stream",
     "text": [
      "Name: \n",
      "Type: Graph\n",
      "Number of nodes: 6768\n",
      "Number of edges: 2509837\n",
      "Average degree: 741.6776\n",
      "Density: 0.10960212804386187\n"
     ]
    }
   ],
   "source": [
    "print(nx.info(scn_genus_projCol))\n",
    "print('Density:',nx.density(scn_genus_projCol))"
   ]
  },
  {
   "cell_type": "code",
   "execution_count": 16,
   "metadata": {},
   "outputs": [],
   "source": [
    "# Family aggregated SCN\n",
    "scn_family_projCol = scn_family.project('collectors',rule='cosine_similarity')"
   ]
  },
  {
   "cell_type": "code",
   "execution_count": 17,
   "metadata": {},
   "outputs": [
    {
     "name": "stdout",
     "output_type": "stream",
     "text": [
      "Name: \n",
      "Type: Graph\n",
      "Number of nodes: 6768\n",
      "Number of edges: 5431799\n",
      "Average degree: 1605.1415\n",
      "Density: 0.23720135192306147\n"
     ]
    }
   ],
   "source": [
    "print(nx.info(scn_family_projCol))\n",
    "print('Density:',nx.density(scn_family_projCol))"
   ]
  },
  {
   "cell_type": "markdown",
   "metadata": {},
   "source": [
    "### Species projections"
   ]
  },
  {
   "cell_type": "markdown",
   "metadata": {},
   "source": [
    "Non-aggregated SCN species projections have lower density than their aggregated counterparts, although the number of nodes (and specially edges) is much greater. Thus, they become computationally hard to deal with.\n",
    "\n",
    "The number of nodes and edges in SCN species projections aggregated on higher ranks are reduced, although the network density increases, making it harder to obtain relevant relationships without filtering."
   ]
  },
  {
   "cell_type": "code",
   "execution_count": 18,
   "metadata": {},
   "outputs": [],
   "source": [
    "# Non-aggregated SCN\n",
    "scn_projSp = scn.project('species',rule='cosine_similarity')"
   ]
  },
  {
   "cell_type": "code",
   "execution_count": 19,
   "metadata": {},
   "outputs": [
    {
     "name": "stdout",
     "output_type": "stream",
     "text": [
      "Name: \n",
      "Type: Graph\n",
      "Number of nodes: 15344\n",
      "Number of edges: 19482923\n",
      "Average degree: 2539.4842\n",
      "Density: 0.1655141907295104\n"
     ]
    }
   ],
   "source": [
    "print(nx.info(scn_projSp))\n",
    "print('Density:',nx.density(scn_projSp))"
   ]
  },
  {
   "cell_type": "code",
   "execution_count": 20,
   "metadata": {},
   "outputs": [],
   "source": [
    "# Genus aggregated SCN\n",
    "scn_genus_projSp = scn_genus.project('species',rule='cosine_similarity')"
   ]
  },
  {
   "cell_type": "code",
   "execution_count": 21,
   "metadata": {},
   "outputs": [
    {
     "name": "stdout",
     "output_type": "stream",
     "text": [
      "Name: \n",
      "Type: Graph\n",
      "Number of nodes: 3169\n",
      "Number of edges: 1188065\n",
      "Average degree: 749.8044\n",
      "Density: 0.23668066751452677\n"
     ]
    }
   ],
   "source": [
    "print(nx.info(scn_genus_projSp))\n",
    "print('Density:',nx.density(scn_genus_projSp))"
   ]
  },
  {
   "cell_type": "code",
   "execution_count": 22,
   "metadata": {},
   "outputs": [],
   "source": [
    "# Family aggregated SCN\n",
    "scn_family_projSp = scn_family.project('species',rule='cosine_similarity')"
   ]
  },
  {
   "cell_type": "code",
   "execution_count": 23,
   "metadata": {},
   "outputs": [
    {
     "name": "stdout",
     "output_type": "stream",
     "text": [
      "Name: \n",
      "Type: Graph\n",
      "Number of nodes: 474\n",
      "Number of edges: 43756\n",
      "Average degree: 184.6245\n",
      "Density: 0.39032658049437563\n"
     ]
    }
   ],
   "source": [
    "print(nx.info(scn_family_projSp))\n",
    "print('Density:',nx.density(scn_family_projSp))"
   ]
  },
  {
   "cell_type": "markdown",
   "metadata": {},
   "source": [
    "---"
   ]
  },
  {
   "cell_type": "markdown",
   "metadata": {},
   "source": [
    "## Threshold vs. Density (family vs genus aggregations)"
   ]
  },
  {
   "cell_type": "markdown",
   "metadata": {},
   "source": [
    "### Collectors projections"
   ]
  },
  {
   "cell_type": "code",
   "execution_count": 24,
   "metadata": {},
   "outputs": [],
   "source": [
    "m_scn_family_projCol = nx.adjacency_matrix(scn_family_projCol)\n",
    "m_scn_genus_projCol = nx.adjacency_matrix(scn_genus_projCol)\n",
    "m_scn_noagg_projCol = nx.adjacency_matrix(scn_projCol)"
   ]
  },
  {
   "cell_type": "code",
   "execution_count": 25,
   "metadata": {},
   "outputs": [],
   "source": [
    "calculateDensity = lambda m: len(m.data)/np.prod(m.shape) # calculates the density of a sparse matrix\n",
    "\n",
    "from copy import deepcopy\n",
    "def filterMatrix(m,thresh):\n",
    "    # Filters a sparse matrix given a threshold \n",
    "    m_filtered = deepcopy(m)\n",
    "    m_filtered.data = np.where(m_filtered.data >= thresh, m_filtered.data, 0)\n",
    "    m_filtered.eliminate_zeros()\n",
    "    return m_filtered"
   ]
  },
  {
   "cell_type": "code",
   "execution_count": 88,
   "metadata": {},
   "outputs": [],
   "source": [
    "# X = np.logspace(-3,0) # threshold values increasing in a log scale\n",
    "X = np.linspace(0,1,35) # threshold values increasing in a linear scale\n",
    "y_noagg = np.array( [ calculateDensity(filterMatrix(m_scn_noagg_projCol,thresh)) for thresh in X ] )\n",
    "y_genus = np.array( [ calculateDensity(filterMatrix(m_scn_genus_projCol,thresh)) for thresh in X ] )\n",
    "y_family = np.array( [ calculateDensity(filterMatrix(m_scn_family_projCol,thresh)) for thresh in X ] )"
   ]
  },
  {
   "cell_type": "code",
   "execution_count": 89,
   "metadata": {},
   "outputs": [
    {
     "data": {
      "text/plain": [
       "Text(0,0.5,'Matrix Density')"
      ]
     },
     "execution_count": 89,
     "metadata": {},
     "output_type": "execute_result"
    },
    {
     "data": {
      "image/png": "[encoded data removed]",
      "text/plain": [
       "<Figure size 720x432 with 1 Axes>"
      ]
     },
     "metadata": {},
     "output_type": "display_data"
    }
   ],
   "source": [
    "plt.plot(X,y_family, 'x', ls='--', markerfacecolor='none', label='SCN aggregated by family',markersize=10,lw=1)\n",
    "plt.plot(X,y_genus, '+', ls='--', markerfacecolor='none', label='SCN aggregated by genus', markersize=10,lw=1)\n",
    "plt.plot(X,y_noagg, 'o', ls='--', markerfacecolor='none', label='SCN', markersize=10,lw=1)\n",
    "\n",
    "plt.yscale('log')\n",
    "\n",
    "plt.legend()\n",
    "plt.xlabel('Filter threshold')\n",
    "plt.ylabel('Matrix Density')\n",
    "#plt.savefig('filter_thresh.pdf', dpi=92, bbox_inches='tight')"
   ]
  },
  {
   "cell_type": "markdown",
   "metadata": {},
   "source": [
    "From the figure above we can detect a peak of density decayment around threshold value of $0.7$.\n",
    "\n",
    "Especially for non-aggregated SCN, density decays faster for threshold values between $0$ and $0.4$. This is not apparent in the SCN aggregated by family (decays exponentially)."
   ]
  },
  {
   "cell_type": "markdown",
   "metadata": {},
   "source": [
    "## SCN $S_{col}$ projection: Looking at the graph"
   ]
  },
  {
   "cell_type": "markdown",
   "metadata": {},
   "source": [
    "We improve the visualization by doing the following routine:\n",
    "* We start with a `scn_family` aggregation;\n",
    "* Filter out edges with count < 20 and then remove isolated nodes (k=0);\n",
    "* Get the projection with similarity threshold of 0.8;\n",
    "* Obtain subgraphs, and filter out those with less than 500 records.\n"
   ]
  },
  {
   "cell_type": "code",
   "execution_count": 5,
   "metadata": {},
   "outputs": [],
   "source": [
    "scn_family = scn.taxonomicAggregation( dict( occs[['family','species']].groupby('family').apply(lambda g: set(g['species'])) ) )"
   ]
  },
  {
   "cell_type": "code",
   "execution_count": 6,
   "metadata": {},
   "outputs": [],
   "source": [
    "scn_family.remove_edges_from([ (u,v) for u,v,cnt in scn_family.edges(data='count') if cnt<20 ])\n",
    "scn_family.remove_nodes_from( [ n for n,k in scn_family.degree() if k==0 ] )"
   ]
  },
  {
   "cell_type": "code",
   "execution_count": 7,
   "metadata": {},
   "outputs": [],
   "source": [
    "g=scn_family.project('collectors','cosine_similarity',thresh=0.8)"
   ]
  },
  {
   "cell_type": "code",
   "execution_count": 8,
   "metadata": {},
   "outputs": [
    {
     "name": "stdout",
     "output_type": "stream",
     "text": [
      "Name: \n",
      "Type: Graph\n",
      "Number of nodes: 515\n",
      "Number of edges: 8497\n",
      "Average degree:  32.9981\n"
     ]
    }
   ],
   "source": [
    "print(nx.info(g))"
   ]
  },
  {
   "cell_type": "code",
   "execution_count": 9,
   "metadata": {},
   "outputs": [],
   "source": [
    "score_component = lambda g: sum( cnt for n,cnt in g.nodes(data='count') )"
   ]
  },
  {
   "cell_type": "code",
   "execution_count": 10,
   "metadata": {},
   "outputs": [],
   "source": [
    "subgraphs = sorted([ (gr,score_component(gr)) for gr in nx.connected_component_subgraphs(g) ], key=lambda x:x[1], reverse=True)"
   ]
  },
  {
   "cell_type": "code",
   "execution_count": 11,
   "metadata": {},
   "outputs": [],
   "source": [
    "subgraphs = [ g for g, score in filter( lambda x: x[1]>=500, subgraphs) ]"
   ]
  },
  {
   "cell_type": "code",
   "execution_count": 12,
   "metadata": {},
   "outputs": [
    {
     "data": {
      "text/plain": [
       "[<networkx.classes.graph.Graph at 0x7f4f43c632b0>,\n",
       " <networkx.classes.graph.Graph at 0x7f4f43c63320>,\n",
       " <networkx.classes.graph.Graph at 0x7f4f43c630b8>,\n",
       " <networkx.classes.graph.Graph at 0x7f4f43c63550>,\n",
       " <networkx.classes.graph.Graph at 0x7f4f43c63588>,\n",
       " <networkx.classes.graph.Graph at 0x7f4f43c63f60>,\n",
       " <networkx.classes.graph.Graph at 0x7f4f43c633c8>,\n",
       " <networkx.classes.graph.Graph at 0x7f4f43c630f0>,\n",
       " <networkx.classes.graph.Graph at 0x7f4f43c63128>,\n",
       " <networkx.classes.graph.Graph at 0x7f4f43c63048>,\n",
       " <networkx.classes.graph.Graph at 0x7f4f43c63630>,\n",
       " <networkx.classes.graph.Graph at 0x7f4f43c63e48>,\n",
       " <networkx.classes.graph.Graph at 0x7f4f43c637b8>,\n",
       " <networkx.classes.graph.Graph at 0x7f4f43c63358>]"
      ]
     },
     "execution_count": 12,
     "metadata": {},
     "output_type": "execute_result"
    }
   ],
   "source": [
    "subgraphs"
   ]
  },
  {
   "cell_type": "code",
   "execution_count": 13,
   "metadata": {},
   "outputs": [],
   "source": [
    "g = nx.compose_all(subgraphs)"
   ]
  },
  {
   "cell_type": "code",
   "execution_count": 14,
   "metadata": {},
   "outputs": [
    {
     "name": "stdout",
     "output_type": "stream",
     "text": [
      "Name: compose( ,  )\n",
      "Type: Graph\n",
      "Number of nodes: 457\n",
      "Number of edges: 8480\n",
      "Average degree:  37.1116\n"
     ]
    }
   ],
   "source": [
    "print(nx.info(g))"
   ]
  },
  {
   "cell_type": "markdown",
   "metadata": {},
   "source": [
    "## Communities"
   ]
  },
  {
   "cell_type": "code",
   "execution_count": 15,
   "metadata": {},
   "outputs": [],
   "source": [
    "import community"
   ]
  },
  {
   "cell_type": "code",
   "execution_count": 24,
   "metadata": {},
   "outputs": [],
   "source": [
    "parts = community.best_partition(g, resolution=1)"
   ]
  },
  {
   "cell_type": "code",
   "execution_count": 25,
   "metadata": {},
   "outputs": [],
   "source": [
    "nx.set_node_attributes(g,parts,'community')"
   ]
  },
  {
   "cell_type": "code",
   "execution_count": 26,
   "metadata": {},
   "outputs": [],
   "source": [
    "nx.write_gexf(g,os.path.join(graphsdir,'scn_family_projCol_communities.gexf'))"
   ]
  },
  {
   "cell_type": "markdown",
   "metadata": {},
   "source": [
    "### What is the families signature of each community?"
   ]
  },
  {
   "cell_type": "code",
   "execution_count": 27,
   "metadata": {},
   "outputs": [],
   "source": [
    "communities = set( com for n,com in g.nodes(data='community'))"
   ]
  },
  {
   "cell_type": "code",
   "execution_count": 28,
   "metadata": {},
   "outputs": [],
   "source": [
    "communities = [ (c, [n for n,c1 in g.nodes(data='community') if c1==c ] ) for c in communities ]"
   ]
  },
  {
   "cell_type": "code",
   "execution_count": 29,
   "metadata": {},
   "outputs": [],
   "source": [
    "def merge_dicts(dicts):\n",
    "    d_res = dict()\n",
    "    for dic in dicts:\n",
    "        for k in dic.keys():\n",
    "            d_res[k] = d_res.get(k,0) + dic[k]\n",
    "    return d_res\n",
    "\n",
    "def count_spp_per_collector(col):\n",
    "    spp,sprs = scn_family.getSpeciesBag(col)\n",
    "    counts = sprs.data\n",
    "    species = [spp[i] for i in sprs.indices]\n",
    "    return dict( i for i in zip(species,counts) ) \n",
    "\n",
    "def comm_taxonomic_composition(taxa_dict):\n",
    "    # Returns percentages\n",
    "    total = sum(taxa_dict.values())\n",
    "    d = dict()\n",
    "    for k,v in taxa_dict.items():\n",
    "        d[k]=v/total\n",
    "    return d"
   ]
  },
  {
   "cell_type": "code",
   "execution_count": 30,
   "metadata": {},
   "outputs": [],
   "source": [
    "comm_taxa = [ (comm_id, comm_taxonomic_composition(merge_dicts([count_spp_per_collector(col) for col in comm_cols]))) for comm_id, comm_cols in communities] "
   ]
  },
  {
   "cell_type": "code",
   "execution_count": 31,
   "metadata": {},
   "outputs": [
    {
     "data": {
      "text/plain": [
       "[(0,\n",
       "  [('Asteraceae', 0.7272371255140004),\n",
       "   ('Fabaceae', 0.09124730761699627),\n",
       "   ('Melastomataceae', 0.05247699236342275),\n",
       "   ('Myrtaceae', 0.030350499314666143),\n",
       "   ('Cyperaceae', 0.028784021930683374)]),\n",
       " (1,\n",
       "  [('Cyperaceae', 0.5042951971885982),\n",
       "   ('Fabaceae', 0.0987895353377587),\n",
       "   ('Oxalidaceae', 0.0720421710269426),\n",
       "   ('Asteraceae', 0.052713783678250685),\n",
       "   ('Poaceae', 0.050761421319796954)]),\n",
       " (2,\n",
       "  [('Fabaceae', 0.5884750787474523),\n",
       "   ('Myrtaceae', 0.08634426533259218),\n",
       "   ('Rubiaceae', 0.06021863998517695),\n",
       "   ('Asteraceae', 0.0474337594960163),\n",
       "   ('Bignoniaceae', 0.029460811561978877)]),\n",
       " (3,\n",
       "  [('Poaceae', 0.40428082191780823),\n",
       "   ('Cyperaceae', 0.1254280821917808),\n",
       "   ('Asteraceae', 0.07542808219178082),\n",
       "   ('Fabaceae', 0.07054794520547945),\n",
       "   ('Eriocaulaceae', 0.0586472602739726)]),\n",
       " (4,\n",
       "  [('Myrtaceae', 0.6198587819947043),\n",
       "   ('Fabaceae', 0.07749338040600176),\n",
       "   ('Asteraceae', 0.04324801412180053),\n",
       "   ('Poaceae', 0.03468667255075022),\n",
       "   ('Bignoniaceae', 0.034333627537511034)]),\n",
       " (5,\n",
       "  [('Rubiaceae', 0.8271555197421434),\n",
       "   ('Myrtaceae', 0.04633360193392425),\n",
       "   ('Fabaceae', 0.030217566478646252),\n",
       "   ('Solanaceae', 0.019339242546333603),\n",
       "   ('Cyperaceae', 0.017727639000805803)]),\n",
       " (6,\n",
       "  [('Fabaceae', 0.1878790413651763),\n",
       "   ('Rubiaceae', 0.10095222161807967),\n",
       "   ('Myrtaceae', 0.0843894209990659),\n",
       "   ('Asteraceae', 0.07881272045394343),\n",
       "   ('Melastomataceae', 0.046412090286781824)]),\n",
       " (7,\n",
       "  [('Sematophyllaceae', 0.267882818116463),\n",
       "   ('Hypnaceae', 0.15959741193386054),\n",
       "   ('Dicranaceae', 0.13847951114306253),\n",
       "   ('Calymperaceae', 0.04654924514737599),\n",
       "   ('Piperaceae', 0.03576563623292595)]),\n",
       " (8,\n",
       "  [('Desmidiaceae', 0.31400535236396077),\n",
       "   ('Scenedesmaceae', 0.18911685994647637),\n",
       "   ('Chlorellaceae', 0.0967885816235504),\n",
       "   ('Euglenaceae', 0.05976806422836753),\n",
       "   ('Hydrodictyaceae', 0.058876003568242644)]),\n",
       " (9,\n",
       "  [('Eunotiaceae', 0.35388310648518817),\n",
       "   ('Naviculaceae', 0.1521216973578863),\n",
       "   ('Pinnulariaceae', 0.11235655190819323),\n",
       "   ('Cymbellaceae', 0.06912196423805711),\n",
       "   ('Amphipleuraceae', 0.040565785962103015)]),\n",
       " (10,\n",
       "  [('Desmidiaceae', 0.9749727965179543),\n",
       "   ('Closteriaceae', 0.025027203482045703)]),\n",
       " (11,\n",
       "  [('Poaceae', 0.14285714285714285),\n",
       "   ('Fabaceae', 0.1319327731092437),\n",
       "   ('Santalaceae', 0.11092436974789915),\n",
       "   ('Asteraceae', 0.08823529411764706),\n",
       "   ('Myrtaceae', 0.06470588235294118)]),\n",
       " (12,\n",
       "  [('Amblystegiaceae', 0.6362467866323908),\n",
       "   ('Polytrichaceae', 0.2262210796915167),\n",
       "   ('Dicranaceae', 0.10411311053984576),\n",
       "   ('Bryaceae', 0.033419023136246784)]),\n",
       " (13,\n",
       "  [('Orchidaceae', 0.7355516637478109),\n",
       "   ('Myrtaceae', 0.09807355516637478),\n",
       "   ('Araceae', 0.07180385288966724),\n",
       "   ('Fabaceae', 0.05253940455341506),\n",
       "   ('Melastomataceae', 0.04203152364273205)]),\n",
       " (14,\n",
       "  [('Santalaceae', 0.344954128440367),\n",
       "   ('Loranthaceae', 0.1743119266055046),\n",
       "   ('Myrtaceae', 0.13394495412844037),\n",
       "   ('Fabaceae', 0.10458715596330276),\n",
       "   ('Anacardiaceae', 0.06972477064220184)]),\n",
       " (15, [('Melastomataceae', 1.0)]),\n",
       " (16,\n",
       "  [('Fissidentaceae', 0.5323624595469255),\n",
       "   ('Calymperaceae', 0.17313915857605178),\n",
       "   ('Pottiaceae', 0.16828478964401294),\n",
       "   ('Lejeuneaceae', 0.04692556634304207),\n",
       "   ('Bryaceae', 0.040453074433656956)]),\n",
       " (17,\n",
       "  [('Rubiaceae', 0.20512820512820512),\n",
       "   ('Fabaceae', 0.18803418803418803),\n",
       "   ('Dicranaceae', 0.1623931623931624),\n",
       "   ('Cyperaceae', 0.13675213675213677),\n",
       "   ('Lamiaceae', 0.11965811965811966)]),\n",
       " (18,\n",
       "  [('Arecaceae', 0.36069651741293535),\n",
       "   ('Myrtaceae', 0.2537313432835821),\n",
       "   ('Fabaceae', 0.15422885572139303),\n",
       "   ('Asteraceae', 0.10945273631840796),\n",
       "   ('Bignoniaceae', 0.06218905472636816)]),\n",
       " (19,\n",
       "  [('Calophyllaceae', 0.38095238095238093),\n",
       "   ('Fabaceae', 0.2813852813852814),\n",
       "   ('Asteraceae', 0.23809523809523808),\n",
       "   ('Malpighiaceae', 0.09956709956709957)])]"
      ]
     },
     "execution_count": 31,
     "metadata": {},
     "output_type": "execute_result"
    }
   ],
   "source": [
    "[ (com, sorted(dict_taxa.items(), key=lambda x:x[1],reverse=True)[:5]) for com,dict_taxa in comm_taxa ]"
   ]
  },
  {
   "cell_type": "markdown",
   "metadata": {},
   "source": [
    "---"
   ]
  },
  {
   "cell_type": "markdown",
   "metadata": {},
   "source": [
    "## SCN $S_{sp}$ projection"
   ]
  },
  {
   "cell_type": "code",
   "execution_count": 71,
   "metadata": {},
   "outputs": [],
   "source": [
    "g=scn_family.project('species','cosine_similarity',thresh=0.8)"
   ]
  },
  {
   "cell_type": "code",
   "execution_count": 50,
   "metadata": {},
   "outputs": [],
   "source": [
    "g.remove_nodes_from([ n for n,cnt in g.nodes(data='count') if cnt<10 ])"
   ]
  },
  {
   "cell_type": "code",
   "execution_count": 72,
   "metadata": {},
   "outputs": [
    {
     "name": "stdout",
     "output_type": "stream",
     "text": [
      "Name: \n",
      "Type: Graph\n",
      "Number of nodes: 474\n",
      "Number of edges: 1290\n",
      "Average degree:   5.4430\n"
     ]
    }
   ],
   "source": [
    "print(nx.info(g))"
   ]
  },
  {
   "cell_type": "code",
   "execution_count": 84,
   "metadata": {},
   "outputs": [],
   "source": [
    "subgraphs = sorted([ (gr,score_component(gr)) for gr in nx.connected_component_subgraphs(g) ], key=lambda x:x[1], reverse=True)"
   ]
  },
  {
   "cell_type": "code",
   "execution_count": 85,
   "metadata": {},
   "outputs": [],
   "source": [
    "subgraphs = [ g for g, score in filter( lambda x: x[1]>=600, subgraphs) ]"
   ]
  },
  {
   "cell_type": "code",
   "execution_count": 86,
   "metadata": {},
   "outputs": [
    {
     "data": {
      "text/plain": [
       "[<networkx.classes.graph.Graph at 0x7fa34432eef0>,\n",
       " <networkx.classes.graph.Graph at 0x7fa344427358>,\n",
       " <networkx.classes.graph.Graph at 0x7fa34e282400>,\n",
       " <networkx.classes.graph.Graph at 0x7fa344427b00>,\n",
       " <networkx.classes.graph.Graph at 0x7fa34432e588>,\n",
       " <networkx.classes.graph.Graph at 0x7fa34e2829e8>,\n",
       " <networkx.classes.graph.Graph at 0x7fa3444279e8>,\n",
       " <networkx.classes.graph.Graph at 0x7fa34e282320>,\n",
       " <networkx.classes.graph.Graph at 0x7fa34e282f98>,\n",
       " <networkx.classes.graph.Graph at 0x7fa34e2822b0>,\n",
       " <networkx.classes.graph.Graph at 0x7fa337ccce10>,\n",
       " <networkx.classes.graph.Graph at 0x7fa3440a2198>,\n",
       " <networkx.classes.graph.Graph at 0x7fa337ccca58>]"
      ]
     },
     "execution_count": 86,
     "metadata": {},
     "output_type": "execute_result"
    }
   ],
   "source": [
    "subgraphs"
   ]
  },
  {
   "cell_type": "code",
   "execution_count": 87,
   "metadata": {},
   "outputs": [],
   "source": [
    "g = nx.compose_all(subgraphs)"
   ]
  },
  {
   "cell_type": "code",
   "execution_count": 88,
   "metadata": {},
   "outputs": [],
   "source": [
    "nx.write_gexf(g,'g.gexf')"
   ]
  },
  {
   "cell_type": "markdown",
   "metadata": {},
   "source": [
    "---"
   ]
  },
  {
   "cell_type": "code",
   "execution_count": 113,
   "metadata": {},
   "outputs": [],
   "source": [
    "from copy import deepcopy"
   ]
  },
  {
   "cell_type": "code",
   "execution_count": 166,
   "metadata": {},
   "outputs": [],
   "source": [
    "scn2_family = deepcopy(scn_family)"
   ]
  },
  {
   "cell_type": "code",
   "execution_count": 149,
   "metadata": {},
   "outputs": [
    {
     "name": "stdout",
     "output_type": "stream",
     "text": [
      "Name: \n",
      "Type: SpeciesCollectorsNetwork\n",
      "Number of nodes: 7242\n",
      "Number of edges: 43803\n",
      "Average degree:  12.0969\n"
     ]
    }
   ],
   "source": [
    "print(nx.info(scn2_family))"
   ]
  },
  {
   "cell_type": "code",
   "execution_count": 167,
   "metadata": {},
   "outputs": [],
   "source": [
    "scn2_family.remove_edges_from([ (u,v) for u,v,cnt in scn2_family.edges(data='count') if cnt <20 ])"
   ]
  },
  {
   "cell_type": "code",
   "execution_count": 168,
   "metadata": {},
   "outputs": [],
   "source": [
    "scn2_family.remove_nodes_from([ n for n,k in scn2_family.degree() if k==0 ])"
   ]
  },
  {
   "cell_type": "code",
   "execution_count": 169,
   "metadata": {},
   "outputs": [
    {
     "name": "stdout",
     "output_type": "stream",
     "text": [
      "Name: \n",
      "Type: SpeciesCollectorsNetwork\n",
      "Number of nodes: 679\n",
      "Number of edges: 2056\n",
      "Average degree:   6.0560\n"
     ]
    }
   ],
   "source": [
    "print(nx.info(scn2_family))"
   ]
  },
  {
   "cell_type": "code",
   "execution_count": 179,
   "metadata": {},
   "outputs": [],
   "source": [
    "g = dict( occs[['family','species']].groupby('family').apply(lambda g: set(g['species'])) )\n",
    "scn2_family = scn2.taxonomicAggregation(g)"
   ]
  },
  {
   "cell_type": "code",
   "execution_count": 183,
   "metadata": {},
   "outputs": [],
   "source": [
    "g=scn2_family.project('collectors','cosine_similarity',thresh=0.85)"
   ]
  },
  {
   "cell_type": "code",
   "execution_count": 185,
   "metadata": {},
   "outputs": [],
   "source": [
    "g.remove_nodes_from([ n for n,cnt in g.nodes(data='count') if cnt<10 ])"
   ]
  },
  {
   "cell_type": "code",
   "execution_count": 188,
   "metadata": {},
   "outputs": [],
   "source": [
    "score_component = lambda g: sum( cnt for n,cnt in g.nodes(data='count') )"
   ]
  },
  {
   "cell_type": "code",
   "execution_count": 189,
   "metadata": {},
   "outputs": [],
   "source": [
    "subgraphs = sorted([ (gr,score_component(gr)) for gr in nx.connected_component_subgraphs(g) ], key=lambda x:x[1], reverse=True)"
   ]
  },
  {
   "cell_type": "code",
   "execution_count": 190,
   "metadata": {},
   "outputs": [],
   "source": [
    "subgraphs = [ g for g, score in filter( lambda x: x[1]>=1000, subgraphs) ]"
   ]
  },
  {
   "cell_type": "code",
   "execution_count": 191,
   "metadata": {},
   "outputs": [],
   "source": [
    "g = nx.compose_all(subgraphs)"
   ]
  },
  {
   "cell_type": "code",
   "execution_count": 193,
   "metadata": {},
   "outputs": [
    {
     "name": "stdout",
     "output_type": "stream",
     "text": [
      "Name: compose( ,  )\n",
      "Type: Graph\n",
      "Number of nodes: 893\n",
      "Number of edges: 17237\n",
      "Average degree:  38.6047\n"
     ]
    }
   ],
   "source": [
    "print(nx.info(g))"
   ]
  },
  {
   "cell_type": "code",
   "execution_count": 194,
   "metadata": {},
   "outputs": [],
   "source": [
    "nx.write_gexf(g,'g.gexf')"
   ]
  },
  {
   "cell_type": "code",
   "execution_count": 125,
   "metadata": {},
   "outputs": [],
   "source": [
    "# project"
   ]
  },
  {
   "cell_type": "code",
   "execution_count": 133,
   "metadata": {},
   "outputs": [],
   "source": [
    "g = scn2_family.project('collectors','cosine_similarity',thresh=0.85)"
   ]
  },
  {
   "cell_type": "code",
   "execution_count": 129,
   "metadata": {},
   "outputs": [
    {
     "name": "stdout",
     "output_type": "stream",
     "text": [
      "Name: \n",
      "Type: Graph\n",
      "Number of nodes: 5516\n",
      "Number of edges: 581115\n",
      "Average degree: 210.7016\n"
     ]
    }
   ],
   "source": [
    "print(nx.info(scn2_family_projCol))"
   ]
  },
  {
   "cell_type": "code",
   "execution_count": null,
   "metadata": {},
   "outputs": [],
   "source": [
    "nx.write_gexf(scn2_family_projCol,)"
   ]
  },
  {
   "cell_type": "code",
   "execution_count": null,
   "metadata": {},
   "outputs": [],
   "source": []
  }
 ],
 "metadata": {
  "kernelspec": {
   "display_name": "Python 3",
   "language": "python",
   "name": "python3"
  },
  "language_info": {
   "codemirror_mode": {
    "name": "ipython",
    "version": 3
   },
   "file_extension": ".py",
   "mimetype": "text/x-python",
   "name": "python",
   "nbconvert_exporter": "python",
   "pygments_lexer": "ipython3",
   "version": "3.6.5"
  }
 },
 "nbformat": 4,
 "nbformat_minor": 2
}
