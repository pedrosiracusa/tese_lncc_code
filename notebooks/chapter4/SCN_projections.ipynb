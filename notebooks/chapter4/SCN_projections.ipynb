{
 "cells": [
  {
   "cell_type": "markdown",
   "metadata": {},
   "source": [
    "## Building Network Models\n",
    "# UB Species-collectors Network\n",
    "### Projections"
   ]
  },
  {
   "cell_type": "code",
   "execution_count": 1,
   "metadata": {},
   "outputs": [],
   "source": [
    "# Setting paths\n",
    "import sys,os\n",
    "import pathlib\n",
    "sys.path.insert(0,os.path.expanduser('~/caryocar'))\n",
    "sys.path.insert(0,os.path.abspath('..'))"
   ]
  },
  {
   "cell_type": "code",
   "execution_count": 2,
   "metadata": {},
   "outputs": [],
   "source": [
    "# Building the networks from data\n",
    "from setupmodels import scn\n",
    "from setupmodels import occs\n",
    "from setupmodels import ni"
   ]
  },
  {
   "cell_type": "code",
   "execution_count": 29,
   "metadata": {},
   "outputs": [],
   "source": [
    "# Importing libraries for analysis\n",
    "import numpy as np\n",
    "import networkx as nx\n",
    "import pandas as pd\n",
    "import matplotlib.pyplot as plt\n",
    "\n",
    "%matplotlib inline\n",
    "plt.rc('figure', figsize=(10,6))"
   ]
  },
  {
   "cell_type": "code",
   "execution_count": 4,
   "metadata": {},
   "outputs": [],
   "source": [
    "graphsdir = os.path.abspath('./graphs')\n",
    "\n",
    "if not os.path.isdir(graphsdir):\n",
    "    !mkdir graphs"
   ]
  },
  {
   "cell_type": "markdown",
   "metadata": {},
   "source": [
    "---"
   ]
  },
  {
   "cell_type": "markdown",
   "metadata": {},
   "source": [
    "## The SCN Network"
   ]
  },
  {
   "cell_type": "code",
   "execution_count": 5,
   "metadata": {},
   "outputs": [
    {
     "name": "stdout",
     "output_type": "stream",
     "text": [
      "Name: \n",
      "Type: SpeciesCollectorsNetwork\n",
      "Number of nodes: 22112\n",
      "Number of edges: 142647\n",
      "Average degree:  12.9022\n",
      "Number of species nodes: 15344\n",
      "Number of collectors nodes: 6768\n"
     ]
    }
   ],
   "source": [
    "print(nx.info(scn))\n",
    "print('Number of species nodes:',len(scn.listSpeciesNodes()))\n",
    "print('Number of collectors nodes:',len(scn.listCollectorsNodes()))"
   ]
  },
  {
   "cell_type": "markdown",
   "metadata": {},
   "source": [
    "---"
   ]
  },
  {
   "cell_type": "markdown",
   "metadata": {},
   "source": [
    "## Obtaining taxonomic aggregations"
   ]
  },
  {
   "cell_type": "markdown",
   "metadata": {},
   "source": [
    "#### Aggregation by family"
   ]
  },
  {
   "cell_type": "code",
   "execution_count": 6,
   "metadata": {},
   "outputs": [],
   "source": [
    "g = dict( occs[['family','species']].groupby('family').apply(lambda g: set(g['species'])) )"
   ]
  },
  {
   "cell_type": "code",
   "execution_count": 7,
   "metadata": {},
   "outputs": [],
   "source": [
    "scn_family = scn.taxonomicAggregation(g)"
   ]
  },
  {
   "cell_type": "code",
   "execution_count": 8,
   "metadata": {},
   "outputs": [
    {
     "name": "stdout",
     "output_type": "stream",
     "text": [
      "Name: \n",
      "Type: SpeciesCollectorsNetwork\n",
      "Number of nodes: 7242\n",
      "Number of edges: 43803\n",
      "Average degree:  12.0969\n",
      "Number of species nodes: 474\n",
      "Number of collectors nodes: 6768\n"
     ]
    }
   ],
   "source": [
    "print(nx.info(scn_family))\n",
    "print('Number of species nodes:',len(scn_family.listSpeciesNodes()))\n",
    "print('Number of collectors nodes:',len(scn_family.listCollectorsNodes()))"
   ]
  },
  {
   "cell_type": "markdown",
   "metadata": {},
   "source": [
    "#### Aggregation by genus"
   ]
  },
  {
   "cell_type": "code",
   "execution_count": 9,
   "metadata": {},
   "outputs": [],
   "source": [
    "g = dict( occs[['genus','species']].groupby('genus').apply(lambda g: set(g['species'])) )"
   ]
  },
  {
   "cell_type": "code",
   "execution_count": 10,
   "metadata": {},
   "outputs": [],
   "source": [
    "scn_genus = scn.taxonomicAggregation(g)"
   ]
  },
  {
   "cell_type": "code",
   "execution_count": 11,
   "metadata": {},
   "outputs": [
    {
     "name": "stdout",
     "output_type": "stream",
     "text": [
      "Name: \n",
      "Type: SpeciesCollectorsNetwork\n",
      "Number of nodes: 9937\n",
      "Number of edges: 87632\n",
      "Average degree:  17.6375\n",
      "Number of species nodes: 3169\n",
      "Number of collectors nodes: 6768\n"
     ]
    }
   ],
   "source": [
    "print(nx.info(scn_genus))\n",
    "print('Number of species nodes:',len(scn_genus.listSpeciesNodes()))\n",
    "print('Number of collectors nodes:',len(scn_genus.listCollectorsNodes()))"
   ]
  },
  {
   "cell_type": "markdown",
   "metadata": {},
   "source": [
    "---"
   ]
  },
  {
   "cell_type": "markdown",
   "metadata": {},
   "source": [
    "## Bipartite projections"
   ]
  },
  {
   "cell_type": "markdown",
   "metadata": {},
   "source": [
    "* The density of projected networks increase when aggregating them on higher taxonomic ranks.\n",
    "* Species projections are denser than collectors projections, although the absolute number of edges in species projections (aggregated by genus and family) is lower than in collectors."
   ]
  },
  {
   "cell_type": "markdown",
   "metadata": {},
   "source": [
    "### Collectors projections"
   ]
  },
  {
   "cell_type": "markdown",
   "metadata": {},
   "source": [
    "The number of nodes in SCN collectors projections does not change with successive taxonomic aggregations, but the number of edges does! The number of edges (and consequently graph density) increases for taxonomic aggregations on higher ranks."
   ]
  },
  {
   "cell_type": "code",
   "execution_count": 12,
   "metadata": {},
   "outputs": [],
   "source": [
    "# Non-aggregated SCN\n",
    "scn_projCol = scn.project('collectors',rule='cosine_similarity')"
   ]
  },
  {
   "cell_type": "code",
   "execution_count": 13,
   "metadata": {},
   "outputs": [
    {
     "name": "stdout",
     "output_type": "stream",
     "text": [
      "Name: \n",
      "Type: Graph\n",
      "Number of nodes: 6768\n",
      "Number of edges: 834239\n",
      "Average degree: 246.5245\n",
      "Density: 0.03643040153491373\n"
     ]
    }
   ],
   "source": [
    "print(nx.info(scn_projCol))\n",
    "print('Density:',nx.density(scn_projCol))"
   ]
  },
  {
   "cell_type": "code",
   "execution_count": 14,
   "metadata": {},
   "outputs": [],
   "source": [
    "# Genus aggregated SCN\n",
    "scn_genus_projCol = scn_genus.project('collectors',rule='cosine_similarity')"
   ]
  },
  {
   "cell_type": "code",
   "execution_count": 15,
   "metadata": {},
   "outputs": [
    {
     "name": "stdout",
     "output_type": "stream",
     "text": [
      "Name: \n",
      "Type: Graph\n",
      "Number of nodes: 6768\n",
      "Number of edges: 2509837\n",
      "Average degree: 741.6776\n",
      "Density: 0.10960212804386187\n"
     ]
    }
   ],
   "source": [
    "print(nx.info(scn_genus_projCol))\n",
    "print('Density:',nx.density(scn_genus_projCol))"
   ]
  },
  {
   "cell_type": "code",
   "execution_count": 16,
   "metadata": {},
   "outputs": [],
   "source": [
    "# Family aggregated SCN\n",
    "scn_family_projCol = scn_family.project('collectors',rule='cosine_similarity')"
   ]
  },
  {
   "cell_type": "code",
   "execution_count": 17,
   "metadata": {},
   "outputs": [
    {
     "name": "stdout",
     "output_type": "stream",
     "text": [
      "Name: \n",
      "Type: Graph\n",
      "Number of nodes: 6768\n",
      "Number of edges: 5431799\n",
      "Average degree: 1605.1415\n",
      "Density: 0.23720135192306147\n"
     ]
    }
   ],
   "source": [
    "print(nx.info(scn_family_projCol))\n",
    "print('Density:',nx.density(scn_family_projCol))"
   ]
  },
  {
   "cell_type": "markdown",
   "metadata": {},
   "source": [
    "### Species projections"
   ]
  },
  {
   "cell_type": "markdown",
   "metadata": {},
   "source": [
    "Non-aggregated SCN species projections have lower density than their aggregated counterparts, although the number of nodes (and specially edges) is much greater. Thus, they become computationally hard to deal with.\n",
    "\n",
    "The number of nodes and edges in SCN species projections aggregated on higher ranks are reduced, although the network density increases, making it harder to obtain relevant relationships without filtering."
   ]
  },
  {
   "cell_type": "code",
   "execution_count": 18,
   "metadata": {},
   "outputs": [],
   "source": [
    "# Non-aggregated SCN\n",
    "scn_projSp = scn.project('species',rule='cosine_similarity')"
   ]
  },
  {
   "cell_type": "code",
   "execution_count": 19,
   "metadata": {},
   "outputs": [
    {
     "name": "stdout",
     "output_type": "stream",
     "text": [
      "Name: \n",
      "Type: Graph\n",
      "Number of nodes: 15344\n",
      "Number of edges: 19482923\n",
      "Average degree: 2539.4842\n",
      "Density: 0.1655141907295104\n"
     ]
    }
   ],
   "source": [
    "print(nx.info(scn_projSp))\n",
    "print('Density:',nx.density(scn_projSp))"
   ]
  },
  {
   "cell_type": "code",
   "execution_count": 20,
   "metadata": {},
   "outputs": [],
   "source": [
    "# Genus aggregated SCN\n",
    "scn_genus_projSp = scn_genus.project('species',rule='cosine_similarity')"
   ]
  },
  {
   "cell_type": "code",
   "execution_count": 21,
   "metadata": {},
   "outputs": [
    {
     "name": "stdout",
     "output_type": "stream",
     "text": [
      "Name: \n",
      "Type: Graph\n",
      "Number of nodes: 3169\n",
      "Number of edges: 1188065\n",
      "Average degree: 749.8044\n",
      "Density: 0.23668066751452677\n"
     ]
    }
   ],
   "source": [
    "print(nx.info(scn_genus_projSp))\n",
    "print('Density:',nx.density(scn_genus_projSp))"
   ]
  },
  {
   "cell_type": "code",
   "execution_count": 22,
   "metadata": {},
   "outputs": [],
   "source": [
    "# Family aggregated SCN\n",
    "scn_family_projSp = scn_family.project('species',rule='cosine_similarity')"
   ]
  },
  {
   "cell_type": "code",
   "execution_count": 23,
   "metadata": {},
   "outputs": [
    {
     "name": "stdout",
     "output_type": "stream",
     "text": [
      "Name: \n",
      "Type: Graph\n",
      "Number of nodes: 474\n",
      "Number of edges: 43756\n",
      "Average degree: 184.6245\n",
      "Density: 0.39032658049437563\n"
     ]
    }
   ],
   "source": [
    "print(nx.info(scn_family_projSp))\n",
    "print('Density:',nx.density(scn_family_projSp))"
   ]
  },
  {
   "cell_type": "markdown",
   "metadata": {},
   "source": [
    "---"
   ]
  },
  {
   "cell_type": "markdown",
   "metadata": {},
   "source": [
    "## Threshold vs. Density (family vs genus aggregations)"
   ]
  },
  {
   "cell_type": "markdown",
   "metadata": {},
   "source": [
    "### Collectors projections"
   ]
  },
  {
   "cell_type": "code",
   "execution_count": 24,
   "metadata": {},
   "outputs": [],
   "source": [
    "m_scn_family_projCol = nx.adjacency_matrix(scn_family_projCol)\n",
    "m_scn_genus_projCol = nx.adjacency_matrix(scn_genus_projCol)\n",
    "m_scn_noagg_projCol = nx.adjacency_matrix(scn_projCol)"
   ]
  },
  {
   "cell_type": "code",
   "execution_count": 25,
   "metadata": {},
   "outputs": [],
   "source": [
    "calculateDensity = lambda m: len(m.data)/np.prod(m.shape) # calculates the density of a sparse matrix\n",
    "\n",
    "from copy import deepcopy\n",
    "def filterMatrix(m,thresh):\n",
    "    # Filters a sparse matrix given a threshold \n",
    "    m_filtered = deepcopy(m)\n",
    "    m_filtered.data = np.where(m_filtered.data >= thresh, m_filtered.data, 0)\n",
    "    m_filtered.eliminate_zeros()\n",
    "    return m_filtered"
   ]
  },
  {
   "cell_type": "code",
   "execution_count": 26,
   "metadata": {},
   "outputs": [],
   "source": [
    "# X = np.logspace(-3,0) # threshold values increasing in a log scale\n",
    "X = np.linspace(0,1,35) # threshold values increasing in a linear scale\n",
    "y_noagg = np.array( [ calculateDensity(filterMatrix(m_scn_noagg_projCol,thresh)) for thresh in X ] )\n",
    "y_genus = np.array( [ calculateDensity(filterMatrix(m_scn_genus_projCol,thresh)) for thresh in X ] )\n",
    "y_family = np.array( [ calculateDensity(filterMatrix(m_scn_family_projCol,thresh)) for thresh in X ] )"
   ]
  },
  {
   "cell_type": "code",
   "execution_count": 32,
   "metadata": {},
   "outputs": [
    {
     "data": {
      "image/png": "[encoded data removed]",
      "text/plain": [
       "<Figure size 720x432 with 1 Axes>"
      ]
     },
     "metadata": {},
     "output_type": "display_data"
    }
   ],
   "source": [
    "plt.plot(X,y_family, 'x', ls='--', markerfacecolor='none', label='SCN aggregated by family',markersize=10,lw=1)\n",
    "plt.plot(X,y_genus, '+', ls='--', markerfacecolor='none', label='SCN aggregated by genus', markersize=10,lw=1)\n",
    "plt.plot(X,y_noagg, 'o', ls='--', markerfacecolor='none', label='SCN', markersize=10,lw=1)\n",
    "\n",
    "plt.yscale('log')\n",
    "\n",
    "plt.legend()\n",
    "plt.xlabel('Filter threshold $\\phi$')\n",
    "plt.ylabel('Network Density')\n",
    "plt.savefig('filter_thresh_col.pdf', dpi=92, bbox_inches='tight')"
   ]
  },
  {
   "cell_type": "markdown",
   "metadata": {},
   "source": [
    "From the figure above we can detect a peak of density decayment around threshold value of $0.7$.\n",
    "\n",
    "Especially for non-aggregated SCN, density decays faster for threshold values between $0$ and $0.4$. This is not apparent in the SCN aggregated by family (decays exponentially)."
   ]
  },
  {
   "cell_type": "markdown",
   "metadata": {},
   "source": [
    "### Species projection"
   ]
  },
  {
   "cell_type": "code",
   "execution_count": null,
   "metadata": {},
   "outputs": [],
   "source": [
    "m_scn_family_projSp = nx.adjacency_matrix(scn_family_projSp)\n",
    "m_scn_genus_projSp = nx.adjacency_matrix(scn_genus_projSp)\n",
    "m_scn_noagg_projSp = nx.adjacency_matrix(scn_projSp)"
   ]
  },
  {
   "cell_type": "code",
   "execution_count": null,
   "metadata": {},
   "outputs": [],
   "source": [
    "X = np.linspace(0,1,35) # threshold values increasing in a linear scale\n",
    "y_noagg = np.array( [ calculateDensity(filterMatrix(m_scn_noagg_projSp,thresh)) for thresh in X ] )\n",
    "y_genus = np.array( [ calculateDensity(filterMatrix(m_scn_genus_projSp,thresh)) for thresh in X ] )\n",
    "y_family = np.array( [ calculateDensity(filterMatrix(m_scn_family_projSp,thresh)) for thresh in X ] )"
   ]
  },
  {
   "cell_type": "code",
   "execution_count": null,
   "metadata": {},
   "outputs": [],
   "source": [
    "plt.plot(X,y_family, 'x', ls='--', markerfacecolor='none', label='SCN aggregated by family',markersize=10,lw=1)\n",
    "plt.plot(X,y_genus, '+', ls='--', markerfacecolor='none', label='SCN aggregated by genus', markersize=10,lw=1)\n",
    "plt.plot(X,y_noagg, 'o', ls='--', markerfacecolor='none', label='SCN', markersize=10,lw=1)\n",
    "\n",
    "plt.yscale('log')\n",
    "\n",
    "plt.legend()\n",
    "plt.xlabel('Filter threshold $\\phi$')\n",
    "plt.ylabel('Network Density')\n",
    "plt.savefig('filter_thresh_sp.pdf', dpi=92, bbox_inches='tight')"
   ]
  },
  {
   "cell_type": "markdown",
   "metadata": {},
   "source": [
    "---"
   ]
  },
  {
   "cell_type": "markdown",
   "metadata": {},
   "source": [
    "## SCN $S_{col}$ projection: Looking at the graph"
   ]
  },
  {
   "cell_type": "markdown",
   "metadata": {},
   "source": [
    "We improve the visualization by doing the following routine:\n",
    "* We start with a `scn_family` aggregation;\n",
    "* Filter out edges with count < 20 and then remove isolated nodes (k=0);\n",
    "* Get the projection with similarity threshold of 0.8;\n",
    "* Obtain subgraphs, and filter out those with less than 500 records.\n"
   ]
  },
  {
   "cell_type": "code",
   "execution_count": 5,
   "metadata": {},
   "outputs": [],
   "source": [
    "scn_family = scn.taxonomicAggregation( dict( occs[['family','species']].groupby('family').apply(lambda g: set(g['species'])) ) )"
   ]
  },
  {
   "cell_type": "code",
   "execution_count": 45,
   "metadata": {},
   "outputs": [],
   "source": [
    "scn_family.remove_edges_from([ (u,v) for u,v,cnt in scn_family.edges(data='count') if cnt<20 ])\n",
    "scn_family.remove_nodes_from( [ n for n,k in scn_family.degree() if k==0 ] )"
   ]
  },
  {
   "cell_type": "code",
   "execution_count": 46,
   "metadata": {},
   "outputs": [],
   "source": [
    "g=scn_family.project('collectors','cosine_similarity',thresh=0.8)"
   ]
  },
  {
   "cell_type": "code",
   "execution_count": 47,
   "metadata": {},
   "outputs": [
    {
     "name": "stdout",
     "output_type": "stream",
     "text": [
      "Name: \n",
      "Type: Graph\n",
      "Number of nodes: 515\n",
      "Number of edges: 8497\n",
      "Average degree:  32.9981\n"
     ]
    }
   ],
   "source": [
    "print(nx.info(g))"
   ]
  },
  {
   "cell_type": "code",
   "execution_count": 48,
   "metadata": {},
   "outputs": [],
   "source": [
    "score_component = lambda g: sum( cnt for n,cnt in g.nodes(data='count') )"
   ]
  },
  {
   "cell_type": "code",
   "execution_count": 49,
   "metadata": {},
   "outputs": [],
   "source": [
    "subgraphs = sorted([ (gr,score_component(gr)) for gr in nx.connected_component_subgraphs(g) ], key=lambda x:x[1], reverse=True)"
   ]
  },
  {
   "cell_type": "code",
   "execution_count": 50,
   "metadata": {},
   "outputs": [],
   "source": [
    "subgraphs = [ g for g, score in filter( lambda x: x[1]>=500, subgraphs) ]"
   ]
  },
  {
   "cell_type": "code",
   "execution_count": 51,
   "metadata": {},
   "outputs": [],
   "source": [
    "g = nx.compose_all(subgraphs)"
   ]
  },
  {
   "cell_type": "code",
   "execution_count": 52,
   "metadata": {},
   "outputs": [
    {
     "name": "stdout",
     "output_type": "stream",
     "text": [
      "Name: compose( ,  )\n",
      "Type: Graph\n",
      "Number of nodes: 457\n",
      "Number of edges: 8480\n",
      "Average degree:  37.1116\n"
     ]
    }
   ],
   "source": [
    "print(nx.info(g))"
   ]
  },
  {
   "cell_type": "markdown",
   "metadata": {},
   "source": [
    "## Communities"
   ]
  },
  {
   "cell_type": "code",
   "execution_count": 53,
   "metadata": {},
   "outputs": [],
   "source": [
    "import community"
   ]
  },
  {
   "cell_type": "code",
   "execution_count": 54,
   "metadata": {},
   "outputs": [],
   "source": [
    "parts = community.best_partition(g, resolution=1)"
   ]
  },
  {
   "cell_type": "code",
   "execution_count": 55,
   "metadata": {},
   "outputs": [],
   "source": [
    "nx.set_node_attributes(g,parts,'community')"
   ]
  },
  {
   "cell_type": "code",
   "execution_count": 26,
   "metadata": {},
   "outputs": [],
   "source": [
    "nx.write_gexf(g,os.path.join(graphsdir,'scn_family_projCol_communities.gexf'))"
   ]
  },
  {
   "cell_type": "markdown",
   "metadata": {},
   "source": [
    "### What is the families signature of each community?"
   ]
  },
  {
   "cell_type": "code",
   "execution_count": 56,
   "metadata": {},
   "outputs": [],
   "source": [
    "communities = set( com for n,com in g.nodes(data='community'))"
   ]
  },
  {
   "cell_type": "code",
   "execution_count": 57,
   "metadata": {},
   "outputs": [],
   "source": [
    "communities = [ (c, [n for n,c1 in g.nodes(data='community') if c1==c ] ) for c in communities ]"
   ]
  },
  {
   "cell_type": "code",
   "execution_count": 58,
   "metadata": {},
   "outputs": [],
   "source": [
    "def merge_dicts(dicts):\n",
    "    d_res = dict()\n",
    "    for dic in dicts:\n",
    "        for k in dic.keys():\n",
    "            d_res[k] = d_res.get(k,0) + dic[k]\n",
    "    return d_res\n",
    "\n",
    "def count_spp_per_collector(col):\n",
    "    spp,sprs = scn_family.getSpeciesBag(col)\n",
    "    counts = sprs.data\n",
    "    species = [spp[i] for i in sprs.indices]\n",
    "    return dict( i for i in zip(species,counts) ) \n",
    "\n",
    "def seriesPct(series):\n",
    "    tot = series.sum()\n",
    "    return series.apply(lambda x: x/tot)"
   ]
  },
  {
   "cell_type": "code",
   "execution_count": 59,
   "metadata": {},
   "outputs": [],
   "source": [
    "df = pd.DataFrame.from_dict( \n",
    "    dict((comm_id, merge_dicts([count_spp_per_collector(col) for col in comm_cols])) for comm_id, comm_cols in communities),\n",
    "    orient='index').fillna(0)\n",
    "\n",
    "df.index.name = 'Community'"
   ]
  },
  {
   "cell_type": "code",
   "execution_count": 150,
   "metadata": {},
   "outputs": [
    {
     "data": {
      "text/html": [
       "<div>\n",
       "<style scoped>\n",
       "    .dataframe tbody tr th:only-of-type {\n",
       "        vertical-align: middle;\n",
       "    }\n",
       "\n",
       "    .dataframe tbody tr th {\n",
       "        vertical-align: top;\n",
       "    }\n",
       "\n",
       "    .dataframe thead th {\n",
       "        text-align: right;\n",
       "    }\n",
       "</style>\n",
       "<table border=\"1\" class=\"dataframe\">\n",
       "  <thead>\n",
       "    <tr style=\"text-align: right;\">\n",
       "      <th></th>\n",
       "      <th>Asteraceae</th>\n",
       "      <th>Euphorbiaceae</th>\n",
       "      <th>Fabaceae</th>\n",
       "      <th>Arecaceae</th>\n",
       "      <th>Lythraceae</th>\n",
       "      <th>Myrtaceae</th>\n",
       "      <th>Cyperaceae</th>\n",
       "      <th>Oxalidaceae</th>\n",
       "      <th>Rubiaceae</th>\n",
       "      <th>Melastomataceae</th>\n",
       "      <th>...</th>\n",
       "      <th>Parmeliaceae</th>\n",
       "      <th>Physciaceae</th>\n",
       "      <th>Pinnulariaceae</th>\n",
       "      <th>Pleurosigmataceae</th>\n",
       "      <th>Sellaphoraceae</th>\n",
       "      <th>Stauroneidaceae</th>\n",
       "      <th>Stephanodiscaceae</th>\n",
       "      <th>Surirellaceae</th>\n",
       "      <th>Closteriaceae</th>\n",
       "      <th>Splachnobryaceae</th>\n",
       "    </tr>\n",
       "    <tr>\n",
       "      <th>Community</th>\n",
       "      <th></th>\n",
       "      <th></th>\n",
       "      <th></th>\n",
       "      <th></th>\n",
       "      <th></th>\n",
       "      <th></th>\n",
       "      <th></th>\n",
       "      <th></th>\n",
       "      <th></th>\n",
       "      <th></th>\n",
       "      <th></th>\n",
       "      <th></th>\n",
       "      <th></th>\n",
       "      <th></th>\n",
       "      <th></th>\n",
       "      <th></th>\n",
       "      <th></th>\n",
       "      <th></th>\n",
       "      <th></th>\n",
       "      <th></th>\n",
       "      <th></th>\n",
       "    </tr>\n",
       "  </thead>\n",
       "  <tbody>\n",
       "    <tr>\n",
       "      <th>0</th>\n",
       "      <td>3714.0</td>\n",
       "      <td>20.0</td>\n",
       "      <td>466.0</td>\n",
       "      <td>22.0</td>\n",
       "      <td>20.0</td>\n",
       "      <td>155.0</td>\n",
       "      <td>147.0</td>\n",
       "      <td>30.0</td>\n",
       "      <td>143.0</td>\n",
       "      <td>268.0</td>\n",
       "      <td>...</td>\n",
       "      <td>0.0</td>\n",
       "      <td>0.0</td>\n",
       "      <td>0.0</td>\n",
       "      <td>0.0</td>\n",
       "      <td>0.0</td>\n",
       "      <td>0.0</td>\n",
       "      <td>0.0</td>\n",
       "      <td>0.0</td>\n",
       "      <td>0.0</td>\n",
       "      <td>0.0</td>\n",
       "    </tr>\n",
       "    <tr>\n",
       "      <th>1</th>\n",
       "      <td>270.0</td>\n",
       "      <td>117.0</td>\n",
       "      <td>506.0</td>\n",
       "      <td>0.0</td>\n",
       "      <td>0.0</td>\n",
       "      <td>97.0</td>\n",
       "      <td>2583.0</td>\n",
       "      <td>369.0</td>\n",
       "      <td>206.0</td>\n",
       "      <td>105.0</td>\n",
       "      <td>...</td>\n",
       "      <td>0.0</td>\n",
       "      <td>0.0</td>\n",
       "      <td>0.0</td>\n",
       "      <td>0.0</td>\n",
       "      <td>0.0</td>\n",
       "      <td>0.0</td>\n",
       "      <td>0.0</td>\n",
       "      <td>0.0</td>\n",
       "      <td>0.0</td>\n",
       "      <td>0.0</td>\n",
       "    </tr>\n",
       "    <tr>\n",
       "      <th>2</th>\n",
       "      <td>256.0</td>\n",
       "      <td>81.0</td>\n",
       "      <td>3176.0</td>\n",
       "      <td>0.0</td>\n",
       "      <td>0.0</td>\n",
       "      <td>466.0</td>\n",
       "      <td>67.0</td>\n",
       "      <td>0.0</td>\n",
       "      <td>325.0</td>\n",
       "      <td>150.0</td>\n",
       "      <td>...</td>\n",
       "      <td>0.0</td>\n",
       "      <td>0.0</td>\n",
       "      <td>0.0</td>\n",
       "      <td>0.0</td>\n",
       "      <td>0.0</td>\n",
       "      <td>0.0</td>\n",
       "      <td>0.0</td>\n",
       "      <td>0.0</td>\n",
       "      <td>0.0</td>\n",
       "      <td>0.0</td>\n",
       "    </tr>\n",
       "    <tr>\n",
       "      <th>3</th>\n",
       "      <td>881.0</td>\n",
       "      <td>118.0</td>\n",
       "      <td>824.0</td>\n",
       "      <td>0.0</td>\n",
       "      <td>131.0</td>\n",
       "      <td>302.0</td>\n",
       "      <td>1465.0</td>\n",
       "      <td>0.0</td>\n",
       "      <td>309.0</td>\n",
       "      <td>619.0</td>\n",
       "      <td>...</td>\n",
       "      <td>0.0</td>\n",
       "      <td>0.0</td>\n",
       "      <td>0.0</td>\n",
       "      <td>0.0</td>\n",
       "      <td>0.0</td>\n",
       "      <td>0.0</td>\n",
       "      <td>0.0</td>\n",
       "      <td>0.0</td>\n",
       "      <td>0.0</td>\n",
       "      <td>0.0</td>\n",
       "    </tr>\n",
       "    <tr>\n",
       "      <th>4</th>\n",
       "      <td>490.0</td>\n",
       "      <td>96.0</td>\n",
       "      <td>878.0</td>\n",
       "      <td>27.0</td>\n",
       "      <td>93.0</td>\n",
       "      <td>7023.0</td>\n",
       "      <td>59.0</td>\n",
       "      <td>0.0</td>\n",
       "      <td>290.0</td>\n",
       "      <td>150.0</td>\n",
       "      <td>...</td>\n",
       "      <td>0.0</td>\n",
       "      <td>0.0</td>\n",
       "      <td>0.0</td>\n",
       "      <td>0.0</td>\n",
       "      <td>0.0</td>\n",
       "      <td>0.0</td>\n",
       "      <td>0.0</td>\n",
       "      <td>0.0</td>\n",
       "      <td>0.0</td>\n",
       "      <td>0.0</td>\n",
       "    </tr>\n",
       "  </tbody>\n",
       "</table>\n",
       "<p>5 rows × 161 columns</p>\n",
       "</div>"
      ],
      "text/plain": [
       "           Asteraceae  Euphorbiaceae  Fabaceae  Arecaceae  Lythraceae  \\\n",
       "Community                                                               \n",
       "0              3714.0           20.0     466.0       22.0        20.0   \n",
       "1               270.0          117.0     506.0        0.0         0.0   \n",
       "2               256.0           81.0    3176.0        0.0         0.0   \n",
       "3               881.0          118.0     824.0        0.0       131.0   \n",
       "4               490.0           96.0     878.0       27.0        93.0   \n",
       "\n",
       "           Myrtaceae  Cyperaceae  Oxalidaceae  Rubiaceae  Melastomataceae  \\\n",
       "Community                                                                   \n",
       "0              155.0       147.0         30.0      143.0            268.0   \n",
       "1               97.0      2583.0        369.0      206.0            105.0   \n",
       "2              466.0        67.0          0.0      325.0            150.0   \n",
       "3              302.0      1465.0          0.0      309.0            619.0   \n",
       "4             7023.0        59.0          0.0      290.0            150.0   \n",
       "\n",
       "                 ...         Parmeliaceae  Physciaceae  Pinnulariaceae  \\\n",
       "Community        ...                                                     \n",
       "0                ...                  0.0          0.0             0.0   \n",
       "1                ...                  0.0          0.0             0.0   \n",
       "2                ...                  0.0          0.0             0.0   \n",
       "3                ...                  0.0          0.0             0.0   \n",
       "4                ...                  0.0          0.0             0.0   \n",
       "\n",
       "           Pleurosigmataceae  Sellaphoraceae  Stauroneidaceae  \\\n",
       "Community                                                       \n",
       "0                        0.0             0.0              0.0   \n",
       "1                        0.0             0.0              0.0   \n",
       "2                        0.0             0.0              0.0   \n",
       "3                        0.0             0.0              0.0   \n",
       "4                        0.0             0.0              0.0   \n",
       "\n",
       "           Stephanodiscaceae  Surirellaceae  Closteriaceae  Splachnobryaceae  \n",
       "Community                                                                     \n",
       "0                        0.0            0.0            0.0               0.0  \n",
       "1                        0.0            0.0            0.0               0.0  \n",
       "2                        0.0            0.0            0.0               0.0  \n",
       "3                        0.0            0.0            0.0               0.0  \n",
       "4                        0.0            0.0            0.0               0.0  \n",
       "\n",
       "[5 rows x 161 columns]"
      ]
     },
     "execution_count": 150,
     "metadata": {},
     "output_type": "execute_result"
    }
   ],
   "source": [
    "df.head()"
   ]
  },
  {
   "cell_type": "code",
   "execution_count": 156,
   "metadata": {},
   "outputs": [],
   "source": [
    "comm_taxa_comp = dict( (comm,seriesPct(df.loc[comm]).sort_values(ascending=False)) for comm in df.index )"
   ]
  },
  {
   "cell_type": "code",
   "execution_count": 181,
   "metadata": {},
   "outputs": [
    {
     "name": "stdout",
     "output_type": "stream",
     "text": [
      "------------\n",
      "Community 0:\n",
      "    Asteraceae: 72.72%\n",
      "    Fabaceae: 9.12%\n",
      "    Melastomataceae: 5.25%\n",
      "    Myrtaceae: 3.04%\n",
      "    Cyperaceae: 2.88%\n",
      "    OTHERS: 6.99%\n",
      "------------\n",
      "Community 1:\n",
      "    Cyperaceae: 50.43%\n",
      "    Fabaceae: 9.88%\n",
      "    Oxalidaceae: 7.20%\n",
      "    Asteraceae: 5.27%\n",
      "    Poaceae: 5.08%\n",
      "    OTHERS: 22.14%\n",
      "------------\n",
      "Community 2:\n",
      "    Fabaceae: 58.85%\n",
      "    Myrtaceae: 8.63%\n",
      "    Rubiaceae: 6.02%\n",
      "    Asteraceae: 4.74%\n",
      "    Bignoniaceae: 2.95%\n",
      "    OTHERS: 18.81%\n",
      "------------\n",
      "Community 3:\n",
      "    Poaceae: 40.43%\n",
      "    Cyperaceae: 12.54%\n",
      "    Asteraceae: 7.54%\n",
      "    Fabaceae: 7.05%\n",
      "    Eriocaulaceae: 5.86%\n",
      "    OTHERS: 26.57%\n",
      "------------\n",
      "Community 4:\n",
      "    Myrtaceae: 61.99%\n",
      "    Fabaceae: 7.75%\n",
      "    Asteraceae: 4.32%\n",
      "    Poaceae: 3.47%\n",
      "    Bignoniaceae: 3.43%\n",
      "    OTHERS: 19.04%\n",
      "------------\n",
      "Community 5:\n",
      "    Rubiaceae: 82.72%\n",
      "    Myrtaceae: 4.63%\n",
      "    Fabaceae: 3.02%\n",
      "    Solanaceae: 1.93%\n",
      "    Cyperaceae: 1.77%\n",
      "    OTHERS: 5.92%\n",
      "------------\n",
      "Community 6:\n",
      "    Fabaceae: 18.79%\n",
      "    Rubiaceae: 10.10%\n",
      "    Myrtaceae: 8.44%\n",
      "    Asteraceae: 7.88%\n",
      "    Melastomataceae: 4.64%\n",
      "    OTHERS: 50.16%\n",
      "------------\n",
      "Community 7:\n",
      "    Sematophyllaceae: 26.79%\n",
      "    Hypnaceae: 15.96%\n",
      "    Dicranaceae: 13.85%\n",
      "    Calymperaceae: 4.65%\n",
      "    Piperaceae: 3.58%\n",
      "    OTHERS: 35.17%\n",
      "------------\n",
      "Community 8:\n",
      "    Desmidiaceae: 31.40%\n",
      "    Scenedesmaceae: 18.91%\n",
      "    Chlorellaceae: 9.68%\n",
      "    Euglenaceae: 5.98%\n",
      "    Hydrodictyaceae: 5.89%\n",
      "    OTHERS: 28.14%\n",
      "------------\n",
      "Community 9:\n",
      "    Eunotiaceae: 35.39%\n",
      "    Naviculaceae: 15.21%\n",
      "    Pinnulariaceae: 11.24%\n",
      "    Cymbellaceae: 6.91%\n",
      "    Amphipleuraceae: 4.06%\n",
      "    OTHERS: 27.20%\n",
      "------------\n",
      "Community 10:\n",
      "    Desmidiaceae: 97.50%\n",
      "    Closteriaceae: 2.50%\n",
      "    Celastraceae: 0.00%\n",
      "    Araliaceae: 0.00%\n",
      "    Amaranthaceae: 0.00%\n",
      "------------\n",
      "Community 11:\n",
      "    Poaceae: 14.29%\n",
      "    Fabaceae: 13.19%\n",
      "    Santalaceae: 11.09%\n",
      "    Asteraceae: 8.82%\n",
      "    Myrtaceae: 6.47%\n",
      "    OTHERS: 46.13%\n",
      "------------\n",
      "Community 12:\n",
      "    Amblystegiaceae: 63.62%\n",
      "    Polytrichaceae: 22.62%\n",
      "    Dicranaceae: 10.41%\n",
      "    Bryaceae: 3.34%\n",
      "    Erythroxylaceae: 0.00%\n",
      "------------\n",
      "Community 13:\n",
      "    Orchidaceae: 73.56%\n",
      "    Myrtaceae: 9.81%\n",
      "    Araceae: 7.18%\n",
      "    Fabaceae: 5.25%\n",
      "    Melastomataceae: 4.20%\n",
      "------------\n",
      "Community 14:\n",
      "    Santalaceae: 34.50%\n",
      "    Loranthaceae: 17.43%\n",
      "    Myrtaceae: 13.39%\n",
      "    Fabaceae: 10.46%\n",
      "    Anacardiaceae: 6.97%\n",
      "    OTHERS: 17.25%\n",
      "------------\n",
      "Community 15:\n",
      "    Melastomataceae: 100.00%\n",
      "    Dryopteridaceae: 0.00%\n",
      "    Blechnaceae: 0.00%\n",
      "    Araliaceae: 0.00%\n",
      "    Amaranthaceae: 0.00%\n",
      "------------\n",
      "Community 16:\n",
      "    Fissidentaceae: 53.24%\n",
      "    Calymperaceae: 17.31%\n",
      "    Pottiaceae: 16.83%\n",
      "    Lejeuneaceae: 4.69%\n",
      "    Bryaceae: 4.05%\n",
      "    OTHERS: 3.88%\n",
      "------------\n",
      "Community 17:\n",
      "    Rubiaceae: 20.51%\n",
      "    Fabaceae: 18.80%\n",
      "    Dicranaceae: 16.24%\n",
      "    Cyperaceae: 13.68%\n",
      "    Lamiaceae: 11.97%\n",
      "    OTHERS: 18.80%\n",
      "------------\n",
      "Community 18:\n",
      "    Arecaceae: 36.07%\n",
      "    Myrtaceae: 25.37%\n",
      "    Fabaceae: 15.42%\n",
      "    Asteraceae: 10.95%\n",
      "    Bignoniaceae: 6.22%\n",
      "    OTHERS: 5.97%\n",
      "------------\n",
      "Community 19:\n",
      "    Calophyllaceae: 38.10%\n",
      "    Fabaceae: 28.14%\n",
      "    Asteraceae: 23.81%\n",
      "    Malpighiaceae: 9.96%\n",
      "    Lentibulariaceae: 0.00%\n"
     ]
    }
   ],
   "source": [
    "for comm,taxaSeries in comm_taxa_comp.items():\n",
    "    print(\"------------\")\n",
    "    print(\"Community \"+str(comm)+\":\")\n",
    "    for taxon,pct in taxaSeries[:5].items():\n",
    "        print(\"    {}: {:.2%}\".format(taxon,pct))\n",
    "    others = sum(taxaSeries[5:])\n",
    "    if others > 0:\n",
    "        print(\"    OTHERS: {:.2%}\".format(others))\n",
    "        "
   ]
  },
  {
   "cell_type": "markdown",
   "metadata": {},
   "source": [
    "---"
   ]
  },
  {
   "cell_type": "markdown",
   "metadata": {},
   "source": [
    "## SCN $S_{sp}$ projection"
   ]
  },
  {
   "cell_type": "markdown",
   "metadata": {},
   "source": [
    "We improve the visualization by doing the following routine:\n",
    "* We start with a `scn_family` aggregation;\n",
    "* Filter out edges with count < 20 and then remove isolated nodes (k=0);\n",
    "* Get the projection with similarity threshold of 0.8;\n",
    "* Obtain subgraphs, and filter out those with less than 600 records.\n"
   ]
  },
  {
   "cell_type": "code",
   "execution_count": 35,
   "metadata": {},
   "outputs": [],
   "source": [
    "g=scn_family.project('species','cosine_similarity',thresh=0.8)"
   ]
  },
  {
   "cell_type": "code",
   "execution_count": 36,
   "metadata": {},
   "outputs": [
    {
     "name": "stdout",
     "output_type": "stream",
     "text": [
      "Name: \n",
      "Type: Graph\n",
      "Number of nodes: 474\n",
      "Number of edges: 1290\n",
      "Average degree:   5.4430\n"
     ]
    }
   ],
   "source": [
    "print(nx.info(g))"
   ]
  },
  {
   "cell_type": "code",
   "execution_count": 37,
   "metadata": {},
   "outputs": [],
   "source": [
    "score_component = lambda g: sum( cnt for n,cnt in g.nodes(data='count') )"
   ]
  },
  {
   "cell_type": "code",
   "execution_count": 38,
   "metadata": {},
   "outputs": [],
   "source": [
    "subgraphs = sorted([ (gr,score_component(gr)) for gr in nx.connected_component_subgraphs(g) ], key=lambda x:x[1], reverse=True)"
   ]
  },
  {
   "cell_type": "code",
   "execution_count": 39,
   "metadata": {},
   "outputs": [],
   "source": [
    "subgraphs = [ g for g, score in filter( lambda x: x[1]>=600, subgraphs) ]"
   ]
  },
  {
   "cell_type": "code",
   "execution_count": 40,
   "metadata": {},
   "outputs": [],
   "source": [
    "g = nx.compose_all(subgraphs)"
   ]
  },
  {
   "cell_type": "markdown",
   "metadata": {},
   "source": [
    "### Communities"
   ]
  },
  {
   "cell_type": "code",
   "execution_count": 41,
   "metadata": {},
   "outputs": [],
   "source": [
    "parts = community.best_partition(g, resolution=1)"
   ]
  },
  {
   "cell_type": "code",
   "execution_count": 42,
   "metadata": {},
   "outputs": [],
   "source": [
    "nx.set_node_attributes(g,parts,'community')"
   ]
  },
  {
   "cell_type": "code",
   "execution_count": 43,
   "metadata": {},
   "outputs": [],
   "source": [
    "nx.write_gexf(g,os.path.join(graphsdir,'scn_family_projSp_communities.gexf'))"
   ]
  }
 ],
 "metadata": {
  "kernelspec": {
   "display_name": "Python 3",
   "language": "python",
   "name": "python3"
  },
  "language_info": {
   "codemirror_mode": {
    "name": "ipython",
    "version": 3
   },
   "file_extension": ".py",
   "mimetype": "text/x-python",
   "name": "python",
   "nbconvert_exporter": "python",
   "pygments_lexer": "ipython3",
   "version": "3.6.5"
  }
 },
 "nbformat": 4,
 "nbformat_minor": 2
}
