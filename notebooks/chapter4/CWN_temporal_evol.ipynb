{
 "cells": [
  {
   "cell_type": "markdown",
   "metadata": {},
   "source": [
    "# CWN temporal evolution"
   ]
  },
  {
   "cell_type": "markdown",
   "metadata": {},
   "source": [
    "* In this notebook a set of frames is generated for the ego network of a collector (Munhoz, CBR)"
   ]
  },
  {
   "cell_type": "code",
   "execution_count": 1,
   "metadata": {},
   "outputs": [],
   "source": [
    "# Setting paths\n",
    "import sys,os\n",
    "import pathlib\n",
    "sys.path.insert(0,os.path.expanduser('~/caryocar'))\n",
    "sys.path.insert(0,os.path.abspath('..'))"
   ]
  },
  {
   "cell_type": "code",
   "execution_count": 2,
   "metadata": {},
   "outputs": [],
   "source": [
    "# Building the networks from data\n",
    "from setupmodels import *"
   ]
  },
  {
   "cell_type": "code",
   "execution_count": 3,
   "metadata": {},
   "outputs": [],
   "source": [
    "import numpy as np\n",
    "import pandas as pd\n",
    "import networkx as nx\n",
    "import matplotlib as mpl\n",
    "import seaborn as sns\n",
    "import scipy as scp \n",
    "\n",
    "import matplotlib.pyplot as plt\n",
    "\n",
    "from collections import Counter\n",
    "\n",
    "mpl.rcParams.update(mpl.rcParamsDefault)\n",
    "plt.style.use('seaborn-paper')\n",
    "sns.set_color_codes('deep')"
   ]
  },
  {
   "cell_type": "code",
   "execution_count": 4,
   "metadata": {},
   "outputs": [],
   "source": [
    "# plot style params\n",
    "sns.set_color_codes('deep')\n",
    "plt.rc('figure', figsize=(8,5))"
   ]
  },
  {
   "cell_type": "markdown",
   "metadata": {},
   "source": [
    "---"
   ]
  },
  {
   "cell_type": "code",
   "execution_count": 108,
   "metadata": {},
   "outputs": [],
   "source": [
    "# Globals\n",
    "OCCS = occs # occurrences\n",
    "CWN = cwn # the entire CWN \n",
    "NI = ni # names index\n",
    "NM = nm # names map\n",
    "\n",
    "# Global pd Series\n",
    "RECORDS_DATES = pd.to_datetime(OCCS['eventDate']).sort_values() # dataset with row ids and event dates\n",
    "RECORDS_DATES.index.name='id'\n",
    "\n",
    "TEAMS_TS = OCCS.set_index(['eventDate'])\n",
    "TEAMS_TS.sort_index(inplace=True)\n",
    "TEAMS_TS = TEAMS_TS['recordedBy_atomized']\n",
    "\n",
    "# Helper expressions\n",
    "count_records_upto = lambda year, col: (RECORDS_DATES[NI[col]].dropna()<=str(year)).sum()"
   ]
  },
  {
   "cell_type": "code",
   "execution_count": 132,
   "metadata": {},
   "outputs": [],
   "source": [
    "def buildCWN(collectorsSet, yearsSlice, central_collector=None, collaborations_only=False):\n",
    "    cwn = CoworkingNetwork(cliques=TEAMS_TS[yearsSlice], namesMap= NM)\n",
    "    cwn.remove_nodes_from( set(cwn.nodes())-set(collectorsSet) )\n",
    "    \n",
    "    # Only include collectors who collaborated with the central collectors (if passed)\n",
    "    if central_collector is not None and collaborations_only==True:\n",
    "        try:\n",
    "            to_remove = set(collectorsSet) -  set(cwn[central_collector]) - {central_collector} \n",
    "            cwn.remove_nodes_from(to_remove)\n",
    "        except KeyError: # In case the central collector is not passed\n",
    "            cwn.remove_nodes_from(collectorsSet)\n",
    "    \n",
    "    return cwn"
   ]
  },
  {
   "cell_type": "code",
   "execution_count": 401,
   "metadata": {},
   "outputs": [],
   "source": [
    "def buildFramesData( collectors, yearsSlices, central_collector=None, collaborations_only=False ):\n",
    "    framesData = dict()\n",
    "    \n",
    "    for i, ySlice in enumerate(yearsSlices):\n",
    "        framesData[i] = dict()\n",
    "        framesData[i]['years'] = ySlice\n",
    "        cwn = buildCWN( collectors, ySlice, central_collector, collaborations_only )\n",
    "        nx.set_node_attributes( cwn, dict( (n,count_records_upto(ySlice.stop, n)) for n in cwn.nodes() ),'count' )\n",
    "        framesData[i]['cwn'] = cwn\n",
    "        framesData[i]['central_collector']=central_collector\n",
    "    \n",
    "    return framesData"
   ]
  },
  {
   "cell_type": "code",
   "execution_count": 420,
   "metadata": {},
   "outputs": [],
   "source": [
    "def renderFrame(  i, fdata,pos,axis=None ):\n",
    "    \n",
    "    # define min and max x and y\n",
    "    xs, ys = list(zip(*pos.values()))\n",
    "    minx, maxx, miny, maxy =  min(xs), max(xs), min(ys), max(ys)\n",
    "    \n",
    "    # render the frame\n",
    "    plt.figure(figsize=(10,10))\n",
    "    plt.axis('off')\n",
    "    cwn = fdata['cwn']\n",
    "    if len(cwn.nodes)>0: # Plot nodes if there are nodes to plot\n",
    "        nodes,nodesizes = zip(*[ node_size for node_size in cwn.nodes(data='count') ])\n",
    "        nodecolors = [ 'b' if fdata['central_collector']==n else 'r' for n in nodes ]\n",
    "        rescale = lambda x: 0.5*x\n",
    "        nx.draw_networkx_nodes(cwn,pos,nodelist=nodes,node_size=list(map(rescale,nodesizes)),node_color=nodecolors, alpha=0.5,ax=axis)\n",
    "        nx.draw_networkx_labels(cwn,pos,labels=dict( (n,n) for n,cnt in cwn.nodes(data='count') if cnt>50), ax=axis)\n",
    "\n",
    "    if len(cwn.edges)>0: # Plot edges if there are edges to plot\n",
    "        edges,edgesizes = zip(*[ ((u,v),size) for u,v,size in cwn.edges(data='weight_hyperbolic') ])\n",
    "        rescale = lambda x: 0.01*x\n",
    "        nx.draw_networkx_edges(cwn,pos,edgelist=edges, width=list(map(rescale,edgesizes)),ax=axis )\n",
    "\n",
    "\n",
    "    if axis is not None:\n",
    "        axis.set_xlim((minx-0.1,maxx+0.1))\n",
    "        axis.set_ylim((miny-0.1,maxy+0.1))\n",
    "        axis.set_title('{} - {}'.format(fdata['years'].start, fdata['years'].stop),pad=-20, size=16)\n",
    "        axis.get_xaxis().set_visible(False)\n",
    "        axis.get_yaxis().set_visible(False)\n",
    "        \n",
    "    else:\n",
    "        plt.xlim((minx-0.1,maxx+0.1))\n",
    "        plt.ylim((miny-0.1,maxy+0.1))\n",
    "        plt.title('{} - {}'.format(fdata['years'].start, fdata['years'].stop))\n",
    "        plt.savefig(f'anim/frame{i}.png')\n",
    "    \n",
    "    return # return the ax"
   ]
  },
  {
   "cell_type": "code",
   "execution_count": 403,
   "metadata": {},
   "outputs": [],
   "source": [
    "def renderFrames( pos, collectors, yearsSlices, central_collector=None, collaborations_only=False ):\n",
    "    framesData = buildFramesData(collectors, yearsSlices, central_collector, collaborations_only)\n",
    "    \n",
    "    f, axes = plt.subplots(nrows=4, ncols=2, figsize=(20,40))\n",
    "    f.subplots_adjust(wspace=5e-5)\n",
    "    f.subplots_adjust(hspace=5e-5)\n",
    "    axes = [ ax for axs in axes for ax in axs]\n",
    "    # make frames\n",
    "    for i,fdata in framesData.items():\n",
    "        renderFrame(i,fdata,pos,axes[i]) # do not pass axis if to be rendered as frames\n",
    "        \n",
    "    return f"
   ]
  },
  {
   "cell_type": "code",
   "execution_count": 412,
   "metadata": {},
   "outputs": [],
   "source": [
    "def collectorEvolution( collector, freq='A', min_year=None, max_year=None ):\n",
    "    \n",
    "    central_node = collector\n",
    "    egoNet = nx.ego_graph(CWN, central_node)\n",
    "    \n",
    "    # fix names index (avoiding nulls)\n",
    "    NI[central_node] = set(NI[central_node]) & set(RECORDS_DATES.index)\n",
    "    \n",
    "    # Get max and min years to slice\n",
    "    min_year = RECORDS_DATES[NI[central_node]].min().year if min_year is None else min_year\n",
    "    max_year = RECORDS_DATES[NI[central_node]].max().year if max_year is None else max_year\n",
    "    \n",
    "    # Define years slices\n",
    "    years = pd.period_range(start=min_year,end=max_year,freq=freq)\n",
    "    slices = [ slice(str(years[i-1].year),str(years[i].year-1)) for i in range(1,len(years)) ]\n",
    "    slices.append(slice(str(years[-1].year), str(years[-1].year)))\n",
    "    \n",
    "    # Get layoyt and render frames\n",
    "    pos = nx.layout.spring_layout(egoNet, pos={central_node:(0,0)}, fixed=[central_node], center=(0,0))\n",
    "    return renderFrames( pos, list(egoNet.nodes()), slices, central_collector=collector, collaborations_only=True)"
   ]
  },
  {
   "cell_type": "code",
   "execution_count": 422,
   "metadata": {},
   "outputs": [],
   "source": [
    "f = collectorEvolution('munhoz,cbr',min_year=1989,freq='4A')\n",
    "f.axes[-1].get_xaxis().set_visible(False)\n",
    "f.axes[-1].get_yaxis().set_visible(False)"
   ]
  },
  {
   "cell_type": "code",
   "execution_count": 425,
   "metadata": {},
   "outputs": [],
   "source": [
    "#f.savefig('ub_cwn_munhoz_collabs.png',dpi=200, bbox_inches='tight')"
   ]
  }
 ],
 "metadata": {
  "kernelspec": {
   "display_name": "Python 3",
   "language": "python",
   "name": "python3"
  },
  "language_info": {
   "codemirror_mode": {
    "name": "ipython",
    "version": 3
   },
   "file_extension": ".py",
   "mimetype": "text/x-python",
   "name": "python",
   "nbconvert_exporter": "python",
   "pygments_lexer": "ipython3",
   "version": "3.6.5"
  }
 },
 "nbformat": 4,
 "nbformat_minor": 2
}
