{
 "cells": [
  {
   "cell_type": "markdown",
   "metadata": {},
   "source": [
    "# CWN general aspect figure"
   ]
  },
  {
   "cell_type": "code",
   "execution_count": 1,
   "metadata": {
    "collapsed": true
   },
   "outputs": [],
   "source": [
    "import paths"
   ]
  },
  {
   "cell_type": "code",
   "execution_count": 2,
   "metadata": {
    "collapsed": true
   },
   "outputs": [],
   "source": [
    "import networkx as nx\n",
    "import matplotlib.pyplot as plt\n",
    "from caryocar.models import CoworkingNetwork\n",
    "\n",
    "%matplotlib inline"
   ]
  },
  {
   "cell_type": "code",
   "execution_count": 134,
   "metadata": {
    "collapsed": true
   },
   "outputs": [],
   "source": [
    "recs = [\n",
    "    ( ['col1','col2','col3'], 'sp1'),\n",
    "    ( ['col3','col1','col2'], 'sp2'),\n",
    "    ( ['col1','col3'], 'sp3'),\n",
    "    ( ['col5','col4'], 'sp3'),\n",
    "    ( ['col5','col2'], 'sp3'),\n",
    "    ( ['col5','col6'], 'sp5'),\n",
    "    ( ['col5','col7'], 'sp4'),\n",
    "    ( ['col6','col7'], 'sp6'),\n",
    "    ( ['col6','col7'], 'sp7'),\n",
    "    ( ['col4','col8','col9'], 'sp4'),\n",
    "    ( ['col4','col9','col8'],'sp5'),\n",
    "    ( ['col10'],'sp6'),\n",
    "    ( ['col10'],'sp6')\n",
    "]"
   ]
  },
  {
   "cell_type": "code",
   "execution_count": 135,
   "metadata": {},
   "outputs": [],
   "source": [
    "cliques,spp = zip(*recs)"
   ]
  },
  {
   "cell_type": "code",
   "execution_count": 136,
   "metadata": {
    "collapsed": true
   },
   "outputs": [],
   "source": [
    "cwn = CoworkingNetwork(cliques=cliques,taxons=spp)"
   ]
  },
  {
   "cell_type": "code",
   "execution_count": 137,
   "metadata": {},
   "outputs": [
    {
     "data": {
      "text/plain": [
       "{'col1': Text(0.00871168,0.381737,'col1'),\n",
       " 'col10': Text(1,0.544643,'col10'),\n",
       " 'col2': Text(-0.0232011,0.190534,'col2'),\n",
       " 'col3': Text(0.116965,0.321962,'col3'),\n",
       " 'col4': Text(-0.10554,-0.325813,'col4'),\n",
       " 'col5': Text(-0.164111,-0.0510977,'col5'),\n",
       " 'col6': Text(-0.352424,-0.0817881,'col6'),\n",
       " 'col7': Text(-0.333768,0.0357147,'col7'),\n",
       " 'col8': Text(-0.133672,-0.519223,'col8'),\n",
       " 'col9': Text(-0.0129613,-0.496668,'col9')}"
      ]
     },
     "execution_count": 137,
     "metadata": {},
     "output_type": "execute_result"
    },
    {
     "data": {
      "image/png": "[encoded data removed]",
      "text/plain": [
       "<matplotlib.figure.Figure at 0x7fe14d4a16d8>"
      ]
     },
     "metadata": {},
     "output_type": "display_data"
    }
   ],
   "source": [
    "pos = nx.layout.fruchterman_reingold_layout(cwn)\n",
    "\n",
    "nodes,nodes_counts = zip(*cwn.nodes(data='count'))\n",
    "u,v,edges_counts = zip(*cwn.edges(data='count'))\n",
    "edges = list(zip(u,v))\n",
    "\n",
    "nx.draw_networkx_nodes(cwn, pos, nodes, [5*(1+w**2) for w in nodes_counts] )\n",
    "nx.draw_networkx_edges(cwn, pos, edges, [1*(0+w**1) for w in edges_counts])\n",
    "nx.draw_networkx_labels(cwn,pos)"
   ]
  },
  {
   "cell_type": "code",
   "execution_count": 138,
   "metadata": {},
   "outputs": [
    {
     "data": {
      "text/plain": [
       "EdgeDataView([('col2', 'col3', {'count': 2, 'taxons': ['sp1', 'sp2'], 'weight_hyperbolic': 1.0}), ('col2', 'col1', {'count': 2, 'taxons': ['sp1', 'sp2'], 'weight_hyperbolic': 1.0}), ('col2', 'col5', {'count': 1, 'taxons': ['sp3'], 'weight_hyperbolic': 1.0}), ('col3', 'col1', {'count': 3, 'taxons': ['sp1', 'sp2', 'sp3'], 'weight_hyperbolic': 2.0}), ('col4', 'col5', {'count': 1, 'taxons': ['sp3'], 'weight_hyperbolic': 1.0}), ('col4', 'col9', {'count': 2, 'taxons': ['sp4', 'sp5'], 'weight_hyperbolic': 1.0}), ('col4', 'col8', {'count': 2, 'taxons': ['sp4', 'sp5'], 'weight_hyperbolic': 1.0}), ('col5', 'col6', {'count': 1, 'taxons': ['sp5'], 'weight_hyperbolic': 1.0}), ('col5', 'col7', {'count': 1, 'taxons': ['sp4'], 'weight_hyperbolic': 1.0}), ('col6', 'col7', {'count': 2, 'taxons': ['sp6', 'sp7'], 'weight_hyperbolic': 2.0}), ('col8', 'col9', {'count': 2, 'taxons': ['sp4', 'sp5'], 'weight_hyperbolic': 1.0})])"
      ]
     },
     "execution_count": 138,
     "metadata": {},
     "output_type": "execute_result"
    }
   ],
   "source": [
    "cwn.edges(data=True)"
   ]
  },
  {
   "cell_type": "code",
   "execution_count": 89,
   "metadata": {
    "collapsed": true
   },
   "outputs": [],
   "source": [
    "nx.set_edge_attributes(cwn,values='None',name='taxons')"
   ]
  },
  {
   "cell_type": "code",
   "execution_count": 90,
   "metadata": {
    "collapsed": true
   },
   "outputs": [],
   "source": [
    "nx.write_gexf(cwn,'./cwn.gexf')"
   ]
  },
  {
   "cell_type": "code",
   "execution_count": 103,
   "metadata": {},
   "outputs": [],
   "source": [
    "m = nx.adj_matrix(cwn,weight='count').todense().tolist()"
   ]
  },
  {
   "cell_type": "code",
   "execution_count": 116,
   "metadata": {
    "collapsed": true
   },
   "outputs": [],
   "source": [
    "t=\"\"\n",
    "for i,row in enumerate(m):\n",
    "    t+=\"col\"+str(i+1)+\" & \"\n",
    "    for j,el in enumerate(row):\n",
    "        t+=str(el)+ (\" & \" if j<len(m)-1 else \"\\\\\\\\\")\n",
    "    t+=\"\\n\""
   ]
  },
  {
   "cell_type": "code",
   "execution_count": 118,
   "metadata": {},
   "outputs": [
    {
     "name": "stdout",
     "output_type": "stream",
     "text": [
      "col1 & 0 & 2 & 2 & 0 & 1 & 0 & 0 & 0 & 0 & 0\\\\\n",
      "col2 & 2 & 0 & 3 & 0 & 0 & 0 & 0 & 0 & 0 & 0\\\\\n",
      "col3 & 2 & 3 & 0 & 0 & 0 & 0 & 0 & 0 & 0 & 0\\\\\n",
      "col4 & 0 & 0 & 0 & 0 & 1 & 0 & 0 & 2 & 2 & 0\\\\\n",
      "col5 & 1 & 0 & 0 & 1 & 0 & 1 & 1 & 0 & 0 & 0\\\\\n",
      "col6 & 0 & 0 & 0 & 0 & 1 & 0 & 2 & 0 & 0 & 0\\\\\n",
      "col7 & 0 & 0 & 0 & 0 & 1 & 2 & 0 & 0 & 0 & 0\\\\\n",
      "col8 & 0 & 0 & 0 & 2 & 0 & 0 & 0 & 0 & 2 & 0\\\\\n",
      "col9 & 0 & 0 & 0 & 2 & 0 & 0 & 0 & 2 & 0 & 0\\\\\n",
      "col10 & 0 & 0 & 0 & 0 & 0 & 0 & 0 & 0 & 0 & 0\\\\\n",
      "\n"
     ]
    }
   ],
   "source": [
    "print(t)"
   ]
  },
  {
   "cell_type": "markdown",
   "metadata": {},
   "source": []
  },
  {
   "cell_type": "code",
   "execution_count": 24,
   "metadata": {},
   "outputs": [
    {
     "name": "stdout",
     "output_type": "stream",
     "text": [
      "/home/pedro/tese_lncc/notebooks\r\n"
     ]
    }
   ],
   "source": [
    "!pwd"
   ]
  },
  {
   "cell_type": "code",
   "execution_count": 133,
   "metadata": {},
   "outputs": [
    {
     "name": "stdout",
     "output_type": "stream",
     "text": [
      "0 & col1; col2; col3 & sp1\\\\ \n",
      "1 & col3; col1; col2 & sp2\\\\ \n",
      "2 & col1; col3 & sp3\\\\ \n",
      "3 & col5; col4 & sp3\\\\ \n",
      "4 & col5; col2 & sp3\\\\ \n",
      "5 & col5; col6 & sp5\\\\ \n",
      "6 & col5; col7 & sp4\\\\ \n",
      "7 & col6; col7 & sp6\\\\ \n",
      "8 & col6; col7 & sp7\\\\ \n",
      "9 & col4; col8; col9 & sp4\\\\ \n",
      "10 & col4; col9; col8 & sp5\\\\ \n",
      "11 & col10 & sp6\\\\ \n",
      "12 & col10 & sp6\n"
     ]
    }
   ],
   "source": [
    "t=\"\"\n",
    "cntr=0\n",
    "for cols,sp in recs:\n",
    "    t += str(cntr)+\" & \"\n",
    "    cntr+=1\n",
    "    t+='; '.join(cols) + \" & \" + sp\n",
    "    t+=\"\\\\\\\\ \\n\"\n",
    "\n",
    "t = t[:-4]\n",
    "print(t)"
   ]
  }
 ],
 "metadata": {
  "kernelspec": {
   "display_name": "Python 3",
   "language": "python",
   "name": "python3"
  },
  "language_info": {
   "codemirror_mode": {
    "name": "ipython",
    "version": 3
   },
   "file_extension": ".py",
   "mimetype": "text/x-python",
   "name": "python",
   "nbconvert_exporter": "python",
   "pygments_lexer": "ipython3",
   "version": "3.6.3"
  }
 },
 "nbformat": 4,
 "nbformat_minor": 2
}
